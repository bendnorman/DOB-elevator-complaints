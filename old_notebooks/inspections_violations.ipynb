{
 "cells": [
  {
   "cell_type": "code",
   "execution_count": 1,
   "metadata": {
    "collapsed": false
   },
   "outputs": [
    {
     "name": "stdout",
     "output_type": "stream",
     "text": [
      "PyTables is not installed. No support for HDF output.\n"
     ]
    }
   ],
   "source": [
    "from simpledbf import Dbf5\n",
    "\n",
    "import pandas as pd\n",
    "\n",
    "import geopandas as gpd\n",
    "\n",
    "from shapely.geometry import Point, Polygon\n",
    "\n",
    "import requests\n",
    "\n",
    "%matplotlib inline "
   ]
  },
  {
   "cell_type": "markdown",
   "metadata": {},
   "source": [
    "# Load DOB Inspections dataset"
   ]
  },
  {
   "cell_type": "code",
   "execution_count": 2,
   "metadata": {
    "collapsed": false
   },
   "outputs": [],
   "source": [
    "dbf = Dbf5('data/merge_footprints/merge_footprints.dbf')\n",
    "\n",
    "all_inspections = dbf.to_dataframe()"
   ]
  },
  {
   "cell_type": "code",
   "execution_count": 3,
   "metadata": {
    "collapsed": false
   },
   "outputs": [
    {
     "name": "stdout",
     "output_type": "stream",
     "text": [
      "120593\n",
      "['bin', 'dt_lstm', 'tm_lstm', 'shap_ln', 'shape_r', 'feat_cd', 'name', 'grondlv', 'doitt_d', 'cnstrc_', 'heghtrf', 'lststty', 'BiB', 'BIS_P_A', 'BIS_P_N', 'BIS_tt_', 'Boilers', 'Bldng_M', 'CnstrcD', 'CnstrcE', 'Cranes', 'DOBNOW_', 'ECB', 'ElctrcD', 'ElctrcE', 'Elevtrs', 'ERT', 'Facades', 'Illgl_C', 'Mtrl_Fl', 'Mch_C_E', 'PlmbngD', 'PlmbngE', 'QOL', 'Sstnblt', 'SWO', 'Tnnt_Hr', 'ttl_ccd', 'ttl_cmp', 'ttl_nsp', 'ttl_vlt', 'Vacate', 'Wrkr_Fl', 'WWOP', 'Latitud', 'Longitd', 'Borough', 'Address', 'BIS_Prf', 'Ttl_Prm', 'Total', 'cyclomd']\n"
     ]
    },
    {
     "data": {
      "text/html": [
       "<div>\n",
       "<style scoped>\n",
       "    .dataframe tbody tr th:only-of-type {\n",
       "        vertical-align: middle;\n",
       "    }\n",
       "\n",
       "    .dataframe tbody tr th {\n",
       "        vertical-align: top;\n",
       "    }\n",
       "\n",
       "    .dataframe thead th {\n",
       "        text-align: right;\n",
       "    }\n",
       "</style>\n",
       "<table border=\"1\" class=\"dataframe\">\n",
       "  <thead>\n",
       "    <tr style=\"text-align: right;\">\n",
       "      <th></th>\n",
       "      <th>dt_lstm</th>\n",
       "      <th>bin</th>\n",
       "      <th>Elevtrs</th>\n",
       "    </tr>\n",
       "  </thead>\n",
       "  <tbody>\n",
       "    <tr>\n",
       "      <th>0</th>\n",
       "      <td>2017/08/22</td>\n",
       "      <td>4299860.0</td>\n",
       "      <td>0.0</td>\n",
       "    </tr>\n",
       "    <tr>\n",
       "      <th>1</th>\n",
       "      <td>2017/08/22</td>\n",
       "      <td>4300452.0</td>\n",
       "      <td>0.0</td>\n",
       "    </tr>\n",
       "    <tr>\n",
       "      <th>2</th>\n",
       "      <td>2017/08/22</td>\n",
       "      <td>4305475.0</td>\n",
       "      <td>0.0</td>\n",
       "    </tr>\n",
       "    <tr>\n",
       "      <th>3</th>\n",
       "      <td>2017/08/22</td>\n",
       "      <td>4306537.0</td>\n",
       "      <td>0.0</td>\n",
       "    </tr>\n",
       "    <tr>\n",
       "      <th>4</th>\n",
       "      <td>2017/12/19</td>\n",
       "      <td>3413894.0</td>\n",
       "      <td>2.0</td>\n",
       "    </tr>\n",
       "  </tbody>\n",
       "</table>\n",
       "</div>"
      ],
      "text/plain": [
       "      dt_lstm        bin  Elevtrs\n",
       "0  2017/08/22  4299860.0      0.0\n",
       "1  2017/08/22  4300452.0      0.0\n",
       "2  2017/08/22  4305475.0      0.0\n",
       "3  2017/08/22  4306537.0      0.0\n",
       "4  2017/12/19  3413894.0      2.0"
      ]
     },
     "execution_count": 3,
     "metadata": {},
     "output_type": "execute_result"
    }
   ],
   "source": [
    "print(len(all_inspections))\n",
    "print(list(all_inspections))\n",
    "all_inspections.head()[['dt_lstm','bin', 'Elevtrs']]"
   ]
  },
  {
   "cell_type": "code",
   "execution_count": 4,
   "metadata": {
    "collapsed": false
   },
   "outputs": [
    {
     "data": {
      "text/plain": [
       "0.1669416964500427"
      ]
     },
     "execution_count": 4,
     "metadata": {},
     "output_type": "execute_result"
    }
   ],
   "source": [
    "all_inspections['Elevtrs'].mean()"
   ]
  },
  {
   "cell_type": "code",
   "execution_count": 5,
   "metadata": {
    "collapsed": false
   },
   "outputs": [
    {
     "name": "stdout",
     "output_type": "stream",
     "text": [
      "20132.0 elevators inspections in the last 12 months\n",
      "8184 buildings had elevator inspections in the last 12 months\n"
     ]
    }
   ],
   "source": [
    "#  Confirm these are the elevator inspections: https://www1.nyc.gov/assets/buildings/html/dob-building-profiles.html#\n",
    "elevator_inspections = all_inspections[all_inspections['Elevtrs'] != 0.0]\n",
    "print(\"{} elevators inspections in the last 12 months\".format(elevator_inspections['Elevtrs'].sum()))\n",
    "print(\"{} buildings had elevator inspections in the last 12 months\".format(len(elevator_inspections)))"
   ]
  },
  {
   "cell_type": "markdown",
   "metadata": {},
   "source": [
    "### Mini question: what is the date range on the DOB Inspection dataset?"
   ]
  },
  {
   "cell_type": "code",
   "execution_count": 6,
   "metadata": {
    "collapsed": false
   },
   "outputs": [
    {
     "name": "stdout",
     "output_type": "stream",
     "text": [
      "2009/02/14\n",
      "2018/08/31\n"
     ]
    },
    {
     "name": "stderr",
     "output_type": "stream",
     "text": [
      "/Users/apple/.virtualenvs/python36/lib/python3.6/site-packages/ipykernel_launcher.py:4: SettingWithCopyWarning: \n",
      "A value is trying to be set on a copy of a slice from a DataFrame.\n",
      "Try using .loc[row_indexer,col_indexer] = value instead\n",
      "\n",
      "See the caveats in the documentation: http://pandas.pydata.org/pandas-docs/stable/indexing.html#indexing-view-versus-copy\n",
      "  after removing the cwd from sys.path.\n"
     ]
    },
    {
     "data": {
      "text/plain": [
       "<matplotlib.axes._subplots.AxesSubplot at 0x125d0cf28>"
      ]
     },
     "execution_count": 6,
     "metadata": {},
     "output_type": "execute_result"
    },
    {
     "data": {
      "image/png": "[encoded data removed]",
      "text/plain": [
       "<Figure size 432x288 with 1 Axes>"
      ]
     },
     "metadata": {
      "needs_background": "light"
     },
     "output_type": "display_data"
    }
   ],
   "source": [
    "print(elevator_inspections['dt_lstm'].min())\n",
    "print(elevator_inspections['dt_lstm'].max())\n",
    "\n",
    "elevator_inspections['dt_lstm'] = elevator_inspections['dt_lstm'].astype(\"datetime64\")\n",
    "elevator_inspections.groupby(elevator_inspections[\"dt_lstm\"].dt.year).count()['bin'].plot(kind=\"bar\")"
   ]
  },
  {
   "cell_type": "markdown",
   "metadata": {},
   "source": [
    "### Mini question: what is the date range on the DOB Elevators Violations dataset?"
   ]
  },
  {
   "cell_type": "code",
   "execution_count": 7,
   "metadata": {
    "collapsed": false
   },
   "outputs": [
    {
     "name": "stderr",
     "output_type": "stream",
     "text": [
      "/Users/apple/.virtualenvs/python36/lib/python3.6/site-packages/IPython/core/interactiveshell.py:3044: DtypeWarning: Columns (1,3,5) have mixed types. Specify dtype option on import or set low_memory=False.\n",
      "  interactivity=interactivity, compiler=compiler, result=result)\n"
     ]
    },
    {
     "name": "stdout",
     "output_type": "stream",
     "text": [
      "Length with Nans: 2035211\n"
     ]
    }
   ],
   "source": [
    "all_violations = pd.read_csv('data/DOB_Violations.csv')\n",
    "print(f\"Length with Nans: {len(all_violations)}\")"
   ]
  },
  {
   "cell_type": "code",
   "execution_count": 8,
   "metadata": {
    "collapsed": false,
    "scrolled": false
   },
   "outputs": [
    {
     "data": {
      "text/plain": [
       "['ISN_DOB_BIS_VIOL',\n",
       " 'BORO',\n",
       " 'BIN',\n",
       " 'BLOCK',\n",
       " 'LOT',\n",
       " 'ISSUE_DATE',\n",
       " 'VIOLATION_TYPE_CODE',\n",
       " 'VIOLATION_NUMBER',\n",
       " 'HOUSE_NUMBER',\n",
       " 'STREET',\n",
       " 'DISPOSITION_DATE',\n",
       " 'DISPOSITION_COMMENTS',\n",
       " 'DEVICE_NUMBER',\n",
       " 'DESCRIPTION',\n",
       " 'ECB_NUMBER',\n",
       " 'NUMBER',\n",
       " 'VIOLATION_CATEGORY',\n",
       " 'VIOLATION_TYPE']"
      ]
     },
     "execution_count": 8,
     "metadata": {},
     "output_type": "execute_result"
    }
   ],
   "source": [
    "list(all_violations)"
   ]
  },
  {
   "cell_type": "code",
   "execution_count": 9,
   "metadata": {
    "collapsed": false
   },
   "outputs": [],
   "source": [
    "all_violations['ISSUE_DATE'] = pd.to_datetime(all_violations['ISSUE_DATE'], errors='coerce')\n",
    "all_violations = all_violations.dropna(subset=['ISSUE_DATE'])"
   ]
  },
  {
   "cell_type": "code",
   "execution_count": 10,
   "metadata": {
    "collapsed": false
   },
   "outputs": [
    {
     "name": "stdout",
     "output_type": "stream",
     "text": [
      "2035155\n"
     ]
    }
   ],
   "source": [
    "print(len(all_violations))"
   ]
  },
  {
   "cell_type": "markdown",
   "metadata": {},
   "source": [
    "## Plot frequency of types of violations"
   ]
  },
  {
   "cell_type": "code",
   "execution_count": 11,
   "metadata": {
    "collapsed": false
   },
   "outputs": [
    {
     "data": {
      "text/plain": [
       "<matplotlib.axes._subplots.AxesSubplot at 0x125cea9e8>"
      ]
     },
     "execution_count": 11,
     "metadata": {},
     "output_type": "execute_result"
    },
    {
     "data": {
      "image/png": "[encoded data removed]",
      "text/plain": [
       "<Figure size 432x288 with 1 Axes>"
      ]
     },
     "metadata": {
      "needs_background": "light"
     },
     "output_type": "display_data"
    }
   ],
   "source": [
    "all_violations.groupby('VIOLATION_TYPE_CODE').count()['BIN'].plot('bar')"
   ]
  },
  {
   "cell_type": "markdown",
   "metadata": {},
   "source": [
    "## Look at violations after 2000\n",
    "Doing this because a lot of violations are being grouped into 1970 and 1901 for some reason"
   ]
  },
  {
   "cell_type": "code",
   "execution_count": 12,
   "metadata": {
    "collapsed": false
   },
   "outputs": [
    {
     "name": "stdout",
     "output_type": "stream",
     "text": [
      "Length of all_violations after date cutoff 599112\n"
     ]
    }
   ],
   "source": [
    "cut_off_date = '2000-01-01'\n",
    "all_violations = all_violations[all_violations['ISSUE_DATE'] > cut_off_date]\n",
    "print(\"Length of all_violations after date cutoff {}\".format(len(all_violations)))"
   ]
  },
  {
   "cell_type": "markdown",
   "metadata": {},
   "source": [
    "# Look at just Boiler dates"
   ]
  },
  {
   "cell_type": "code",
   "execution_count": 13,
   "metadata": {
    "collapsed": false
   },
   "outputs": [
    {
     "name": "stdout",
     "output_type": "stream",
     "text": [
      "176\n"
     ]
    }
   ],
   "source": [
    "boiler_violations = all_violations[all_violations['VIOLATION_TYPE_CODE']  == 'B']\n",
    "print(len(boiler_violations))"
   ]
  },
  {
   "cell_type": "code",
   "execution_count": 14,
   "metadata": {
    "collapsed": false
   },
   "outputs": [
    {
     "name": "stdout",
     "output_type": "stream",
     "text": [
      "Min: 2000-02-07 00:00:00\n",
      "Max: 2018-10-09 00:00:00\n"
     ]
    },
    {
     "data": {
      "text/plain": [
       "<matplotlib.axes._subplots.AxesSubplot at 0x163de61d0>"
      ]
     },
     "execution_count": 14,
     "metadata": {},
     "output_type": "execute_result"
    },
    {
     "data": {
      "image/png": "[encoded data removed]",
      "text/plain": [
       "<Figure size 432x288 with 1 Axes>"
      ]
     },
     "metadata": {
      "needs_background": "light"
     },
     "output_type": "display_data"
    }
   ],
   "source": [
    "print(\"Min: {}\".format(boiler_violations['ISSUE_DATE'].min()))\n",
    "print(\"Max: {}\".format(boiler_violations['ISSUE_DATE'].max()))\n",
    "\n",
    "boiler_violations.groupby(boiler_violations['ISSUE_DATE'].dt.year).count()['BIN'].plot(kind=\"bar\")"
   ]
  },
  {
   "cell_type": "markdown",
   "metadata": {},
   "source": [
    "# Look at just Elevator dates"
   ]
  },
  {
   "cell_type": "code",
   "execution_count": 15,
   "metadata": {
    "collapsed": false
   },
   "outputs": [
    {
     "name": "stdout",
     "output_type": "stream",
     "text": [
      "227005\n"
     ]
    }
   ],
   "source": [
    "elevator_violations = all_violations[all_violations['VIOLATION_TYPE_CODE']  == 'E']\n",
    "print(len(elevator_violations))"
   ]
  },
  {
   "cell_type": "code",
   "execution_count": 16,
   "metadata": {
    "collapsed": false
   },
   "outputs": [
    {
     "name": "stdout",
     "output_type": "stream",
     "text": [
      "Min: 2000-01-03 00:00:00\n",
      "Max: 2019-04-17 00:00:00\n"
     ]
    },
    {
     "data": {
      "text/plain": [
       "<matplotlib.axes._subplots.AxesSubplot at 0x162c64048>"
      ]
     },
     "execution_count": 16,
     "metadata": {},
     "output_type": "execute_result"
    },
    {
     "data": {
      "image/png": "[encoded data removed]",
      "text/plain": [
       "<Figure size 432x288 with 1 Axes>"
      ]
     },
     "metadata": {
      "needs_background": "light"
     },
     "output_type": "display_data"
    }
   ],
   "source": [
    "print(\"Min: {}\".format(elevator_violations['ISSUE_DATE'].min()))\n",
    "print(\"Max: {}\".format(elevator_violations['ISSUE_DATE'].max()))\n",
    "\n",
    "elevator_violations.groupby(elevator_violations['ISSUE_DATE'].dt.year).count()['BIN'].plot(kind=\"bar\")"
   ]
  },
  {
   "cell_type": "markdown",
   "metadata": {
    "collapsed": true
   },
   "source": [
    "# Look at Boiler Inspections from: \n",
    "https://data.cityofnewyork.us/Housing-Development/DOB-NOW-Safety-Boiler/52dp-yji6"
   ]
  },
  {
   "cell_type": "code",
   "execution_count": 17,
   "metadata": {
    "collapsed": false
   },
   "outputs": [],
   "source": [
    "boiler_now_inspections = pd.read_csv(\"data/DOB_NOW_Boiler_Safety.csv\")"
   ]
  },
  {
   "cell_type": "code",
   "execution_count": 18,
   "metadata": {
    "collapsed": false
   },
   "outputs": [
    {
     "data": {
      "text/plain": [
       "['Tracking Number',\n",
       " 'Boiler ID',\n",
       " 'Report Type',\n",
       " 'ApplicantFirst Name',\n",
       " 'Applicant Last Name',\n",
       " 'Applicant License Type',\n",
       " 'Applicant License Number',\n",
       " 'Owner First Name',\n",
       " 'Owner Last Name',\n",
       " 'Boiler Make',\n",
       " 'Boiler Model',\n",
       " 'Pressure Type',\n",
       " 'Inspection Type',\n",
       " 'Inspection Date',\n",
       " 'Defects Exist',\n",
       " 'LFF (45 Days)',\n",
       " 'LFF (180 Days)',\n",
       " 'Filing Fee',\n",
       " 'Total Amount Paid',\n",
       " 'Report Status',\n",
       " 'Bin Number']"
      ]
     },
     "execution_count": 18,
     "metadata": {},
     "output_type": "execute_result"
    }
   ],
   "source": [
    "list(boiler_now_inspections)"
   ]
  },
  {
   "cell_type": "markdown",
   "metadata": {},
   "source": [
    "# Look at these suckers over time"
   ]
  },
  {
   "cell_type": "code",
   "execution_count": 19,
   "metadata": {
    "collapsed": false
   },
   "outputs": [
    {
     "data": {
      "text/plain": [
       "<matplotlib.axes._subplots.AxesSubplot at 0x14ae10208>"
      ]
     },
     "execution_count": 19,
     "metadata": {},
     "output_type": "execute_result"
    },
    {
     "data": {
      "image/png": "[encoded data removed]",
      "text/plain": [
       "<Figure size 432x288 with 1 Axes>"
      ]
     },
     "metadata": {
      "needs_background": "light"
     },
     "output_type": "display_data"
    }
   ],
   "source": [
    "boiler_now_inspections['Inspection Date'] = pd.to_datetime(boiler_now_inspections['Inspection Date'])\n",
    "boiler_now_inspections.groupby(boiler_now_inspections['Inspection Date'].dt.year).count()['Bin Number'].plot('bar')"
   ]
  },
  {
   "cell_type": "code",
   "execution_count": 20,
   "metadata": {
    "collapsed": false
   },
   "outputs": [
    {
     "name": "stdout",
     "output_type": "stream",
     "text": [
      "13764\n",
      "169583\n"
     ]
    },
    {
     "data": {
      "text/plain": [
       "8.116379589935312"
      ]
     },
     "execution_count": 20,
     "metadata": {},
     "output_type": "execute_result"
    }
   ],
   "source": [
    "defected_boilers = boiler_now_inspections[boiler_now_inspections['Defects Exist'] == 'Yes']\n",
    "\n",
    "print(len(defected_boilers))\n",
    "print(len(boiler_now_inspections))\n",
    "len(defected_boilers) / len(boiler_now_inspections) * 100"
   ]
  },
  {
   "cell_type": "code",
   "execution_count": 21,
   "metadata": {
    "collapsed": false,
    "scrolled": true
   },
   "outputs": [
    {
     "data": {
      "text/plain": [
       "<matplotlib.axes._subplots.AxesSubplot at 0x1445abc50>"
      ]
     },
     "execution_count": 21,
     "metadata": {},
     "output_type": "execute_result"
    },
    {
     "data": {
      "image/png": "[encoded data removed]",
      "text/plain": [
       "<Figure size 432x288 with 1 Axes>"
      ]
     },
     "metadata": {
      "needs_background": "light"
     },
     "output_type": "display_data"
    }
   ],
   "source": [
    "defected_boilers.groupby(defected_boilers['Inspection Date'].dt.month).count()['Bin Number'].plot('bar')"
   ]
  },
  {
   "cell_type": "markdown",
   "metadata": {},
   "source": [
    "So it seems like month could be a good feature"
   ]
  },
  {
   "cell_type": "markdown",
   "metadata": {},
   "source": [
    "# What types of boilers have defects?"
   ]
  },
  {
   "cell_type": "code",
   "execution_count": 22,
   "metadata": {
    "collapsed": false,
    "scrolled": true
   },
   "outputs": [
    {
     "data": {
      "text/html": [
       "<div>\n",
       "<style scoped>\n",
       "    .dataframe tbody tr th:only-of-type {\n",
       "        vertical-align: middle;\n",
       "    }\n",
       "\n",
       "    .dataframe tbody tr th {\n",
       "        vertical-align: top;\n",
       "    }\n",
       "\n",
       "    .dataframe thead th {\n",
       "        text-align: right;\n",
       "    }\n",
       "</style>\n",
       "<table border=\"1\" class=\"dataframe\">\n",
       "  <thead>\n",
       "    <tr style=\"text-align: right;\">\n",
       "      <th></th>\n",
       "      <th>Bin Number</th>\n",
       "    </tr>\n",
       "    <tr>\n",
       "      <th>Boiler Make</th>\n",
       "      <th></th>\n",
       "    </tr>\n",
       "  </thead>\n",
       "  <tbody>\n",
       "    <tr>\n",
       "      <th>.............</th>\n",
       "      <td>2</td>\n",
       "    </tr>\n",
       "    <tr>\n",
       "      <th>175000</th>\n",
       "      <td>1</td>\n",
       "    </tr>\n",
       "    <tr>\n",
       "      <th>19 HE-5</th>\n",
       "      <td>2</td>\n",
       "    </tr>\n",
       "    <tr>\n",
       "      <th>2 FEDERAL</th>\n",
       "      <td>1</td>\n",
       "    </tr>\n",
       "    <tr>\n",
       "      <th>2006</th>\n",
       "      <td>2</td>\n",
       "    </tr>\n",
       "  </tbody>\n",
       "</table>\n",
       "</div>"
      ],
      "text/plain": [
       "               Bin Number\n",
       "Boiler Make              \n",
       ".............           2\n",
       "175000                  1\n",
       "19 HE-5                 2\n",
       "2 FEDERAL               1\n",
       "2006                    2"
      ]
     },
     "execution_count": 22,
     "metadata": {},
     "output_type": "execute_result"
    }
   ],
   "source": [
    "boiler_inspections_by_make = boiler_now_inspections.groupby(boiler_now_inspections['Boiler Make']).count()['Bin Number']\n",
    "boiler_inspections_by_make = pd.DataFrame(boiler_inspections_by_make)\n",
    "boiler_inspections_by_make.head()"
   ]
  },
  {
   "cell_type": "code",
   "execution_count": 23,
   "metadata": {
    "collapsed": false
   },
   "outputs": [],
   "source": [
    "boiler_defects_by_make = defected_boilers.groupby(defected_boilers['Boiler Make']).count()['Bin Number']"
   ]
  },
  {
   "cell_type": "code",
   "execution_count": 24,
   "metadata": {
    "collapsed": false
   },
   "outputs": [
    {
     "data": {
      "text/plain": [
       "Index(['A O SMITH', 'A OSMITH', 'A.L. EASTMOND', 'A.L.EASTMOND', 'A.O. SMITH'], dtype='object', name='Boiler Make')"
      ]
     },
     "execution_count": 24,
     "metadata": {},
     "output_type": "execute_result"
    }
   ],
   "source": [
    "boiler_defects_by_make = pd.DataFrame(boiler_defects_by_make)\n",
    "boiler_defects_by_make.head().index"
   ]
  },
  {
   "cell_type": "code",
   "execution_count": 44,
   "metadata": {
    "collapsed": true
   },
   "outputs": [],
   "source": [
    "def create_boiler_make_ratios(row):\n",
    "#     print(row.name)\n",
    "#     print(type(row))\n",
    "    total_of_make = boiler_inspections_by_make[boiler_inspections_by_make.index == row.name]['Bin Number']\n",
    "#     print(total_of_make)\n",
    "#     print(type(total_of_make))\n",
    "#     print(row['Bin Number'] / total_of_make.values)\n",
    "#     print()\n",
    "#     print(row['Bin Number'])\n",
    "#     print(type(row['Bin Number']))\n",
    "#     print(\"-------\")\n",
    "    \n",
    "    return float(row['Bin Number'] / total_of_make.values) #total of that make"
   ]
  },
  {
   "cell_type": "code",
   "execution_count": 48,
   "metadata": {
    "collapsed": false,
    "scrolled": false
   },
   "outputs": [],
   "source": [
    "boiler_defects_by_make['Make Defect Ratio'] = boiler_defects_by_make.apply(lambda row: create_boiler_make_ratios(row), axis=1)"
   ]
  },
  {
   "cell_type": "code",
   "execution_count": 65,
   "metadata": {
    "collapsed": false
   },
   "outputs": [
    {
     "data": {
      "text/html": [
       "<div>\n",
       "<style scoped>\n",
       "    .dataframe tbody tr th:only-of-type {\n",
       "        vertical-align: middle;\n",
       "    }\n",
       "\n",
       "    .dataframe tbody tr th {\n",
       "        vertical-align: top;\n",
       "    }\n",
       "\n",
       "    .dataframe thead th {\n",
       "        text-align: right;\n",
       "    }\n",
       "</style>\n",
       "<table border=\"1\" class=\"dataframe\">\n",
       "  <thead>\n",
       "    <tr style=\"text-align: right;\">\n",
       "      <th></th>\n",
       "      <th>Bin Number</th>\n",
       "      <th>Make Defect Ratio</th>\n",
       "    </tr>\n",
       "    <tr>\n",
       "      <th>Boiler Make</th>\n",
       "      <th></th>\n",
       "      <th></th>\n",
       "    </tr>\n",
       "  </thead>\n",
       "  <tbody>\n",
       "    <tr>\n",
       "      <th>SLANT/FIN CG-375 HEC</th>\n",
       "      <td>1</td>\n",
       "      <td>1.000000</td>\n",
       "    </tr>\n",
       "    <tr>\n",
       "      <th>NAT'L. RAD</th>\n",
       "      <td>1</td>\n",
       "      <td>1.000000</td>\n",
       "    </tr>\n",
       "    <tr>\n",
       "      <th>NEW HB SMITH</th>\n",
       "      <td>1</td>\n",
       "      <td>1.000000</td>\n",
       "    </tr>\n",
       "    <tr>\n",
       "      <th>FEDERAL FST-300</th>\n",
       "      <td>1</td>\n",
       "      <td>1.000000</td>\n",
       "    </tr>\n",
       "    <tr>\n",
       "      <th>NATCO BOIL</th>\n",
       "      <td>1</td>\n",
       "      <td>1.000000</td>\n",
       "    </tr>\n",
       "    <tr>\n",
       "      <th>FERRAR &amp; TREF</th>\n",
       "      <td>2</td>\n",
       "      <td>1.000000</td>\n",
       "    </tr>\n",
       "    <tr>\n",
       "      <th>UNITED   255</th>\n",
       "      <td>2</td>\n",
       "      <td>1.000000</td>\n",
       "    </tr>\n",
       "    <tr>\n",
       "      <th>BESTBOILER</th>\n",
       "      <td>1</td>\n",
       "      <td>1.000000</td>\n",
       "    </tr>\n",
       "    <tr>\n",
       "      <th>FERRAR &amp; TREFTS</th>\n",
       "      <td>3</td>\n",
       "      <td>1.000000</td>\n",
       "    </tr>\n",
       "    <tr>\n",
       "      <th>UNITED RADIAT</th>\n",
       "      <td>2</td>\n",
       "      <td>1.000000</td>\n",
       "    </tr>\n",
       "    <tr>\n",
       "      <th>AOD</th>\n",
       "      <td>1</td>\n",
       "      <td>1.000000</td>\n",
       "    </tr>\n",
       "    <tr>\n",
       "      <th>FIRETUBE</th>\n",
       "      <td>1</td>\n",
       "      <td>1.000000</td>\n",
       "    </tr>\n",
       "    <tr>\n",
       "      <th>FRANK PROX</th>\n",
       "      <td>3</td>\n",
       "      <td>1.000000</td>\n",
       "    </tr>\n",
       "    <tr>\n",
       "      <th>FRANKPR</th>\n",
       "      <td>2</td>\n",
       "      <td>1.000000</td>\n",
       "    </tr>\n",
       "    <tr>\n",
       "      <th>FT FEDERAL</th>\n",
       "      <td>2</td>\n",
       "      <td>1.000000</td>\n",
       "    </tr>\n",
       "    <tr>\n",
       "      <th>US NATIONAL N</th>\n",
       "      <td>2</td>\n",
       "      <td>1.000000</td>\n",
       "    </tr>\n",
       "    <tr>\n",
       "      <th>AWR</th>\n",
       "      <td>2</td>\n",
       "      <td>1.000000</td>\n",
       "    </tr>\n",
       "    <tr>\n",
       "      <th>UTICA MAGB300</th>\n",
       "      <td>4</td>\n",
       "      <td>1.000000</td>\n",
       "    </tr>\n",
       "    <tr>\n",
       "      <th>BURNHAM IN-4</th>\n",
       "      <td>2</td>\n",
       "      <td>1.000000</td>\n",
       "    </tr>\n",
       "    <tr>\n",
       "      <th>FEDERAL FLW 6071</th>\n",
       "      <td>2</td>\n",
       "      <td>1.000000</td>\n",
       "    </tr>\n",
       "    <tr>\n",
       "      <th>HYDROHERM</th>\n",
       "      <td>1</td>\n",
       "      <td>1.000000</td>\n",
       "    </tr>\n",
       "    <tr>\n",
       "      <th>BURNHAM-SIN-5</th>\n",
       "      <td>1</td>\n",
       "      <td>1.000000</td>\n",
       "    </tr>\n",
       "    <tr>\n",
       "      <th>CROWN &amp; DUNKI</th>\n",
       "      <td>2</td>\n",
       "      <td>1.000000</td>\n",
       "    </tr>\n",
       "    <tr>\n",
       "      <th>CLIFF</th>\n",
       "      <td>1</td>\n",
       "      <td>1.000000</td>\n",
       "    </tr>\n",
       "    <tr>\n",
       "      <th>ROCKMILLS MD-</th>\n",
       "      <td>2</td>\n",
       "      <td>1.000000</td>\n",
       "    </tr>\n",
       "    <tr>\n",
       "      <th>DUDERUS</th>\n",
       "      <td>2</td>\n",
       "      <td>1.000000</td>\n",
       "    </tr>\n",
       "    <tr>\n",
       "      <th>CLEAVER BROOKS D-34-</th>\n",
       "      <td>1</td>\n",
       "      <td>1.000000</td>\n",
       "    </tr>\n",
       "    <tr>\n",
       "      <th>CLEAVER BROOKS CB 20</th>\n",
       "      <td>1</td>\n",
       "      <td>1.000000</td>\n",
       "    </tr>\n",
       "    <tr>\n",
       "      <th>DUNNKIRK</th>\n",
       "      <td>2</td>\n",
       "      <td>1.000000</td>\n",
       "    </tr>\n",
       "    <tr>\n",
       "      <th>RICHARSON</th>\n",
       "      <td>1</td>\n",
       "      <td>1.000000</td>\n",
       "    </tr>\n",
       "    <tr>\n",
       "      <th>...</th>\n",
       "      <td>...</td>\n",
       "      <td>...</td>\n",
       "    </tr>\n",
       "    <tr>\n",
       "      <th>NEW SMITH</th>\n",
       "      <td>2</td>\n",
       "      <td>0.666667</td>\n",
       "    </tr>\n",
       "    <tr>\n",
       "      <th>UNLUX</th>\n",
       "      <td>2</td>\n",
       "      <td>0.666667</td>\n",
       "    </tr>\n",
       "    <tr>\n",
       "      <th>FULTON 50011</th>\n",
       "      <td>2</td>\n",
       "      <td>0.666667</td>\n",
       "    </tr>\n",
       "    <tr>\n",
       "      <th>AMES IRON WORKS</th>\n",
       "      <td>10</td>\n",
       "      <td>0.625000</td>\n",
       "    </tr>\n",
       "    <tr>\n",
       "      <th>FULTON NB#67100</th>\n",
       "      <td>3</td>\n",
       "      <td>0.600000</td>\n",
       "    </tr>\n",
       "    <tr>\n",
       "      <th>AMES IRON WOR</th>\n",
       "      <td>3</td>\n",
       "      <td>0.600000</td>\n",
       "    </tr>\n",
       "    <tr>\n",
       "      <th>CYCLOTHM</th>\n",
       "      <td>10</td>\n",
       "      <td>0.588235</td>\n",
       "    </tr>\n",
       "    <tr>\n",
       "      <th>SUPERIOR BOILER WORK</th>\n",
       "      <td>7</td>\n",
       "      <td>0.538462</td>\n",
       "    </tr>\n",
       "    <tr>\n",
       "      <th>HB SMITH 28-11</th>\n",
       "      <td>2</td>\n",
       "      <td>0.500000</td>\n",
       "    </tr>\n",
       "    <tr>\n",
       "      <th>CYCLOTHE</th>\n",
       "      <td>2</td>\n",
       "      <td>0.500000</td>\n",
       "    </tr>\n",
       "    <tr>\n",
       "      <th>CROWN ABF</th>\n",
       "      <td>1</td>\n",
       "      <td>0.500000</td>\n",
       "    </tr>\n",
       "    <tr>\n",
       "      <th>P KELLY</th>\n",
       "      <td>4</td>\n",
       "      <td>0.500000</td>\n",
       "    </tr>\n",
       "    <tr>\n",
       "      <th>PACIFIC ELEC</th>\n",
       "      <td>1</td>\n",
       "      <td>0.500000</td>\n",
       "    </tr>\n",
       "    <tr>\n",
       "      <th>EASCO   FTSM</th>\n",
       "      <td>1</td>\n",
       "      <td>0.500000</td>\n",
       "    </tr>\n",
       "    <tr>\n",
       "      <th>COMPAK</th>\n",
       "      <td>1</td>\n",
       "      <td>0.500000</td>\n",
       "    </tr>\n",
       "    <tr>\n",
       "      <th>PEERLESS 61-07-STDG-</th>\n",
       "      <td>1</td>\n",
       "      <td>0.500000</td>\n",
       "    </tr>\n",
       "    <tr>\n",
       "      <th>DON LEE</th>\n",
       "      <td>2</td>\n",
       "      <td>0.500000</td>\n",
       "    </tr>\n",
       "    <tr>\n",
       "      <th>ROCKMILLS MP-30</th>\n",
       "      <td>1</td>\n",
       "      <td>0.500000</td>\n",
       "    </tr>\n",
       "    <tr>\n",
       "      <th>FEDERAL FST 100</th>\n",
       "      <td>1</td>\n",
       "      <td>0.500000</td>\n",
       "    </tr>\n",
       "    <tr>\n",
       "      <th>RBI33- SWO4OONS0ASPS</th>\n",
       "      <td>1</td>\n",
       "      <td>0.500000</td>\n",
       "    </tr>\n",
       "    <tr>\n",
       "      <th>F &amp; T</th>\n",
       "      <td>2</td>\n",
       "      <td>0.500000</td>\n",
       "    </tr>\n",
       "    <tr>\n",
       "      <th>FULTON NB#62287</th>\n",
       "      <td>1</td>\n",
       "      <td>0.500000</td>\n",
       "    </tr>\n",
       "    <tr>\n",
       "      <th>FULTON 65477</th>\n",
       "      <td>1</td>\n",
       "      <td>0.500000</td>\n",
       "    </tr>\n",
       "    <tr>\n",
       "      <th>FULTON 54649</th>\n",
       "      <td>2</td>\n",
       "      <td>0.500000</td>\n",
       "    </tr>\n",
       "    <tr>\n",
       "      <th>PVI INDUSTRIE</th>\n",
       "      <td>1</td>\n",
       "      <td>0.500000</td>\n",
       "    </tr>\n",
       "    <tr>\n",
       "      <th>COMBUSTION ENG</th>\n",
       "      <td>2</td>\n",
       "      <td>0.500000</td>\n",
       "    </tr>\n",
       "    <tr>\n",
       "      <th>HTDROTHERM</th>\n",
       "      <td>1</td>\n",
       "      <td>0.500000</td>\n",
       "    </tr>\n",
       "    <tr>\n",
       "      <th>HEAT TRANSFER PRODUC</th>\n",
       "      <td>2</td>\n",
       "      <td>0.500000</td>\n",
       "    </tr>\n",
       "    <tr>\n",
       "      <th>GIBRALTR</th>\n",
       "      <td>1</td>\n",
       "      <td>0.500000</td>\n",
       "    </tr>\n",
       "    <tr>\n",
       "      <th>GILBRALTAR</th>\n",
       "      <td>3</td>\n",
       "      <td>0.500000</td>\n",
       "    </tr>\n",
       "  </tbody>\n",
       "</table>\n",
       "<p>100 rows × 2 columns</p>\n",
       "</div>"
      ],
      "text/plain": [
       "                      Bin Number  Make Defect Ratio\n",
       "Boiler Make                                        \n",
       "SLANT/FIN CG-375 HEC           1           1.000000\n",
       "NAT'L. RAD                     1           1.000000\n",
       "NEW HB SMITH                   1           1.000000\n",
       "FEDERAL FST-300                1           1.000000\n",
       "NATCO BOIL                     1           1.000000\n",
       "FERRAR & TREF                  2           1.000000\n",
       "UNITED   255                   2           1.000000\n",
       "BESTBOILER                     1           1.000000\n",
       "FERRAR & TREFTS                3           1.000000\n",
       "UNITED RADIAT                  2           1.000000\n",
       "AOD                            1           1.000000\n",
       "FIRETUBE                       1           1.000000\n",
       "FRANK PROX                     3           1.000000\n",
       "FRANKPR                        2           1.000000\n",
       "FT FEDERAL                     2           1.000000\n",
       "US NATIONAL N                  2           1.000000\n",
       "AWR                            2           1.000000\n",
       "UTICA MAGB300                  4           1.000000\n",
       "BURNHAM IN-4                   2           1.000000\n",
       "FEDERAL FLW 6071               2           1.000000\n",
       "HYDROHERM                      1           1.000000\n",
       "BURNHAM-SIN-5                  1           1.000000\n",
       "CROWN & DUNKI                  2           1.000000\n",
       "CLIFF                          1           1.000000\n",
       "ROCKMILLS MD-                  2           1.000000\n",
       "DUDERUS                        2           1.000000\n",
       "CLEAVER BROOKS D-34-           1           1.000000\n",
       "CLEAVER BROOKS CB 20           1           1.000000\n",
       "DUNNKIRK                       2           1.000000\n",
       "RICHARSON                      1           1.000000\n",
       "...                          ...                ...\n",
       "NEW SMITH                      2           0.666667\n",
       "UNLUX                          2           0.666667\n",
       "FULTON 50011                   2           0.666667\n",
       "AMES IRON WORKS               10           0.625000\n",
       "FULTON NB#67100                3           0.600000\n",
       "AMES IRON WOR                  3           0.600000\n",
       "CYCLOTHM                      10           0.588235\n",
       "SUPERIOR BOILER WORK           7           0.538462\n",
       "HB SMITH 28-11                 2           0.500000\n",
       "CYCLOTHE                       2           0.500000\n",
       "CROWN ABF                      1           0.500000\n",
       "P KELLY                        4           0.500000\n",
       "PACIFIC ELEC                   1           0.500000\n",
       "EASCO   FTSM                   1           0.500000\n",
       "COMPAK                         1           0.500000\n",
       "PEERLESS 61-07-STDG-           1           0.500000\n",
       "DON LEE                        2           0.500000\n",
       "ROCKMILLS MP-30                1           0.500000\n",
       "FEDERAL FST 100                1           0.500000\n",
       "RBI33- SWO4OONS0ASPS           1           0.500000\n",
       "F & T                          2           0.500000\n",
       "FULTON NB#62287                1           0.500000\n",
       "FULTON 65477                   1           0.500000\n",
       "FULTON 54649                   2           0.500000\n",
       "PVI INDUSTRIE                  1           0.500000\n",
       "COMBUSTION ENG                 2           0.500000\n",
       "HTDROTHERM                     1           0.500000\n",
       "HEAT TRANSFER PRODUC           2           0.500000\n",
       "GIBRALTR                       1           0.500000\n",
       "GILBRALTAR                     3           0.500000\n",
       "\n",
       "[100 rows x 2 columns]"
      ]
     },
     "execution_count": 65,
     "metadata": {},
     "output_type": "execute_result"
    }
   ],
   "source": [
    "boiler_defects_by_make.sort_values(by=['Make Defect Ratio'], ascending=False).head(100)"
   ]
  },
  {
   "cell_type": "markdown",
   "metadata": {},
   "source": [
    "# Where are these defects happening?"
   ]
  },
  {
   "cell_type": "code",
   "execution_count": null,
   "metadata": {
    "collapsed": true
   },
   "outputs": [],
   "source": []
  },
  {
   "cell_type": "code",
   "execution_count": null,
   "metadata": {
    "collapsed": true
   },
   "outputs": [],
   "source": []
  },
  {
   "cell_type": "code",
   "execution_count": null,
   "metadata": {
    "collapsed": true
   },
   "outputs": [],
   "source": []
  },
  {
   "cell_type": "code",
   "execution_count": null,
   "metadata": {
    "collapsed": true
   },
   "outputs": [],
   "source": []
  },
  {
   "cell_type": "code",
   "execution_count": null,
   "metadata": {
    "collapsed": true
   },
   "outputs": [],
   "source": []
  },
  {
   "cell_type": "code",
   "execution_count": null,
   "metadata": {
    "collapsed": true
   },
   "outputs": [],
   "source": []
  },
  {
   "cell_type": "code",
   "execution_count": null,
   "metadata": {
    "collapsed": true
   },
   "outputs": [],
   "source": []
  },
  {
   "cell_type": "markdown",
   "metadata": {},
   "source": [
    "# Find intersection of elevator inspections and violations\n",
    "We want to do this so we can sus out elevator inspections that did not result in a violation (our negative labels)"
   ]
  },
  {
   "cell_type": "code",
   "execution_count": 28,
   "metadata": {
    "collapsed": false
   },
   "outputs": [
    {
     "data": {
      "text/plain": [
       "<matplotlib.axes._subplots.AxesSubplot at 0x1338b1080>"
      ]
     },
     "execution_count": 28,
     "metadata": {},
     "output_type": "execute_result"
    },
    {
     "data": {
      "image/png": "[encoded data removed]",
      "text/plain": [
       "<Figure size 432x288 with 1 Axes>"
      ]
     },
     "metadata": {
      "needs_background": "light"
     },
     "output_type": "display_data"
    }
   ],
   "source": [
    "elevator_inspections.groupby('Elevtrs').count()['bin'].plot('bar')"
   ]
  },
  {
   "cell_type": "code",
   "execution_count": 29,
   "metadata": {
    "collapsed": false
   },
   "outputs": [],
   "source": [
    "elevator_inspections = elevator_inspections.set_index('bin')"
   ]
  },
  {
   "cell_type": "code",
   "execution_count": 30,
   "metadata": {
    "collapsed": true
   },
   "outputs": [],
   "source": [
    "elevator_violations = elevator_violations.set_index('BIN')"
   ]
  },
  {
   "cell_type": "code",
   "execution_count": null,
   "metadata": {
    "collapsed": true
   },
   "outputs": [],
   "source": []
  },
  {
   "cell_type": "code",
   "execution_count": null,
   "metadata": {
    "collapsed": false
   },
   "outputs": [],
   "source": []
  },
  {
   "cell_type": "code",
   "execution_count": null,
   "metadata": {
    "collapsed": true
   },
   "outputs": [],
   "source": []
  },
  {
   "cell_type": "code",
   "execution_count": null,
   "metadata": {
    "collapsed": true
   },
   "outputs": [],
   "source": []
  },
  {
   "cell_type": "markdown",
   "metadata": {
    "collapsed": true
   },
   "source": [
    "### "
   ]
  }
 ],
 "metadata": {
  "anaconda-cloud": {},
  "kernelspec": {
   "display_name": "python36",
   "language": "python",
   "name": "python36"
  },
  "language_info": {
   "codemirror_mode": {
    "name": "ipython",
    "version": 3
   },
   "file_extension": ".py",
   "mimetype": "text/x-python",
   "name": "python",
   "nbconvert_exporter": "python",
   "pygments_lexer": "ipython3",
   "version": "3.6.4"
  }
 },
 "nbformat": 4,
 "nbformat_minor": 0
}
