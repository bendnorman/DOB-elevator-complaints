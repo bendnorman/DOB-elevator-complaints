{
 "cells": [
  {
   "cell_type": "code",
   "execution_count": 287,
   "metadata": {
    "collapsed": false
   },
   "outputs": [],
   "source": [
    "import pandas as pd\n",
    "import matplotlib.pyplot as plt\n",
    "\n",
    "from imblearn.combine import SMOTETomek\n",
    "\n",
    "%matplotlib inline"
   ]
  },
  {
   "cell_type": "markdown",
   "metadata": {},
   "source": [
    "# Data Cleaning"
   ]
  },
  {
   "cell_type": "code",
   "execution_count": 288,
   "metadata": {
    "collapsed": false
   },
   "outputs": [
    {
     "name": "stderr",
     "output_type": "stream",
     "text": [
      "/Users/apple/.virtualenvs/python36/lib/python3.6/site-packages/IPython/core/interactiveshell.py:3044: DtypeWarning: Columns (4,7,9) have mixed types. Specify dtype option on import or set low_memory=False.\n",
      "  interactivity=interactivity, compiler=compiler, result=result)\n"
     ]
    },
    {
     "name": "stdout",
     "output_type": "stream",
     "text": [
      "['Complaint Number', 'Status', 'Date Entered', 'House Number', 'ZIP Code', 'House Street', 'BIN', 'Community Board', 'Special District', 'Complaint Category', 'Unit', 'Disposition Date', 'Disposition Code', 'Inspection Date', 'DOBRunDate']\n",
      "2299448\n"
     ]
    }
   ],
   "source": [
    "all_complaints = pd.read_csv('data/DOB_Complaints_Received.csv')\n",
    "print(list(all_complaints))\n",
    "print(len(all_complaints))"
   ]
  },
  {
   "cell_type": "markdown",
   "metadata": {},
   "source": [
    "### Handle types"
   ]
  },
  {
   "cell_type": "code",
   "execution_count": 289,
   "metadata": {
    "collapsed": true
   },
   "outputs": [],
   "source": [
    "all_complaints['Complaint Category'] = all_complaints['Complaint Category'].astype(str)"
   ]
  },
  {
   "cell_type": "markdown",
   "metadata": {},
   "source": [
    "### Filter down to just Elevators"
   ]
  },
  {
   "cell_type": "code",
   "execution_count": 17,
   "metadata": {
    "collapsed": false,
    "scrolled": true
   },
   "outputs": [
    {
     "name": "stdout",
     "output_type": "stream",
     "text": [
      "Number of total complaints: 2299448\n",
      "\n"
     ]
    },
    {
     "data": {
      "text/plain": [
       "Text(0.5, 0, 'Complaint Category')"
      ]
     },
     "execution_count": 17,
     "metadata": {},
     "output_type": "execute_result"
    },
    {
     "data": {
      "image/png": "[encoded data removed]",
      "text/plain": [
       "<Figure size 432x288 with 1 Axes>"
      ]
     },
     "metadata": {
      "needs_background": "light"
     },
     "output_type": "display_data"
    }
   ],
   "source": [
    "complaint_categories = ['13', '62', '63', '80', '81']\n",
    "\n",
    "\n",
    "elevator_complaints = all_complaints[all_complaints['Complaint Category'].isin(complaint_categories)]\n",
    "\n",
    "print(\"Number of total complaints: {}\\n\".format(len(all_complaints)))\n",
    "\n",
    "\n",
    "elevator_complaints['Complaint Category'].value_counts().plot(kind='bar', title='Elevator Complaint by Category').set_xlabel('Complaint Category')"
   ]
  },
  {
   "cell_type": "markdown",
   "metadata": {},
   "source": [
    "### Filter down to Code 63\n",
    "Will perform analysis on complaint category 63 (Elevator-Danger Condition/Shaft Open/Unguarded) B because it is the vast majority of elevator complaints and simplifies the problem"
   ]
  },
  {
   "cell_type": "code",
   "execution_count": 21,
   "metadata": {
    "collapsed": false
   },
   "outputs": [
    {
     "name": "stdout",
     "output_type": "stream",
     "text": [
      "63    148168\n",
      "Name: Complaint Category, dtype: int64\n"
     ]
    }
   ],
   "source": [
    "complaint_categories = ['63']\n",
    "elevator_complaints = all_complaints[all_complaints['Complaint Category'].isin(complaint_categories)]\n",
    "print(elevator_complaints['Complaint Category'].value_counts())"
   ]
  },
  {
   "cell_type": "markdown",
   "metadata": {},
   "source": [
    "### Inspections over time"
   ]
  },
  {
   "cell_type": "code",
   "execution_count": 22,
   "metadata": {
    "collapsed": false,
    "scrolled": false
   },
   "outputs": [
    {
     "name": "stdout",
     "output_type": "stream",
     "text": [
      "Lengths after cleaning malformed dates: 148164\n"
     ]
    },
    {
     "name": "stderr",
     "output_type": "stream",
     "text": [
      "/Users/apple/.virtualenvs/python36/lib/python3.6/site-packages/ipykernel_launcher.py:1: SettingWithCopyWarning: \n",
      "A value is trying to be set on a copy of a slice from a DataFrame.\n",
      "Try using .loc[row_indexer,col_indexer] = value instead\n",
      "\n",
      "See the caveats in the documentation: http://pandas.pydata.org/pandas-docs/stable/indexing.html#indexing-view-versus-copy\n",
      "  \"\"\"Entry point for launching an IPython kernel.\n"
     ]
    },
    {
     "data": {
      "text/plain": [
       "<matplotlib.axes._subplots.AxesSubplot at 0x12e7733c8>"
      ]
     },
     "execution_count": 22,
     "metadata": {},
     "output_type": "execute_result"
    },
    {
     "data": {
      "image/png": "[encoded data removed]",
      "text/plain": [
       "<Figure size 432x288 with 1 Axes>"
      ]
     },
     "metadata": {
      "needs_background": "light"
     },
     "output_type": "display_data"
    }
   ],
   "source": [
    "elevator_complaints['Inspection Date'] = pd.to_datetime(elevator_complaints['Inspection Date'],  errors='coerce')\n",
    "elevator_complaints = elevator_complaints.dropna(subset=['Inspection Date'])\n",
    "print(\"Lengths after cleaning malformed dates: {}\".format(len(elevator_complaints)))\n",
    "\n",
    "elevator_complaints.groupby(elevator_complaints['Inspection Date'].dt.year).count()['BIN'].plot(kind='bar')"
   ]
  },
  {
   "cell_type": "markdown",
   "metadata": {},
   "source": [
    "# CHECK IF THERE ARE ELEVATOR COMPLAINTS IN THE 311 DATASET"
   ]
  },
  {
   "cell_type": "markdown",
   "metadata": {},
   "source": [
    "### Remove duplicate complaints\n",
    "TODO: or could this be a feature? Do multiple complaints from a building incrase the likely hood of it being a violation?"
   ]
  },
  {
   "cell_type": "code",
   "execution_count": 23,
   "metadata": {
    "collapsed": false
   },
   "outputs": [
    {
     "name": "stdout",
     "output_type": "stream",
     "text": [
      "number of boiler complaints BEFORE dropping duplicates: 148164\n",
      "number of boiler complaints AFTER dropping duplicates: 132897\n"
     ]
    }
   ],
   "source": [
    "print(\"number of boiler complaints BEFORE dropping duplicates: {}\".format(len(elevator_complaints)))\n",
    "elevator_complaints = elevator_complaints.drop_duplicates(subset=['BIN', 'Date Entered'])\n",
    "print(\"number of boiler complaints AFTER dropping duplicates: {}\".format(len(elevator_complaints)))"
   ]
  },
  {
   "cell_type": "markdown",
   "metadata": {},
   "source": [
    "### Filter down to relevant labels"
   ]
  },
  {
   "cell_type": "code",
   "execution_count": 24,
   "metadata": {
    "collapsed": false,
    "scrolled": false
   },
   "outputs": [
    {
     "data": {
      "text/plain": [
       "<matplotlib.axes._subplots.AxesSubplot at 0x12c931ef0>"
      ]
     },
     "execution_count": 24,
     "metadata": {},
     "output_type": "execute_result"
    },
    {
     "data": {
      "image/png": "[encoded data removed]",
      "text/plain": [
       "<Figure size 1440x432 with 1 Axes>"
      ]
     },
     "metadata": {
      "needs_background": "light"
     },
     "output_type": "display_data"
    }
   ],
   "source": [
    "# print(boiler_complaints['Disposition Code'].value_counts())\n",
    "elevator_complaints.groupby('Disposition Code').count()['BIN'].plot('bar', figsize=(20, 6), fontsize=15)"
   ]
  },
  {
   "cell_type": "markdown",
   "metadata": {},
   "source": [
    "**Positive**: A8 (ECB Violation Served), A1 (Buildings Violation(s) Served)\n",
    "\n",
    "**Negative**: I2 (No Violation Warranted for Complaint at Time of Inspection), I1 (Complaint Unsubstantiated Based on Department Records), \n",
    "\n",
    "**Note**: H1 (Please See Complaint Number) No documentation as to what this means. J2 (J1?: Follow-Up Inspection to be Scheduled Upon Further Research) No documentation for 'J2' but most likely J1."
   ]
  },
  {
   "cell_type": "code",
   "execution_count": 25,
   "metadata": {
    "collapsed": false
   },
   "outputs": [
    {
     "name": "stdout",
     "output_type": "stream",
     "text": [
      "Number of complaints after filter down to relevant dispoisition codes: 81757\n"
     ]
    }
   ],
   "source": [
    "positive_labels = ['A1', 'A8']\n",
    "negative_labels = ['I1', 'I2']\n",
    "elevator_complaints = elevator_complaints[elevator_complaints['Disposition Code'].isin(positive_labels + negative_labels)]\n",
    "print(\"Number of complaints after filter down to relevant dispoisition codes: {}\".format(len(elevator_complaints)))"
   ]
  },
  {
   "cell_type": "markdown",
   "metadata": {},
   "source": [
    "# Create Labels"
   ]
  },
  {
   "cell_type": "code",
   "execution_count": 26,
   "metadata": {
    "collapsed": false
   },
   "outputs": [],
   "source": [
    "labels = elevator_complaints['Disposition Code'].isin(positive_labels) * 1"
   ]
  },
  {
   "cell_type": "code",
   "execution_count": 27,
   "metadata": {
    "collapsed": false,
    "scrolled": false
   },
   "outputs": [
    {
     "name": "stdout",
     "output_type": "stream",
     "text": [
      "Percent of labels that are positive (result in violation): 0.46388688430348474\n"
     ]
    }
   ],
   "source": [
    "print(\"Percent of labels that are positive (result in violation): {}\".format(sum(labels) / len(labels)))"
   ]
  },
  {
   "cell_type": "markdown",
   "metadata": {},
   "source": [
    "# Create Features"
   ]
  },
  {
   "cell_type": "code",
   "execution_count": 28,
   "metadata": {
    "collapsed": false
   },
   "outputs": [],
   "source": [
    "elevator_complaints['Violation'] = labels"
   ]
  },
  {
   "cell_type": "code",
   "execution_count": 29,
   "metadata": {
    "collapsed": true
   },
   "outputs": [],
   "source": [
    "def violation_ratio_test(column):\n",
    "    \"\"\" Will calculate the ratio of violation to complaints for each category of a given column.\"\"\"\n",
    "    return elevator_complaints.groupby(column)['Violation'].sum() / elevator_complaints.groupby(column).count()['Violation']"
   ]
  },
  {
   "cell_type": "markdown",
   "metadata": {},
   "source": [
    "### Date Features"
   ]
  },
  {
   "cell_type": "code",
   "execution_count": 30,
   "metadata": {
    "collapsed": false
   },
   "outputs": [],
   "source": [
    "elevator_complaints['Date Entered'] = pd.to_datetime(elevator_complaints['Date Entered'])\n",
    "elevator_complaints['Inspection Date'] = pd.to_datetime(elevator_complaints['Inspection Date'])"
   ]
  },
  {
   "cell_type": "code",
   "execution_count": 31,
   "metadata": {
    "collapsed": false
   },
   "outputs": [],
   "source": [
    "elevator_complaints['Day'] = elevator_complaints['Date Entered'].apply(lambda date: date.day)"
   ]
  },
  {
   "cell_type": "code",
   "execution_count": 32,
   "metadata": {
    "collapsed": false
   },
   "outputs": [
    {
     "name": "stdout",
     "output_type": "stream",
     "text": [
      "Length before response time clean: 81757\n",
      "Length after response time clean: 81451\n"
     ]
    }
   ],
   "source": [
    "elevator_complaints['Response Time'] = (elevator_complaints['Inspection Date'] - elevator_complaints['Date Entered']).dt.days\n",
    "print(\"Length before response time clean: {}\".format(len(elevator_complaints)))\n",
    "elevator_complaints = elevator_complaints[elevator_complaints['Response Time'] >= 0]\n",
    "print(\"Length after response time clean: {}\".format(len(elevator_complaints)))"
   ]
  },
  {
   "cell_type": "markdown",
   "metadata": {},
   "source": [
    "### Number of previous elevator complaints"
   ]
  },
  {
   "cell_type": "code",
   "execution_count": 33,
   "metadata": {
    "collapsed": false
   },
   "outputs": [],
   "source": [
    "complaint_counts = elevator_complaints.groupby('BIN').apply(lambda row: row['Date Entered'])"
   ]
  },
  {
   "cell_type": "code",
   "execution_count": 35,
   "metadata": {
    "collapsed": false,
    "scrolled": true
   },
   "outputs": [],
   "source": [
    "elevator_complaints['Previous Complaints'] = elevator_complaints.apply(get_previous_complaints, axis=1 )"
   ]
  },
  {
   "cell_type": "markdown",
   "metadata": {},
   "source": [
    "### Number of previous elevator violations"
   ]
  },
  {
   "cell_type": "code",
   "execution_count": 37,
   "metadata": {
    "collapsed": false
   },
   "outputs": [],
   "source": [
    "violation_counts = elevator_complaints.groupby('BIN').apply(lambda row: row[row['Violation'] == 1]['Date Entered'])"
   ]
  },
  {
   "cell_type": "code",
   "execution_count": 38,
   "metadata": {
    "collapsed": false
   },
   "outputs": [],
   "source": [
    "def get_previous_violations(row):\n",
    "    try:\n",
    "        violations = violation_counts[row['BIN']]\n",
    "        return len(violations[violations < row['Date Entered']])\n",
    "    except:\n",
    "        return 0"
   ]
  },
  {
   "cell_type": "code",
   "execution_count": 39,
   "metadata": {
    "collapsed": false
   },
   "outputs": [],
   "source": [
    "elevator_complaints['Previous Violations'] = elevator_complaints.apply(lambda row: get_previous_violations(row), axis=1)"
   ]
  },
  {
   "cell_type": "markdown",
   "metadata": {},
   "source": [
    "### Number of previous boiler violations / complaints ratio"
   ]
  },
  {
   "cell_type": "code",
   "execution_count": 40,
   "metadata": {
    "collapsed": false
   },
   "outputs": [
    {
     "data": {
      "text/html": [
       "<div>\n",
       "<style scoped>\n",
       "    .dataframe tbody tr th:only-of-type {\n",
       "        vertical-align: middle;\n",
       "    }\n",
       "\n",
       "    .dataframe tbody tr th {\n",
       "        vertical-align: top;\n",
       "    }\n",
       "\n",
       "    .dataframe thead th {\n",
       "        text-align: right;\n",
       "    }\n",
       "</style>\n",
       "<table border=\"1\" class=\"dataframe\">\n",
       "  <thead>\n",
       "    <tr style=\"text-align: right;\">\n",
       "      <th></th>\n",
       "      <th>Complaint Number</th>\n",
       "      <th>Status</th>\n",
       "      <th>Date Entered</th>\n",
       "      <th>House Number</th>\n",
       "      <th>ZIP Code</th>\n",
       "      <th>House Street</th>\n",
       "      <th>BIN</th>\n",
       "      <th>Community Board</th>\n",
       "      <th>Special District</th>\n",
       "      <th>Complaint Category</th>\n",
       "      <th>...</th>\n",
       "      <th>Disposition Date</th>\n",
       "      <th>Disposition Code</th>\n",
       "      <th>Inspection Date</th>\n",
       "      <th>DOBRunDate</th>\n",
       "      <th>Violation</th>\n",
       "      <th>Day</th>\n",
       "      <th>Response Time</th>\n",
       "      <th>Previous Complaints</th>\n",
       "      <th>Previous Violations</th>\n",
       "      <th>Violation Ratio</th>\n",
       "    </tr>\n",
       "  </thead>\n",
       "  <tbody>\n",
       "    <tr>\n",
       "      <th>5438</th>\n",
       "      <td>1005878</td>\n",
       "      <td>CLOSED</td>\n",
       "      <td>1990-03-19</td>\n",
       "      <td>478</td>\n",
       "      <td>10025</td>\n",
       "      <td>CENTRAL PARK WEST</td>\n",
       "      <td>1055724</td>\n",
       "      <td>107</td>\n",
       "      <td></td>\n",
       "      <td>63</td>\n",
       "      <td>...</td>\n",
       "      <td>08/14/1991</td>\n",
       "      <td>A1</td>\n",
       "      <td>1991-08-05</td>\n",
       "      <td>11/07/2018 12:00:00 AM</td>\n",
       "      <td>1</td>\n",
       "      <td>19</td>\n",
       "      <td>504</td>\n",
       "      <td>0</td>\n",
       "      <td>0</td>\n",
       "      <td>0.0</td>\n",
       "    </tr>\n",
       "    <tr>\n",
       "      <th>5460</th>\n",
       "      <td>1005901</td>\n",
       "      <td>CLOSED</td>\n",
       "      <td>1990-03-20</td>\n",
       "      <td>540</td>\n",
       "      <td>10031</td>\n",
       "      <td>WEST 144 STREET</td>\n",
       "      <td>1061892</td>\n",
       "      <td>109</td>\n",
       "      <td></td>\n",
       "      <td>63</td>\n",
       "      <td>...</td>\n",
       "      <td>10/19/1995</td>\n",
       "      <td>I2</td>\n",
       "      <td>1995-08-21</td>\n",
       "      <td>11/07/2018 12:00:00 AM</td>\n",
       "      <td>0</td>\n",
       "      <td>20</td>\n",
       "      <td>1980</td>\n",
       "      <td>0</td>\n",
       "      <td>0</td>\n",
       "      <td>0.0</td>\n",
       "    </tr>\n",
       "    <tr>\n",
       "      <th>5473</th>\n",
       "      <td>1005914</td>\n",
       "      <td>CLOSED</td>\n",
       "      <td>1990-03-21</td>\n",
       "      <td>452</td>\n",
       "      <td>10031</td>\n",
       "      <td>WEST 149 STREET</td>\n",
       "      <td>1061526</td>\n",
       "      <td>109</td>\n",
       "      <td></td>\n",
       "      <td>63</td>\n",
       "      <td>...</td>\n",
       "      <td>03/05/1992</td>\n",
       "      <td>A1</td>\n",
       "      <td>1992-03-05</td>\n",
       "      <td>11/07/2018 12:00:00 AM</td>\n",
       "      <td>1</td>\n",
       "      <td>21</td>\n",
       "      <td>715</td>\n",
       "      <td>0</td>\n",
       "      <td>0</td>\n",
       "      <td>0.0</td>\n",
       "    </tr>\n",
       "    <tr>\n",
       "      <th>5491</th>\n",
       "      <td>1005933</td>\n",
       "      <td>CLOSED</td>\n",
       "      <td>1990-03-21</td>\n",
       "      <td>11</td>\n",
       "      <td>10027</td>\n",
       "      <td>WEST 123 STREET</td>\n",
       "      <td>1053424</td>\n",
       "      <td>110</td>\n",
       "      <td></td>\n",
       "      <td>63</td>\n",
       "      <td>...</td>\n",
       "      <td>08/11/1992</td>\n",
       "      <td>I2</td>\n",
       "      <td>1992-08-05</td>\n",
       "      <td>11/07/2018 12:00:00 AM</td>\n",
       "      <td>0</td>\n",
       "      <td>21</td>\n",
       "      <td>868</td>\n",
       "      <td>0</td>\n",
       "      <td>0</td>\n",
       "      <td>0.0</td>\n",
       "    </tr>\n",
       "    <tr>\n",
       "      <th>5498</th>\n",
       "      <td>1005940</td>\n",
       "      <td>CLOSED</td>\n",
       "      <td>1990-03-22</td>\n",
       "      <td>888</td>\n",
       "      <td>10019</td>\n",
       "      <td>8 AVENUE</td>\n",
       "      <td>1024825</td>\n",
       "      <td>105</td>\n",
       "      <td></td>\n",
       "      <td>63</td>\n",
       "      <td>...</td>\n",
       "      <td>06/15/1990</td>\n",
       "      <td>A1</td>\n",
       "      <td>1990-06-12</td>\n",
       "      <td>11/07/2018 12:00:00 AM</td>\n",
       "      <td>1</td>\n",
       "      <td>22</td>\n",
       "      <td>82</td>\n",
       "      <td>0</td>\n",
       "      <td>0</td>\n",
       "      <td>0.0</td>\n",
       "    </tr>\n",
       "  </tbody>\n",
       "</table>\n",
       "<p>5 rows × 21 columns</p>\n",
       "</div>"
      ],
      "text/plain": [
       "      Complaint Number  Status Date Entered  House Number   ZIP Code  \\\n",
       "5438           1005878  CLOSED   1990-03-19  478           10025       \n",
       "5460           1005901  CLOSED   1990-03-20  540           10031       \n",
       "5473           1005914  CLOSED   1990-03-21  452           10031       \n",
       "5491           1005933  CLOSED   1990-03-21  11            10027       \n",
       "5498           1005940  CLOSED   1990-03-22  888           10019       \n",
       "\n",
       "                          House Street      BIN Community Board  \\\n",
       "5438  CENTRAL PARK WEST                 1055724             107   \n",
       "5460  WEST 144 STREET                   1061892             109   \n",
       "5473  WEST 149 STREET                   1061526             109   \n",
       "5491  WEST 123 STREET                   1053424             110   \n",
       "5498  8 AVENUE                          1024825             105   \n",
       "\n",
       "     Special District Complaint Category  ... Disposition Date  \\\n",
       "5438                                  63  ...       08/14/1991   \n",
       "5460                                  63  ...       10/19/1995   \n",
       "5473                                  63  ...       03/05/1992   \n",
       "5491                                  63  ...       08/11/1992   \n",
       "5498                                  63  ...       06/15/1990   \n",
       "\n",
       "     Disposition Code Inspection Date              DOBRunDate Violation  Day  \\\n",
       "5438               A1      1991-08-05  11/07/2018 12:00:00 AM         1   19   \n",
       "5460               I2      1995-08-21  11/07/2018 12:00:00 AM         0   20   \n",
       "5473               A1      1992-03-05  11/07/2018 12:00:00 AM         1   21   \n",
       "5491               I2      1992-08-05  11/07/2018 12:00:00 AM         0   21   \n",
       "5498               A1      1990-06-12  11/07/2018 12:00:00 AM         1   22   \n",
       "\n",
       "      Response Time  Previous Complaints  Previous Violations  Violation Ratio  \n",
       "5438            504                    0                    0              0.0  \n",
       "5460           1980                    0                    0              0.0  \n",
       "5473            715                    0                    0              0.0  \n",
       "5491            868                    0                    0              0.0  \n",
       "5498             82                    0                    0              0.0  \n",
       "\n",
       "[5 rows x 21 columns]"
      ]
     },
     "execution_count": 40,
     "metadata": {},
     "output_type": "execute_result"
    }
   ],
   "source": [
    "elevator_complaints['Violation Ratio'] = (elevator_complaints['Previous Violations'] / elevator_complaints['Previous Complaints']).fillna(0)\n",
    "elevator_complaints.head()"
   ]
  },
  {
   "cell_type": "markdown",
   "metadata": {},
   "source": [
    "### Number of other complaints"
   ]
  },
  {
   "cell_type": "code",
   "execution_count": 42,
   "metadata": {
    "collapsed": false
   },
   "outputs": [
    {
     "data": {
      "text/html": [
       "<div>\n",
       "<style scoped>\n",
       "    .dataframe tbody tr th:only-of-type {\n",
       "        vertical-align: middle;\n",
       "    }\n",
       "\n",
       "    .dataframe tbody tr th {\n",
       "        vertical-align: top;\n",
       "    }\n",
       "\n",
       "    .dataframe thead th {\n",
       "        text-align: right;\n",
       "    }\n",
       "</style>\n",
       "<table border=\"1\" class=\"dataframe\">\n",
       "  <thead>\n",
       "    <tr style=\"text-align: right;\">\n",
       "      <th></th>\n",
       "      <th>Complaint Number</th>\n",
       "      <th>Status</th>\n",
       "      <th>Date Entered</th>\n",
       "      <th>House Number</th>\n",
       "      <th>ZIP Code</th>\n",
       "      <th>House Street</th>\n",
       "      <th>BIN</th>\n",
       "      <th>Community Board</th>\n",
       "      <th>Special District</th>\n",
       "      <th>Complaint Category</th>\n",
       "      <th>...</th>\n",
       "      <th>Disposition Code</th>\n",
       "      <th>Inspection Date</th>\n",
       "      <th>DOBRunDate</th>\n",
       "      <th>Violation</th>\n",
       "      <th>Day</th>\n",
       "      <th>Response Time</th>\n",
       "      <th>Previous Complaints</th>\n",
       "      <th>Previous Violations</th>\n",
       "      <th>Violation Ratio</th>\n",
       "      <th>All Complaints</th>\n",
       "    </tr>\n",
       "  </thead>\n",
       "  <tbody>\n",
       "    <tr>\n",
       "      <th>5438</th>\n",
       "      <td>1005878</td>\n",
       "      <td>CLOSED</td>\n",
       "      <td>1990-03-19</td>\n",
       "      <td>478</td>\n",
       "      <td>10025</td>\n",
       "      <td>CENTRAL PARK WEST</td>\n",
       "      <td>1055724</td>\n",
       "      <td>107</td>\n",
       "      <td></td>\n",
       "      <td>63</td>\n",
       "      <td>...</td>\n",
       "      <td>A1</td>\n",
       "      <td>1991-08-05</td>\n",
       "      <td>11/07/2018 12:00:00 AM</td>\n",
       "      <td>1</td>\n",
       "      <td>19</td>\n",
       "      <td>504</td>\n",
       "      <td>0</td>\n",
       "      <td>0</td>\n",
       "      <td>0.0</td>\n",
       "      <td>22</td>\n",
       "    </tr>\n",
       "    <tr>\n",
       "      <th>5460</th>\n",
       "      <td>1005901</td>\n",
       "      <td>CLOSED</td>\n",
       "      <td>1990-03-20</td>\n",
       "      <td>540</td>\n",
       "      <td>10031</td>\n",
       "      <td>WEST 144 STREET</td>\n",
       "      <td>1061892</td>\n",
       "      <td>109</td>\n",
       "      <td></td>\n",
       "      <td>63</td>\n",
       "      <td>...</td>\n",
       "      <td>I2</td>\n",
       "      <td>1995-08-21</td>\n",
       "      <td>11/07/2018 12:00:00 AM</td>\n",
       "      <td>0</td>\n",
       "      <td>20</td>\n",
       "      <td>1980</td>\n",
       "      <td>0</td>\n",
       "      <td>0</td>\n",
       "      <td>0.0</td>\n",
       "      <td>47</td>\n",
       "    </tr>\n",
       "    <tr>\n",
       "      <th>5473</th>\n",
       "      <td>1005914</td>\n",
       "      <td>CLOSED</td>\n",
       "      <td>1990-03-21</td>\n",
       "      <td>452</td>\n",
       "      <td>10031</td>\n",
       "      <td>WEST 149 STREET</td>\n",
       "      <td>1061526</td>\n",
       "      <td>109</td>\n",
       "      <td></td>\n",
       "      <td>63</td>\n",
       "      <td>...</td>\n",
       "      <td>A1</td>\n",
       "      <td>1992-03-05</td>\n",
       "      <td>11/07/2018 12:00:00 AM</td>\n",
       "      <td>1</td>\n",
       "      <td>21</td>\n",
       "      <td>715</td>\n",
       "      <td>0</td>\n",
       "      <td>0</td>\n",
       "      <td>0.0</td>\n",
       "      <td>56</td>\n",
       "    </tr>\n",
       "    <tr>\n",
       "      <th>5491</th>\n",
       "      <td>1005933</td>\n",
       "      <td>CLOSED</td>\n",
       "      <td>1990-03-21</td>\n",
       "      <td>11</td>\n",
       "      <td>10027</td>\n",
       "      <td>WEST 123 STREET</td>\n",
       "      <td>1053424</td>\n",
       "      <td>110</td>\n",
       "      <td></td>\n",
       "      <td>63</td>\n",
       "      <td>...</td>\n",
       "      <td>I2</td>\n",
       "      <td>1992-08-05</td>\n",
       "      <td>11/07/2018 12:00:00 AM</td>\n",
       "      <td>0</td>\n",
       "      <td>21</td>\n",
       "      <td>868</td>\n",
       "      <td>0</td>\n",
       "      <td>0</td>\n",
       "      <td>0.0</td>\n",
       "      <td>45</td>\n",
       "    </tr>\n",
       "    <tr>\n",
       "      <th>5498</th>\n",
       "      <td>1005940</td>\n",
       "      <td>CLOSED</td>\n",
       "      <td>1990-03-22</td>\n",
       "      <td>888</td>\n",
       "      <td>10019</td>\n",
       "      <td>8 AVENUE</td>\n",
       "      <td>1024825</td>\n",
       "      <td>105</td>\n",
       "      <td></td>\n",
       "      <td>63</td>\n",
       "      <td>...</td>\n",
       "      <td>A1</td>\n",
       "      <td>1990-06-12</td>\n",
       "      <td>11/07/2018 12:00:00 AM</td>\n",
       "      <td>1</td>\n",
       "      <td>22</td>\n",
       "      <td>82</td>\n",
       "      <td>0</td>\n",
       "      <td>0</td>\n",
       "      <td>0.0</td>\n",
       "      <td>49</td>\n",
       "    </tr>\n",
       "  </tbody>\n",
       "</table>\n",
       "<p>5 rows × 22 columns</p>\n",
       "</div>"
      ],
      "text/plain": [
       "      Complaint Number  Status Date Entered  House Number   ZIP Code  \\\n",
       "5438           1005878  CLOSED   1990-03-19  478           10025       \n",
       "5460           1005901  CLOSED   1990-03-20  540           10031       \n",
       "5473           1005914  CLOSED   1990-03-21  452           10031       \n",
       "5491           1005933  CLOSED   1990-03-21  11            10027       \n",
       "5498           1005940  CLOSED   1990-03-22  888           10019       \n",
       "\n",
       "                          House Street      BIN Community Board  \\\n",
       "5438  CENTRAL PARK WEST                 1055724             107   \n",
       "5460  WEST 144 STREET                   1061892             109   \n",
       "5473  WEST 149 STREET                   1061526             109   \n",
       "5491  WEST 123 STREET                   1053424             110   \n",
       "5498  8 AVENUE                          1024825             105   \n",
       "\n",
       "     Special District Complaint Category  ... Disposition Code  \\\n",
       "5438                                  63  ...               A1   \n",
       "5460                                  63  ...               I2   \n",
       "5473                                  63  ...               A1   \n",
       "5491                                  63  ...               I2   \n",
       "5498                                  63  ...               A1   \n",
       "\n",
       "     Inspection Date              DOBRunDate Violation Day  Response Time  \\\n",
       "5438      1991-08-05  11/07/2018 12:00:00 AM         1  19            504   \n",
       "5460      1995-08-21  11/07/2018 12:00:00 AM         0  20           1980   \n",
       "5473      1992-03-05  11/07/2018 12:00:00 AM         1  21            715   \n",
       "5491      1992-08-05  11/07/2018 12:00:00 AM         0  21            868   \n",
       "5498      1990-06-12  11/07/2018 12:00:00 AM         1  22             82   \n",
       "\n",
       "      Previous Complaints  Previous Violations  Violation Ratio  \\\n",
       "5438                    0                    0              0.0   \n",
       "5460                    0                    0              0.0   \n",
       "5473                    0                    0              0.0   \n",
       "5491                    0                    0              0.0   \n",
       "5498                    0                    0              0.0   \n",
       "\n",
       "      All Complaints  \n",
       "5438              22  \n",
       "5460              47  \n",
       "5473              56  \n",
       "5491              45  \n",
       "5498              49  \n",
       "\n",
       "[5 rows x 22 columns]"
      ]
     },
     "execution_count": 42,
     "metadata": {},
     "output_type": "execute_result"
    }
   ],
   "source": [
    "all_complaints['BIN'] = all_complaints['BIN'].astype(str)\n",
    "elevator_complaints['BIN'] = elevator_complaints['BIN'].astype(str)\n",
    "\n",
    "bin_to_complaint_counts = all_complaints['BIN'].value_counts()\n",
    "\n",
    "def get_all_previous_complaints(row): \n",
    "    return (bin_to_complaint_counts[row['BIN']])\n",
    "\n",
    "elevator_complaints['All Complaints'] = elevator_complaints.apply(lambda row: get_all_previous_complaints(row), axis=1)\n",
    "elevator_complaints.head()"
   ]
  },
  {
   "cell_type": "markdown",
   "metadata": {},
   "source": [
    "# Question: How effective is the DOB at prioritizing complaints that result in violations?"
   ]
  },
  {
   "cell_type": "markdown",
   "metadata": {},
   "source": [
    "### Violations and Complaint response time"
   ]
  },
  {
   "cell_type": "code",
   "execution_count": 69,
   "metadata": {
    "collapsed": false,
    "scrolled": true
   },
   "outputs": [
    {
     "data": {
      "text/plain": [
       "<matplotlib.legend.Legend at 0x13f37c550>"
      ]
     },
     "execution_count": 69,
     "metadata": {},
     "output_type": "execute_result"
    },
    {
     "data": {
      "image/png": "[encoded data removed]",
      "text/plain": [
       "<Figure size 432x288 with 1 Axes>"
      ]
     },
     "metadata": {
      "needs_background": "light"
     },
     "output_type": "display_data"
    }
   ],
   "source": [
    "response_time_violation = elevator_complaints[elevator_complaints['Violation'] == 1]['Response Time']\n",
    "\n",
    "plt.hist([elevator_complaints['Response Time']], bins=range(100), label='Complaints')\n",
    "plt.hist([response_time_violation], bins=range(100), label='Violations')\n",
    "plt.xlabel('Response Time')\n",
    "plt.ylabel('Frequency')\n",
    "plt.legend()"
   ]
  },
  {
   "cell_type": "markdown",
   "metadata": {},
   "source": [
    "### How quickly are violations responded to?"
   ]
  },
  {
   "cell_type": "code",
   "execution_count": 89,
   "metadata": {
    "collapsed": false
   },
   "outputs": [
    {
     "name": "stdout",
     "output_type": "stream",
     "text": [
      "19.219044084510774% of complaints that result in violations are inspected within 7 days\n"
     ]
    }
   ],
   "source": [
    "day_interval = 7\n",
    "response_time_percent = len(response_time_violation[response_time_violation < day_interval]) / len(response_time_violation) * 100\n",
    "print(\"{}% of complaints that result in violations are inspected within {} days\".format(response_time_percent, day_interval))"
   ]
  },
  {
   "cell_type": "markdown",
   "metadata": {},
   "source": [
    "### How effective is the DOB priority?"
   ]
  },
  {
   "cell_type": "markdown",
   "metadata": {},
   "source": [
    "#### Create a Priority Score"
   ]
  },
  {
   "cell_type": "code",
   "execution_count": 90,
   "metadata": {
    "collapsed": true
   },
   "outputs": [],
   "source": [
    "from statistics import mean\n",
    "\n",
    "def accuracy_priority_score(scores_by_day):\n",
    "    \n",
    "    priorities = pd.DataFrame(list(scores_by_day.values))\n",
    "    print(\"Average True positive Accuracy: {}\".format(priorities[0].dropna().mean()))\n",
    "    print(\"Average True Negative Accuracy: {}\".format(priorities[1].dropna().mean()))\n",
    "\n",
    "def day_priority_score(violations):\n",
    "#     print(violations)\n",
    "    number_of_violations = violations.sum()\n",
    "\n",
    "    true_positive_accuracy = violations[:number_of_violations].sum() / number_of_violations\n",
    "    true_negative_accuracy = (~violations[number_of_violations:].astype(bool)).sum() / (len(violations) - number_of_violations) \n",
    "    \n",
    "    return [true_positive_accuracy, true_negative_accuracy]   "
   ]
  },
  {
   "cell_type": "code",
   "execution_count": 113,
   "metadata": {
    "collapsed": false
   },
   "outputs": [
    {
     "name": "stderr",
     "output_type": "stream",
     "text": [
      "/Users/apple/.virtualenvs/python36/lib/python3.6/site-packages/ipykernel_launcher.py:13: RuntimeWarning: invalid value encountered in long_scalars\n",
      "  del sys.path[0]\n",
      "/Users/apple/.virtualenvs/python36/lib/python3.6/site-packages/ipykernel_launcher.py:14: RuntimeWarning: invalid value encountered in long_scalars\n",
      "  \n"
     ]
    },
    {
     "name": "stdout",
     "output_type": "stream",
     "text": [
      "\n",
      "Random \n",
      " -------------------------\n",
      "Average True positive Accuracy: 0.5173391386953707\n",
      "Average True Negative Accuracy: 0.5594805041313732\n",
      "\n",
      "Baseline \n",
      " -------------------------\n",
      "Average True positive Accuracy: 0.5224509414238011\n",
      "Average True Negative Accuracy: 0.56963236865098\n",
      "\n",
      "Sanity Check: Perfect Accuracy (Rank by the label) \n",
      " -------------------------\n",
      "Average True positive Accuracy: 1.0\n",
      "Average True Negative Accuracy: 1.0\n"
     ]
    }
   ],
   "source": [
    "#### Random Score\n",
    "random_by_day = elevator_complaints.groupby('Date Entered').apply(lambda row: day_priority_score(row.sample(frac=1)['Violation']))\n",
    "\n",
    "print(\"\\nRandom \\n -------------------------\")\n",
    "accuracy_priority_score(random_by_day)\n",
    "####\n",
    "\n",
    "#### Baseline Score\n",
    "baseline_by_day = elevator_complaints.groupby('Date Entered').apply(lambda row: day_priority_score(row.sort_values(by='Response Time')['Violation']))\n",
    "\n",
    "print(\"\\nBaseline \\n -------------------------\")\n",
    "accuracy_priority_score(baseline_by_day)\n",
    "####\n",
    "\n",
    "#### Perfect Model\n",
    "perfect_by_day = elevator_complaints.groupby('Date Entered').apply(lambda row: day_priority_score(row.sort_values(by='Violation', ascending=False)['Violation']))\n",
    "\n",
    "print(\"\\nSanity Check: Perfect Accuracy (Rank by the label) \\n -------------------------\")\n",
    "accuracy_priority_score(perfect_by_day)\n",
    "####"
   ]
  },
  {
   "cell_type": "markdown",
   "metadata": {},
   "source": [
    "The DOB prioritization method is preforming slightly better than randomly inspecting complaints for a given day. "
   ]
  },
  {
   "cell_type": "markdown",
   "metadata": {},
   "source": [
    "#### Violation and Complaint Breakdown by day"
   ]
  },
  {
   "cell_type": "code",
   "execution_count": 101,
   "metadata": {
    "collapsed": false
   },
   "outputs": [],
   "source": [
    "# response_time_range = 20\n",
    "# response_time_bar = []\n",
    "\n",
    "# for i in range(response_time_range):\n",
    "#     positive_complaints = elevator_complaints[elevator_complaints['Violation'] == 1]\n",
    "#     negative_complaints = elevator_complaints[elevator_complaints['Violation'] == 0]\n",
    "    \n",
    "#     positive_response_time = positive_complaints[positive_complaints['Response Time'] == i]\n",
    "#     negative_response_time = negative_complaints[negative_complaints['Response Time'] == i]\n",
    "    \n",
    "#     response_time_bar.append([len(negative_response_time), len(positive_response_time)])\n",
    "    \n",
    "# pd.DataFrame(response_time_bar).plot(kind='bar')"
   ]
  },
  {
   "cell_type": "markdown",
   "metadata": {},
   "source": [
    "### What happens if we prioritize complaints for a given day by (violation / complaint) ratio?"
   ]
  },
  {
   "cell_type": "code",
   "execution_count": 114,
   "metadata": {
    "collapsed": false
   },
   "outputs": [
    {
     "name": "stderr",
     "output_type": "stream",
     "text": [
      "/Users/apple/.virtualenvs/python36/lib/python3.6/site-packages/ipykernel_launcher.py:13: RuntimeWarning: invalid value encountered in long_scalars\n",
      "  del sys.path[0]\n",
      "/Users/apple/.virtualenvs/python36/lib/python3.6/site-packages/ipykernel_launcher.py:14: RuntimeWarning: invalid value encountered in long_scalars\n",
      "  \n"
     ]
    },
    {
     "name": "stdout",
     "output_type": "stream",
     "text": [
      "Prioritize based on violation ratio history \n",
      " -------------------------\n",
      "Average True positive Accuracy: 0.584791536405736\n",
      "Average True Negative Accuracy: 0.6247653836591202\n"
     ]
    }
   ],
   "source": [
    "ratio_by_day = elevator_complaints.groupby('Date Entered').apply(lambda row: day_priority_score(row.sort_values(by='Violation Ratio', ascending=False)['Violation']))\n",
    "\n",
    "print(\"Prioritize based on violation ratio history \\n -------------------------\")\n",
    "accuracy_priority_score(ratio_by_day)\n",
    "####"
   ]
  },
  {
   "cell_type": "markdown",
   "metadata": {},
   "source": [
    "## Question: Can we improve prioritization using classifier with more features?"
   ]
  },
  {
   "cell_type": "markdown",
   "metadata": {},
   "source": [
    "# Building Features"
   ]
  },
  {
   "cell_type": "markdown",
   "metadata": {},
   "source": [
    "### Bin to BBL"
   ]
  },
  {
   "cell_type": "code",
   "execution_count": 115,
   "metadata": {
    "collapsed": false
   },
   "outputs": [
    {
     "name": "stderr",
     "output_type": "stream",
     "text": [
      "/Users/apple/.virtualenvs/python36/lib/python3.6/site-packages/IPython/core/interactiveshell.py:3044: DtypeWarning: Columns (22) have mixed types. Specify dtype option on import or set low_memory=False.\n",
      "  interactivity=interactivity, compiler=compiler, result=result)\n"
     ]
    }
   ],
   "source": [
    "bin_to_bbl = pd.read_csv('data/pad19a/bobaadr.txt')"
   ]
  },
  {
   "cell_type": "code",
   "execution_count": 116,
   "metadata": {
    "collapsed": false,
    "scrolled": true
   },
   "outputs": [
    {
     "data": {
      "text/html": [
       "<div>\n",
       "<style scoped>\n",
       "    .dataframe tbody tr th:only-of-type {\n",
       "        vertical-align: middle;\n",
       "    }\n",
       "\n",
       "    .dataframe tbody tr th {\n",
       "        vertical-align: top;\n",
       "    }\n",
       "\n",
       "    .dataframe thead th {\n",
       "        text-align: right;\n",
       "    }\n",
       "</style>\n",
       "<table border=\"1\" class=\"dataframe\">\n",
       "  <thead>\n",
       "    <tr style=\"text-align: right;\">\n",
       "      <th></th>\n",
       "      <th>boro</th>\n",
       "      <th>block</th>\n",
       "      <th>lot</th>\n",
       "      <th>bin</th>\n",
       "      <th>lhnd</th>\n",
       "      <th>lhns</th>\n",
       "      <th>lcontpar</th>\n",
       "      <th>lsos</th>\n",
       "      <th>hhnd</th>\n",
       "      <th>hhns</th>\n",
       "      <th>...</th>\n",
       "      <th>addrtype</th>\n",
       "      <th>realb7sc</th>\n",
       "      <th>validlgcs</th>\n",
       "      <th>dapsflag</th>\n",
       "      <th>naubflag</th>\n",
       "      <th>parity</th>\n",
       "      <th>b10sc</th>\n",
       "      <th>segid</th>\n",
       "      <th>zipcode</th>\n",
       "      <th>physical_id</th>\n",
       "    </tr>\n",
       "  </thead>\n",
       "  <tbody>\n",
       "    <tr>\n",
       "      <th>0</th>\n",
       "      <td>1</td>\n",
       "      <td>1</td>\n",
       "      <td>10</td>\n",
       "      <td>1089249</td>\n",
       "      <td></td>\n",
       "      <td></td>\n",
       "      <td></td>\n",
       "      <td>L</td>\n",
       "      <td></td>\n",
       "      <td></td>\n",
       "      <td>...</td>\n",
       "      <td>N</td>\n",
       "      <td></td>\n",
       "      <td>01</td>\n",
       "      <td></td>\n",
       "      <td></td>\n",
       "      <td>0</td>\n",
       "      <td>10007401010</td>\n",
       "      <td>0132761</td>\n",
       "      <td>10004</td>\n",
       "      <td></td>\n",
       "    </tr>\n",
       "    <tr>\n",
       "      <th>1</th>\n",
       "      <td>1</td>\n",
       "      <td>1</td>\n",
       "      <td>10</td>\n",
       "      <td>1000000</td>\n",
       "      <td></td>\n",
       "      <td></td>\n",
       "      <td></td>\n",
       "      <td>R</td>\n",
       "      <td></td>\n",
       "      <td></td>\n",
       "      <td>...</td>\n",
       "      <td>N</td>\n",
       "      <td></td>\n",
       "      <td>01</td>\n",
       "      <td></td>\n",
       "      <td></td>\n",
       "      <td>0</td>\n",
       "      <td>10077201010</td>\n",
       "      <td>0117705</td>\n",
       "      <td>10004</td>\n",
       "      <td>0138883</td>\n",
       "    </tr>\n",
       "    <tr>\n",
       "      <th>2</th>\n",
       "      <td>1</td>\n",
       "      <td>1</td>\n",
       "      <td>10</td>\n",
       "      <td>1000000</td>\n",
       "      <td></td>\n",
       "      <td></td>\n",
       "      <td></td>\n",
       "      <td>R</td>\n",
       "      <td></td>\n",
       "      <td></td>\n",
       "      <td>...</td>\n",
       "      <td>N</td>\n",
       "      <td></td>\n",
       "      <td>01</td>\n",
       "      <td></td>\n",
       "      <td></td>\n",
       "      <td>0</td>\n",
       "      <td>10077301010</td>\n",
       "      <td>0115073</td>\n",
       "      <td>10004</td>\n",
       "      <td>0175748</td>\n",
       "    </tr>\n",
       "    <tr>\n",
       "      <th>3</th>\n",
       "      <td>1</td>\n",
       "      <td>1</td>\n",
       "      <td>10</td>\n",
       "      <td>1000000</td>\n",
       "      <td></td>\n",
       "      <td></td>\n",
       "      <td></td>\n",
       "      <td>R</td>\n",
       "      <td></td>\n",
       "      <td></td>\n",
       "      <td>...</td>\n",
       "      <td>N</td>\n",
       "      <td></td>\n",
       "      <td>01</td>\n",
       "      <td></td>\n",
       "      <td></td>\n",
       "      <td>0</td>\n",
       "      <td>10077401010</td>\n",
       "      <td>0018085</td>\n",
       "      <td>10004</td>\n",
       "      <td>0097424</td>\n",
       "    </tr>\n",
       "    <tr>\n",
       "      <th>4</th>\n",
       "      <td>1</td>\n",
       "      <td>1</td>\n",
       "      <td>10</td>\n",
       "      <td>1000000</td>\n",
       "      <td></td>\n",
       "      <td></td>\n",
       "      <td></td>\n",
       "      <td>R</td>\n",
       "      <td></td>\n",
       "      <td></td>\n",
       "      <td>...</td>\n",
       "      <td>N</td>\n",
       "      <td></td>\n",
       "      <td>01</td>\n",
       "      <td></td>\n",
       "      <td></td>\n",
       "      <td>0</td>\n",
       "      <td>10077501010</td>\n",
       "      <td>0299272</td>\n",
       "      <td>10004</td>\n",
       "      <td>0174909</td>\n",
       "    </tr>\n",
       "  </tbody>\n",
       "</table>\n",
       "<p>5 rows × 26 columns</p>\n",
       "</div>"
      ],
      "text/plain": [
       "   boro  block  lot      bin          lhnd         lhns lcontpar lsos  \\\n",
       "0     1      1   10  1089249                                        L   \n",
       "1     1      1   10  1000000                                        R   \n",
       "2     1      1   10  1000000                                        R   \n",
       "3     1      1   10  1000000                                        R   \n",
       "4     1      1   10  1000000                                        R   \n",
       "\n",
       "           hhnd         hhns  ... addrtype  realb7sc  validlgcs  dapsflag  \\\n",
       "0                             ...        N             01                   \n",
       "1                             ...        N             01                   \n",
       "2                             ...        N             01                   \n",
       "3                             ...        N             01                   \n",
       "4                             ...        N             01                   \n",
       "\n",
       "   naubflag parity        b10sc    segid zipcode physical_id  \n",
       "0                0  10007401010  0132761   10004              \n",
       "1                0  10077201010  0117705   10004     0138883  \n",
       "2                0  10077301010  0115073   10004     0175748  \n",
       "3                0  10077401010  0018085   10004     0097424  \n",
       "4                0  10077501010  0299272   10004     0174909  \n",
       "\n",
       "[5 rows x 26 columns]"
      ]
     },
     "execution_count": 116,
     "metadata": {},
     "output_type": "execute_result"
    }
   ],
   "source": [
    "bin_to_bbl.head()"
   ]
  },
  {
   "cell_type": "code",
   "execution_count": 117,
   "metadata": {
    "collapsed": false
   },
   "outputs": [],
   "source": [
    "def format_bbl(row):\n",
    "    boro = str(row['boro'])\n",
    "    block = str(row['block'])\n",
    "    lot = str(row['lot'])\n",
    "    \n",
    "    return boro + block.zfill(5) + lot.zfill(4)"
   ]
  },
  {
   "cell_type": "code",
   "execution_count": 118,
   "metadata": {
    "collapsed": false
   },
   "outputs": [],
   "source": [
    "bin_to_bbl['bbl'] = bin_to_bbl.apply(format_bbl, axis=1)"
   ]
  },
  {
   "cell_type": "code",
   "execution_count": 119,
   "metadata": {
    "collapsed": false,
    "scrolled": false
   },
   "outputs": [
    {
     "name": "stdout",
     "output_type": "stream",
     "text": [
      "False    80833\n",
      "True       618\n",
      "Name: bbl, dtype: int64\n",
      "False    80833\n",
      "Name: bbl, dtype: int64\n"
     ]
    }
   ],
   "source": [
    "bin_to_bbl['bin'] = bin_to_bbl['bin'].astype(str)\n",
    "\n",
    "elevator_complaints = pd.merge(elevator_complaints, bin_to_bbl[['bin', 'bbl']], left_on='BIN', right_on='bin', how='left').drop_duplicates(subset=['Complaint Number'])\n",
    "print(elevator_complaints['bbl'].isna().value_counts())\n",
    "elevator_complaints = elevator_complaints.dropna(subset=['bbl'])\n",
    "print(elevator_complaints['bbl'].isna().value_counts())"
   ]
  },
  {
   "cell_type": "code",
   "execution_count": 120,
   "metadata": {
    "collapsed": false
   },
   "outputs": [
    {
     "data": {
      "text/html": [
       "<div>\n",
       "<style scoped>\n",
       "    .dataframe tbody tr th:only-of-type {\n",
       "        vertical-align: middle;\n",
       "    }\n",
       "\n",
       "    .dataframe tbody tr th {\n",
       "        vertical-align: top;\n",
       "    }\n",
       "\n",
       "    .dataframe thead th {\n",
       "        text-align: right;\n",
       "    }\n",
       "</style>\n",
       "<table border=\"1\" class=\"dataframe\">\n",
       "  <thead>\n",
       "    <tr style=\"text-align: right;\">\n",
       "      <th></th>\n",
       "      <th>Complaint Number</th>\n",
       "      <th>Status</th>\n",
       "      <th>Date Entered</th>\n",
       "      <th>House Number</th>\n",
       "      <th>ZIP Code</th>\n",
       "      <th>House Street</th>\n",
       "      <th>BIN</th>\n",
       "      <th>Community Board</th>\n",
       "      <th>Special District</th>\n",
       "      <th>Complaint Category</th>\n",
       "      <th>...</th>\n",
       "      <th>DOBRunDate</th>\n",
       "      <th>Violation</th>\n",
       "      <th>Day</th>\n",
       "      <th>Response Time</th>\n",
       "      <th>Previous Complaints</th>\n",
       "      <th>Previous Violations</th>\n",
       "      <th>Violation Ratio</th>\n",
       "      <th>All Complaints</th>\n",
       "      <th>bin</th>\n",
       "      <th>bbl</th>\n",
       "    </tr>\n",
       "  </thead>\n",
       "  <tbody>\n",
       "    <tr>\n",
       "      <th>0</th>\n",
       "      <td>1005878</td>\n",
       "      <td>CLOSED</td>\n",
       "      <td>1990-03-19</td>\n",
       "      <td>478</td>\n",
       "      <td>10025</td>\n",
       "      <td>CENTRAL PARK WEST</td>\n",
       "      <td>1055724</td>\n",
       "      <td>107</td>\n",
       "      <td></td>\n",
       "      <td>63</td>\n",
       "      <td>...</td>\n",
       "      <td>11/07/2018 12:00:00 AM</td>\n",
       "      <td>1</td>\n",
       "      <td>19</td>\n",
       "      <td>504</td>\n",
       "      <td>0</td>\n",
       "      <td>0</td>\n",
       "      <td>0.0</td>\n",
       "      <td>22</td>\n",
       "      <td>1055724</td>\n",
       "      <td>1018441001</td>\n",
       "    </tr>\n",
       "    <tr>\n",
       "      <th>2</th>\n",
       "      <td>1005901</td>\n",
       "      <td>CLOSED</td>\n",
       "      <td>1990-03-20</td>\n",
       "      <td>540</td>\n",
       "      <td>10031</td>\n",
       "      <td>WEST 144 STREET</td>\n",
       "      <td>1061892</td>\n",
       "      <td>109</td>\n",
       "      <td></td>\n",
       "      <td>63</td>\n",
       "      <td>...</td>\n",
       "      <td>11/07/2018 12:00:00 AM</td>\n",
       "      <td>0</td>\n",
       "      <td>20</td>\n",
       "      <td>1980</td>\n",
       "      <td>0</td>\n",
       "      <td>0</td>\n",
       "      <td>0.0</td>\n",
       "      <td>47</td>\n",
       "      <td>1061892</td>\n",
       "      <td>1020750049</td>\n",
       "    </tr>\n",
       "    <tr>\n",
       "      <th>3</th>\n",
       "      <td>1005914</td>\n",
       "      <td>CLOSED</td>\n",
       "      <td>1990-03-21</td>\n",
       "      <td>452</td>\n",
       "      <td>10031</td>\n",
       "      <td>WEST 149 STREET</td>\n",
       "      <td>1061526</td>\n",
       "      <td>109</td>\n",
       "      <td></td>\n",
       "      <td>63</td>\n",
       "      <td>...</td>\n",
       "      <td>11/07/2018 12:00:00 AM</td>\n",
       "      <td>1</td>\n",
       "      <td>21</td>\n",
       "      <td>715</td>\n",
       "      <td>0</td>\n",
       "      <td>0</td>\n",
       "      <td>0.0</td>\n",
       "      <td>56</td>\n",
       "      <td>1061526</td>\n",
       "      <td>1020630054</td>\n",
       "    </tr>\n",
       "    <tr>\n",
       "      <th>4</th>\n",
       "      <td>1005933</td>\n",
       "      <td>CLOSED</td>\n",
       "      <td>1990-03-21</td>\n",
       "      <td>11</td>\n",
       "      <td>10027</td>\n",
       "      <td>WEST 123 STREET</td>\n",
       "      <td>1053424</td>\n",
       "      <td>110</td>\n",
       "      <td></td>\n",
       "      <td>63</td>\n",
       "      <td>...</td>\n",
       "      <td>11/07/2018 12:00:00 AM</td>\n",
       "      <td>0</td>\n",
       "      <td>21</td>\n",
       "      <td>868</td>\n",
       "      <td>0</td>\n",
       "      <td>0</td>\n",
       "      <td>0.0</td>\n",
       "      <td>45</td>\n",
       "      <td>1053424</td>\n",
       "      <td>1017210045</td>\n",
       "    </tr>\n",
       "    <tr>\n",
       "      <th>5</th>\n",
       "      <td>1005940</td>\n",
       "      <td>CLOSED</td>\n",
       "      <td>1990-03-22</td>\n",
       "      <td>888</td>\n",
       "      <td>10019</td>\n",
       "      <td>8 AVENUE</td>\n",
       "      <td>1024825</td>\n",
       "      <td>105</td>\n",
       "      <td></td>\n",
       "      <td>63</td>\n",
       "      <td>...</td>\n",
       "      <td>11/07/2018 12:00:00 AM</td>\n",
       "      <td>1</td>\n",
       "      <td>22</td>\n",
       "      <td>82</td>\n",
       "      <td>0</td>\n",
       "      <td>0</td>\n",
       "      <td>0.0</td>\n",
       "      <td>49</td>\n",
       "      <td>1024825</td>\n",
       "      <td>1010240001</td>\n",
       "    </tr>\n",
       "  </tbody>\n",
       "</table>\n",
       "<p>5 rows × 24 columns</p>\n",
       "</div>"
      ],
      "text/plain": [
       "   Complaint Number  Status Date Entered  House Number   ZIP Code  \\\n",
       "0           1005878  CLOSED   1990-03-19  478           10025       \n",
       "2           1005901  CLOSED   1990-03-20  540           10031       \n",
       "3           1005914  CLOSED   1990-03-21  452           10031       \n",
       "4           1005933  CLOSED   1990-03-21  11            10027       \n",
       "5           1005940  CLOSED   1990-03-22  888           10019       \n",
       "\n",
       "                       House Street      BIN Community Board Special District  \\\n",
       "0  CENTRAL PARK WEST                 1055724             107                    \n",
       "2  WEST 144 STREET                   1061892             109                    \n",
       "3  WEST 149 STREET                   1061526             109                    \n",
       "4  WEST 123 STREET                   1053424             110                    \n",
       "5  8 AVENUE                          1024825             105                    \n",
       "\n",
       "  Complaint Category  ...              DOBRunDate Violation Day Response Time  \\\n",
       "0                 63  ...  11/07/2018 12:00:00 AM         1  19           504   \n",
       "2                 63  ...  11/07/2018 12:00:00 AM         0  20          1980   \n",
       "3                 63  ...  11/07/2018 12:00:00 AM         1  21           715   \n",
       "4                 63  ...  11/07/2018 12:00:00 AM         0  21           868   \n",
       "5                 63  ...  11/07/2018 12:00:00 AM         1  22            82   \n",
       "\n",
       "  Previous Complaints  Previous Violations  Violation Ratio  All Complaints  \\\n",
       "0                   0                    0              0.0              22   \n",
       "2                   0                    0              0.0              47   \n",
       "3                   0                    0              0.0              56   \n",
       "4                   0                    0              0.0              45   \n",
       "5                   0                    0              0.0              49   \n",
       "\n",
       "       bin         bbl  \n",
       "0  1055724  1018441001  \n",
       "2  1061892  1020750049  \n",
       "3  1061526  1020630054  \n",
       "4  1053424  1017210045  \n",
       "5  1024825  1010240001  \n",
       "\n",
       "[5 rows x 24 columns]"
      ]
     },
     "execution_count": 120,
     "metadata": {},
     "output_type": "execute_result"
    }
   ],
   "source": [
    "elevator_complaints.head()"
   ]
  },
  {
   "cell_type": "markdown",
   "metadata": {},
   "source": [
    "### Merge With Pluto"
   ]
  },
  {
   "cell_type": "code",
   "execution_count": 121,
   "metadata": {
    "collapsed": false
   },
   "outputs": [
    {
     "data": {
      "text/plain": [
       "['exempttot',\n",
       " 'address',\n",
       " 'bbl',\n",
       " 'bldgclass',\n",
       " 'cb2010',\n",
       " 'assesstot',\n",
       " 'landuse',\n",
       " 'ownertype',\n",
       " 'yearalter1',\n",
       " 'yearalter2',\n",
       " 'yearbuilt']"
      ]
     },
     "execution_count": 121,
     "metadata": {},
     "output_type": "execute_result"
    }
   ],
   "source": [
    "pluto = pd.read_csv('data/pluto_more_features.csv')\n",
    "list(pluto)"
   ]
  },
  {
   "cell_type": "code",
   "execution_count": 122,
   "metadata": {
    "collapsed": false
   },
   "outputs": [],
   "source": [
    "# for col in list(pluto):\n",
    "#     print(col)\n",
    "#     print(pluto[col].isna().value_counts())\n",
    "#     print()"
   ]
  },
  {
   "cell_type": "code",
   "execution_count": 123,
   "metadata": {
    "collapsed": false
   },
   "outputs": [],
   "source": [
    "pluto = pluto.drop(['ownertype'], axis=1)"
   ]
  },
  {
   "cell_type": "code",
   "execution_count": 124,
   "metadata": {
    "collapsed": false
   },
   "outputs": [],
   "source": [
    "pluto['bbl'] = pluto['bbl'].astype(str)\n",
    "elevator_complaints = pd.merge(elevator_complaints, pluto, on='bbl', how='left')"
   ]
  },
  {
   "cell_type": "code",
   "execution_count": 125,
   "metadata": {
    "collapsed": false
   },
   "outputs": [
    {
     "name": "stdout",
     "output_type": "stream",
     "text": [
      "False    76394\n",
      "True      4439\n",
      "Name: yearbuilt, dtype: int64\n",
      "False    76380\n",
      "Name: yearbuilt, dtype: int64\n"
     ]
    }
   ],
   "source": [
    "print(elevator_complaints['yearbuilt'].isna().value_counts())\n",
    "elevator_complaints = elevator_complaints.dropna()\n",
    "print(elevator_complaints['yearbuilt'].isna().value_counts())"
   ]
  },
  {
   "cell_type": "markdown",
   "metadata": {},
   "source": [
    "# Model"
   ]
  },
  {
   "cell_type": "code",
   "execution_count": 200,
   "metadata": {
    "collapsed": false
   },
   "outputs": [],
   "source": [
    "from sklearn.ensemble import RandomForestClassifier\n",
    "from sklearn.model_selection import train_test_split, GroupShuffleSplit"
   ]
  },
  {
   "cell_type": "code",
   "execution_count": 201,
   "metadata": {
    "collapsed": false,
    "scrolled": false
   },
   "outputs": [
    {
     "data": {
      "text/plain": [
       "['Complaint Number',\n",
       " 'Status',\n",
       " 'Date Entered',\n",
       " 'House Number',\n",
       " 'ZIP Code',\n",
       " 'House Street',\n",
       " 'BIN',\n",
       " 'Community Board',\n",
       " 'Special District',\n",
       " 'Complaint Category',\n",
       " 'Unit',\n",
       " 'Disposition Date',\n",
       " 'Disposition Code',\n",
       " 'Inspection Date',\n",
       " 'DOBRunDate',\n",
       " 'Violation',\n",
       " 'Day',\n",
       " 'Response Time',\n",
       " 'Previous Complaints',\n",
       " 'Previous Violations',\n",
       " 'Violation Ratio',\n",
       " 'All Complaints',\n",
       " 'bin',\n",
       " 'bbl',\n",
       " 'exempttot',\n",
       " 'address',\n",
       " 'bldgclass',\n",
       " 'cb2010',\n",
       " 'assesstot',\n",
       " 'landuse',\n",
       " 'yearalter1',\n",
       " 'yearalter2',\n",
       " 'yearbuilt']"
      ]
     },
     "execution_count": 201,
     "metadata": {},
     "output_type": "execute_result"
    }
   ],
   "source": [
    "list(elevator_complaints)"
   ]
  },
  {
   "cell_type": "markdown",
   "metadata": {},
   "source": [
    "### Select and Encode Features"
   ]
  },
  {
   "cell_type": "code",
   "execution_count": 263,
   "metadata": {
    "collapsed": false
   },
   "outputs": [
    {
     "data": {
      "text/html": [
       "<div>\n",
       "<style scoped>\n",
       "    .dataframe tbody tr th:only-of-type {\n",
       "        vertical-align: middle;\n",
       "    }\n",
       "\n",
       "    .dataframe tbody tr th {\n",
       "        vertical-align: top;\n",
       "    }\n",
       "\n",
       "    .dataframe thead th {\n",
       "        text-align: right;\n",
       "    }\n",
       "</style>\n",
       "<table border=\"1\" class=\"dataframe\">\n",
       "  <thead>\n",
       "    <tr style=\"text-align: right;\">\n",
       "      <th></th>\n",
       "      <th>Complaint Number</th>\n",
       "      <th>Status</th>\n",
       "      <th>Date Entered</th>\n",
       "      <th>House Number</th>\n",
       "      <th>ZIP Code</th>\n",
       "      <th>House Street</th>\n",
       "      <th>BIN</th>\n",
       "      <th>Community Board</th>\n",
       "      <th>Special District</th>\n",
       "      <th>Complaint Category</th>\n",
       "      <th>...</th>\n",
       "      <th>bbl</th>\n",
       "      <th>exempttot</th>\n",
       "      <th>address</th>\n",
       "      <th>bldgclass</th>\n",
       "      <th>cb2010</th>\n",
       "      <th>assesstot</th>\n",
       "      <th>landuse</th>\n",
       "      <th>yearalter1</th>\n",
       "      <th>yearalter2</th>\n",
       "      <th>yearbuilt</th>\n",
       "    </tr>\n",
       "  </thead>\n",
       "  <tbody>\n",
       "    <tr>\n",
       "      <th>1</th>\n",
       "      <td>1005901</td>\n",
       "      <td>CLOSED</td>\n",
       "      <td>1990-03-20</td>\n",
       "      <td>540</td>\n",
       "      <td>29</td>\n",
       "      <td>WEST 144 STREET</td>\n",
       "      <td>1061892</td>\n",
       "      <td>109</td>\n",
       "      <td></td>\n",
       "      <td>63</td>\n",
       "      <td>...</td>\n",
       "      <td>1020750049</td>\n",
       "      <td>921600.0</td>\n",
       "      <td>540 WEST 144 STREET</td>\n",
       "      <td>23</td>\n",
       "      <td>106</td>\n",
       "      <td>921600.0</td>\n",
       "      <td>2</td>\n",
       "      <td>1989.0</td>\n",
       "      <td>0.0</td>\n",
       "      <td>1910.0</td>\n",
       "    </tr>\n",
       "    <tr>\n",
       "      <th>2</th>\n",
       "      <td>1005914</td>\n",
       "      <td>CLOSED</td>\n",
       "      <td>1990-03-21</td>\n",
       "      <td>452</td>\n",
       "      <td>29</td>\n",
       "      <td>WEST 149 STREET</td>\n",
       "      <td>1061526</td>\n",
       "      <td>109</td>\n",
       "      <td></td>\n",
       "      <td>63</td>\n",
       "      <td>...</td>\n",
       "      <td>1020630054</td>\n",
       "      <td>771312.0</td>\n",
       "      <td>452 WEST 149 STREET</td>\n",
       "      <td>23</td>\n",
       "      <td>53</td>\n",
       "      <td>1242000.0</td>\n",
       "      <td>2</td>\n",
       "      <td>1987.0</td>\n",
       "      <td>0.0</td>\n",
       "      <td>1902.0</td>\n",
       "    </tr>\n",
       "    <tr>\n",
       "      <th>3</th>\n",
       "      <td>1005933</td>\n",
       "      <td>CLOSED</td>\n",
       "      <td>1990-03-21</td>\n",
       "      <td>11</td>\n",
       "      <td>25</td>\n",
       "      <td>WEST 123 STREET</td>\n",
       "      <td>1053424</td>\n",
       "      <td>110</td>\n",
       "      <td></td>\n",
       "      <td>63</td>\n",
       "      <td>...</td>\n",
       "      <td>1017210045</td>\n",
       "      <td>0.0</td>\n",
       "      <td>15 WEST 123 STREET</td>\n",
       "      <td>23</td>\n",
       "      <td>54</td>\n",
       "      <td>646200.0</td>\n",
       "      <td>2</td>\n",
       "      <td>1988.0</td>\n",
       "      <td>0.0</td>\n",
       "      <td>1935.0</td>\n",
       "    </tr>\n",
       "    <tr>\n",
       "      <th>4</th>\n",
       "      <td>1005940</td>\n",
       "      <td>CLOSED</td>\n",
       "      <td>1990-03-22</td>\n",
       "      <td>888</td>\n",
       "      <td>17</td>\n",
       "      <td>8 AVENUE</td>\n",
       "      <td>1024825</td>\n",
       "      <td>105</td>\n",
       "      <td></td>\n",
       "      <td>63</td>\n",
       "      <td>...</td>\n",
       "      <td>1010240001</td>\n",
       "      <td>0.0</td>\n",
       "      <td>870 8 AVENUE</td>\n",
       "      <td>28</td>\n",
       "      <td>54</td>\n",
       "      <td>34980750.0</td>\n",
       "      <td>3</td>\n",
       "      <td>0.0</td>\n",
       "      <td>0.0</td>\n",
       "      <td>1965.0</td>\n",
       "    </tr>\n",
       "    <tr>\n",
       "      <th>5</th>\n",
       "      <td>1005949</td>\n",
       "      <td>CLOSED</td>\n",
       "      <td>1990-03-22</td>\n",
       "      <td>60</td>\n",
       "      <td>3</td>\n",
       "      <td>EAST 11 STREET</td>\n",
       "      <td>1009105</td>\n",
       "      <td>102</td>\n",
       "      <td></td>\n",
       "      <td>63</td>\n",
       "      <td>...</td>\n",
       "      <td>1005620014</td>\n",
       "      <td>0.0</td>\n",
       "      <td>60 EAST 11 STREET</td>\n",
       "      <td>90</td>\n",
       "      <td>53</td>\n",
       "      <td>3443400.0</td>\n",
       "      <td>5</td>\n",
       "      <td>0.0</td>\n",
       "      <td>0.0</td>\n",
       "      <td>1930.0</td>\n",
       "    </tr>\n",
       "  </tbody>\n",
       "</table>\n",
       "<p>5 rows × 33 columns</p>\n",
       "</div>"
      ],
      "text/plain": [
       "   Complaint Number  Status Date Entered  House Number  ZIP Code  \\\n",
       "1           1005901  CLOSED   1990-03-20  540                 29   \n",
       "2           1005914  CLOSED   1990-03-21  452                 29   \n",
       "3           1005933  CLOSED   1990-03-21  11                  25   \n",
       "4           1005940  CLOSED   1990-03-22  888                 17   \n",
       "5           1005949  CLOSED   1990-03-22  60                   3   \n",
       "\n",
       "                       House Street      BIN Community Board Special District  \\\n",
       "1  WEST 144 STREET                   1061892             109                    \n",
       "2  WEST 149 STREET                   1061526             109                    \n",
       "3  WEST 123 STREET                   1053424             110                    \n",
       "4  8 AVENUE                          1024825             105                    \n",
       "5  EAST 11 STREET                    1009105             102                    \n",
       "\n",
       "  Complaint Category  ...         bbl exempttot              address  \\\n",
       "1                 63  ...  1020750049  921600.0  540 WEST 144 STREET   \n",
       "2                 63  ...  1020630054  771312.0  452 WEST 149 STREET   \n",
       "3                 63  ...  1017210045       0.0   15 WEST 123 STREET   \n",
       "4                 63  ...  1010240001       0.0         870 8 AVENUE   \n",
       "5                 63  ...  1005620014       0.0    60 EAST 11 STREET   \n",
       "\n",
       "  bldgclass cb2010   assesstot  landuse  yearalter1  yearalter2  yearbuilt  \n",
       "1        23    106    921600.0        2      1989.0         0.0     1910.0  \n",
       "2        23     53   1242000.0        2      1987.0         0.0     1902.0  \n",
       "3        23     54    646200.0        2      1988.0         0.0     1935.0  \n",
       "4        28     54  34980750.0        3         0.0         0.0     1965.0  \n",
       "5        90     53   3443400.0        5         0.0         0.0     1930.0  \n",
       "\n",
       "[5 rows x 33 columns]"
      ]
     },
     "execution_count": 263,
     "metadata": {},
     "output_type": "execute_result"
    }
   ],
   "source": [
    "categorical = ['ZIP Code', 'landuse', 'cb2010', 'bldgclass']\n",
    "\n",
    "elevator_complaints[categorical] = elevator_complaints[categorical].apply(lambda col: col.astype('category').cat.codes)\n",
    "elevator_complaints.head()"
   ]
  },
  {
   "cell_type": "code",
   "execution_count": 264,
   "metadata": {
    "collapsed": false
   },
   "outputs": [
    {
     "name": "stdout",
     "output_type": "stream",
     "text": [
      "76380\n",
      "76380\n"
     ]
    }
   ],
   "source": [
    "print(len(elevator_complaints))\n",
    "elevator_complaints = elevator_complaints.dropna()\n",
    "print(len(elevator_complaints))"
   ]
  },
  {
   "cell_type": "code",
   "execution_count": 265,
   "metadata": {
    "collapsed": false
   },
   "outputs": [],
   "source": [
    "# X = elevator_complaints[included_features]\n",
    "X = elevator_complaints\n",
    "y = elevator_complaints['Violation']"
   ]
  },
  {
   "cell_type": "code",
   "execution_count": 266,
   "metadata": {
    "collapsed": true
   },
   "outputs": [],
   "source": [
    "def group_train_test_splits(X, y, groups, test_size=0.15):\n",
    "    gs = GroupShuffleSplit(n_splits=1, test_size=test_size).split(X, y, groups=groups)\n",
    "    \n",
    "    for ii, (train, test) in enumerate(gs):\n",
    "        X_train = X.iloc[train]\n",
    "        X_test = X.iloc[test]\n",
    "        y_train = y.iloc[train]\n",
    "        y_test = y.iloc[test]\n",
    "        \n",
    "    return X_train, X_test, y_train, y_test"
   ]
  },
  {
   "cell_type": "code",
   "execution_count": 267,
   "metadata": {
    "collapsed": false,
    "scrolled": false
   },
   "outputs": [
    {
     "name": "stdout",
     "output_type": "stream",
     "text": [
      "Training Data size: 64566\n",
      "Testing Data size: 11814\n",
      "Testing Data %: 0.18297555989220332\n",
      "set()\n",
      "\n"
     ]
    }
   ],
   "source": [
    "groups = elevator_complaints['BIN'].astype('category').cat.codes\n",
    "X_train, X_test, y_train, y_test = group_train_test_splits(X, y, groups)\n",
    "\n",
    "print(\"Training Data size: {}\".format(len(X_train)))\n",
    "print(\"Testing Data size: {}\".format(len(X_test)))\n",
    "print(\"Testing Data %: {}\".format(len(X_test) / len(X_train)))\n",
    "print(set(X_train['BIN']) & set(X_test['BIN']))\n",
    "print()"
   ]
  },
  {
   "cell_type": "code",
   "execution_count": 268,
   "metadata": {
    "collapsed": false,
    "scrolled": true
   },
   "outputs": [
    {
     "name": "stdout",
     "output_type": "stream",
     "text": [
      "Training Data size: 54984\n",
      "Validation Data size: 9582\n",
      "Testing Data size: 11814\n",
      "Validation Data %: 0.1742688782191183\n",
      "set()\n",
      "\n",
      "training Data Balance: 0.46806343663611233\n",
      "val Data Balance: 0.4685869338342726\n",
      "test Data Balance: 0.45996275605214154\n"
     ]
    }
   ],
   "source": [
    "groups = X_train['BIN'].astype('category').cat.codes\n",
    "\n",
    "X_train, X_val, y_train, y_val = group_train_test_splits(X_train, y_train, groups)\n",
    "\n",
    "print(\"Training Data size: {}\".format(len(X_train)))\n",
    "print(\"Validation Data size: {}\".format(len(X_val)))\n",
    "print(\"Testing Data size: {}\".format(len(X_test)))\n",
    "print(\"Validation Data %: {}\".format(len(X_val) / len(X_train)))\n",
    "print(set(X_train['BIN']) & set(X_val['BIN']) & set(X_test['BIN']))\n",
    "print()\n",
    "### BALANCE\n",
    "print(\"training Data Balance: {}\".format(y_train.sum() / len(y_train)))\n",
    "print(\"val Data Balance: {}\".format(y_val.sum() / len(y_val)))\n",
    "print(\"test Data Balance: {}\".format(y_test.sum() / len(y_test)))\n",
    "# X_train = X_train.drop([\"BIN\"], axis=1)\n",
    "# X_val = X_val.drop([\"BIN\"], axis=1)\n",
    "# X_test = X_test.drop([\"BIN\"], axis=1)"
   ]
  },
  {
   "cell_type": "markdown",
   "metadata": {},
   "source": [
    "### Plot train and test feature distributions"
   ]
  },
  {
   "cell_type": "code",
   "execution_count": 269,
   "metadata": {
    "collapsed": false,
    "scrolled": true
   },
   "outputs": [],
   "source": [
    "# for feature in list(X_train):\n",
    "#     print(feature)\n",
    "#     print(\"Training\")\n",
    "#     plt.hist(X_train[feature])\n",
    "#     plt.show()\n",
    "#     print(\"Val\")\n",
    "#     plt.hist(X_val[feature])\n",
    "#     plt.show()    \n",
    "#     print(\"Test\")\n",
    "#     plt.hist(X_test[feature])\n",
    "#     plt.show()    "
   ]
  },
  {
   "cell_type": "markdown",
   "metadata": {
    "collapsed": true
   },
   "source": [
    "### Select Features"
   ]
  },
  {
   "cell_type": "code",
   "execution_count": 270,
   "metadata": {
    "collapsed": true
   },
   "outputs": [],
   "source": [
    "included_features = [\n",
    " 'ZIP Code',\n",
    " 'Previous Complaints',\n",
    " 'Previous Violations',\n",
    " 'Violation Ratio',\n",
    " 'All Complaints',\n",
    " 'Day',\n",
    " 'assesstot',\n",
    " 'landuse',\n",
    " 'yearalter1',\n",
    " 'yearalter2',\n",
    " 'yearbuilt',\n",
    " 'exempttot',\n",
    " 'bldgclass',\n",
    " 'cb2010']"
   ]
  },
  {
   "cell_type": "code",
   "execution_count": 271,
   "metadata": {
    "collapsed": false
   },
   "outputs": [],
   "source": [
    "# X = elevator_complaints[included_features]\n",
    "# # X = elevator_complaints\n",
    "# y = elevator_complaints['Violation']\n",
    "eval_cols = ['BIN', 'Response Time', 'Violation', 'Date Entered']\n",
    "\n",
    "train_eval_cols = X_train[eval_cols]\n",
    "val_eval_cols = X_val[eval_cols]\n",
    "test_eval_cols = X_test[eval_cols]\n",
    "\n",
    "X_train = X_train[included_features]\n",
    "X_val = X_val[included_features]\n",
    "X_test = X_test[included_features]"
   ]
  },
  {
   "cell_type": "markdown",
   "metadata": {},
   "source": [
    "# Train Model"
   ]
  },
  {
   "cell_type": "markdown",
   "metadata": {},
   "source": [
    "### Try Different params"
   ]
  },
  {
   "cell_type": "code",
   "execution_count": 286,
   "metadata": {
    "collapsed": false,
    "scrolled": true
   },
   "outputs": [
    {
     "name": "stdout",
     "output_type": "stream",
     "text": [
      "Training Forest with max depth = 1\n",
      "Training accuracy: 0.5642004946893642\n"
     ]
    },
    {
     "ename": "TypeError",
     "evalue": "float() argument must be a string or a number, not 'Timestamp'",
     "output_type": "error",
     "traceback": [
      "\u001b[0;31m---------------------------------------------------------------------------\u001b[0m",
      "\u001b[0;31mTypeError\u001b[0m                                 Traceback (most recent call last)",
      "\u001b[0;32m<ipython-input-286-6867d5f64039>\u001b[0m in \u001b[0;36m<module>\u001b[0;34m\u001b[0m\n\u001b[1;32m     11\u001b[0m     \u001b[0mprint\u001b[0m\u001b[0;34m(\u001b[0m\u001b[0;34m\"Training accuracy: {}\"\u001b[0m\u001b[0;34m.\u001b[0m\u001b[0mformat\u001b[0m\u001b[0;34m(\u001b[0m\u001b[0mclf\u001b[0m\u001b[0;34m.\u001b[0m\u001b[0mscore\u001b[0m\u001b[0;34m(\u001b[0m\u001b[0mX_train\u001b[0m\u001b[0;34m,\u001b[0m \u001b[0my_train\u001b[0m\u001b[0;34m)\u001b[0m\u001b[0;34m)\u001b[0m\u001b[0;34m)\u001b[0m\u001b[0;34m\u001b[0m\u001b[0m\n\u001b[1;32m     12\u001b[0m     \u001b[0;31m# print(\"Val Data Balance: {}\".format(y_test.sum() / len(y_test)))\u001b[0m\u001b[0;34m\u001b[0m\u001b[0;34m\u001b[0m\u001b[0m\n\u001b[0;32m---> 13\u001b[0;31m     \u001b[0mval_accuracy\u001b[0m \u001b[0;34m=\u001b[0m \u001b[0mclf\u001b[0m\u001b[0;34m.\u001b[0m\u001b[0mscore\u001b[0m\u001b[0;34m(\u001b[0m\u001b[0mX_val\u001b[0m\u001b[0;34m,\u001b[0m \u001b[0my_val\u001b[0m\u001b[0;34m)\u001b[0m\u001b[0;34m\u001b[0m\u001b[0m\n\u001b[0m\u001b[1;32m     14\u001b[0m     \u001b[0mprint\u001b[0m\u001b[0;34m(\u001b[0m\u001b[0;34m\"Val accuracy: {}\"\u001b[0m\u001b[0;34m.\u001b[0m\u001b[0mformat\u001b[0m\u001b[0;34m(\u001b[0m\u001b[0mval_accuracy\u001b[0m\u001b[0;34m)\u001b[0m\u001b[0;34m)\u001b[0m\u001b[0;34m\u001b[0m\u001b[0m\n\u001b[1;32m     15\u001b[0m     \u001b[0mfeature_importances\u001b[0m \u001b[0;34m=\u001b[0m \u001b[0mpd\u001b[0m\u001b[0;34m.\u001b[0m\u001b[0mDataFrame\u001b[0m\u001b[0;34m(\u001b[0m\u001b[0mclf\u001b[0m\u001b[0;34m.\u001b[0m\u001b[0mfeature_importances_\u001b[0m\u001b[0;34m,\u001b[0m \u001b[0mlist\u001b[0m\u001b[0;34m(\u001b[0m\u001b[0mX_train\u001b[0m\u001b[0;34m)\u001b[0m\u001b[0;34m)\u001b[0m\u001b[0;34m\u001b[0m\u001b[0m\n",
      "\u001b[0;32m~/.virtualenvs/python36/lib/python3.6/site-packages/sklearn/base.py\u001b[0m in \u001b[0;36mscore\u001b[0;34m(self, X, y, sample_weight)\u001b[0m\n\u001b[1;32m    288\u001b[0m         \"\"\"\n\u001b[1;32m    289\u001b[0m         \u001b[0;32mfrom\u001b[0m \u001b[0;34m.\u001b[0m\u001b[0mmetrics\u001b[0m \u001b[0;32mimport\u001b[0m \u001b[0maccuracy_score\u001b[0m\u001b[0;34m\u001b[0m\u001b[0m\n\u001b[0;32m--> 290\u001b[0;31m         \u001b[0;32mreturn\u001b[0m \u001b[0maccuracy_score\u001b[0m\u001b[0;34m(\u001b[0m\u001b[0my\u001b[0m\u001b[0;34m,\u001b[0m \u001b[0mself\u001b[0m\u001b[0;34m.\u001b[0m\u001b[0mpredict\u001b[0m\u001b[0;34m(\u001b[0m\u001b[0mX\u001b[0m\u001b[0;34m)\u001b[0m\u001b[0;34m,\u001b[0m \u001b[0msample_weight\u001b[0m\u001b[0;34m=\u001b[0m\u001b[0msample_weight\u001b[0m\u001b[0;34m)\u001b[0m\u001b[0;34m\u001b[0m\u001b[0m\n\u001b[0m\u001b[1;32m    291\u001b[0m \u001b[0;34m\u001b[0m\u001b[0m\n\u001b[1;32m    292\u001b[0m \u001b[0;34m\u001b[0m\u001b[0m\n",
      "\u001b[0;32m~/.virtualenvs/python36/lib/python3.6/site-packages/sklearn/ensemble/forest.py\u001b[0m in \u001b[0;36mpredict\u001b[0;34m(self, X)\u001b[0m\n\u001b[1;32m    541\u001b[0m             \u001b[0mThe\u001b[0m \u001b[0mpredicted\u001b[0m \u001b[0mclasses\u001b[0m\u001b[0;34m.\u001b[0m\u001b[0;34m\u001b[0m\u001b[0m\n\u001b[1;32m    542\u001b[0m         \"\"\"\n\u001b[0;32m--> 543\u001b[0;31m         \u001b[0mproba\u001b[0m \u001b[0;34m=\u001b[0m \u001b[0mself\u001b[0m\u001b[0;34m.\u001b[0m\u001b[0mpredict_proba\u001b[0m\u001b[0;34m(\u001b[0m\u001b[0mX\u001b[0m\u001b[0;34m)\u001b[0m\u001b[0;34m\u001b[0m\u001b[0m\n\u001b[0m\u001b[1;32m    544\u001b[0m \u001b[0;34m\u001b[0m\u001b[0m\n\u001b[1;32m    545\u001b[0m         \u001b[0;32mif\u001b[0m \u001b[0mself\u001b[0m\u001b[0;34m.\u001b[0m\u001b[0mn_outputs_\u001b[0m \u001b[0;34m==\u001b[0m \u001b[0;36m1\u001b[0m\u001b[0;34m:\u001b[0m\u001b[0;34m\u001b[0m\u001b[0m\n",
      "\u001b[0;32m~/.virtualenvs/python36/lib/python3.6/site-packages/sklearn/ensemble/forest.py\u001b[0m in \u001b[0;36mpredict_proba\u001b[0;34m(self, X)\u001b[0m\n\u001b[1;32m    581\u001b[0m         \u001b[0mcheck_is_fitted\u001b[0m\u001b[0;34m(\u001b[0m\u001b[0mself\u001b[0m\u001b[0;34m,\u001b[0m \u001b[0;34m'estimators_'\u001b[0m\u001b[0;34m)\u001b[0m\u001b[0;34m\u001b[0m\u001b[0m\n\u001b[1;32m    582\u001b[0m         \u001b[0;31m# Check data\u001b[0m\u001b[0;34m\u001b[0m\u001b[0;34m\u001b[0m\u001b[0m\n\u001b[0;32m--> 583\u001b[0;31m         \u001b[0mX\u001b[0m \u001b[0;34m=\u001b[0m \u001b[0mself\u001b[0m\u001b[0;34m.\u001b[0m\u001b[0m_validate_X_predict\u001b[0m\u001b[0;34m(\u001b[0m\u001b[0mX\u001b[0m\u001b[0;34m)\u001b[0m\u001b[0;34m\u001b[0m\u001b[0m\n\u001b[0m\u001b[1;32m    584\u001b[0m \u001b[0;34m\u001b[0m\u001b[0m\n\u001b[1;32m    585\u001b[0m         \u001b[0;31m# Assign chunk of trees to jobs\u001b[0m\u001b[0;34m\u001b[0m\u001b[0;34m\u001b[0m\u001b[0m\n",
      "\u001b[0;32m~/.virtualenvs/python36/lib/python3.6/site-packages/sklearn/ensemble/forest.py\u001b[0m in \u001b[0;36m_validate_X_predict\u001b[0;34m(self, X)\u001b[0m\n\u001b[1;32m    360\u001b[0m                                  \"call `fit` before exploiting the model.\")\n\u001b[1;32m    361\u001b[0m \u001b[0;34m\u001b[0m\u001b[0m\n\u001b[0;32m--> 362\u001b[0;31m         \u001b[0;32mreturn\u001b[0m \u001b[0mself\u001b[0m\u001b[0;34m.\u001b[0m\u001b[0mestimators_\u001b[0m\u001b[0;34m[\u001b[0m\u001b[0;36m0\u001b[0m\u001b[0;34m]\u001b[0m\u001b[0;34m.\u001b[0m\u001b[0m_validate_X_predict\u001b[0m\u001b[0;34m(\u001b[0m\u001b[0mX\u001b[0m\u001b[0;34m,\u001b[0m \u001b[0mcheck_input\u001b[0m\u001b[0;34m=\u001b[0m\u001b[0;32mTrue\u001b[0m\u001b[0;34m)\u001b[0m\u001b[0;34m\u001b[0m\u001b[0m\n\u001b[0m\u001b[1;32m    363\u001b[0m \u001b[0;34m\u001b[0m\u001b[0m\n\u001b[1;32m    364\u001b[0m     \u001b[0;34m@\u001b[0m\u001b[0mproperty\u001b[0m\u001b[0;34m\u001b[0m\u001b[0m\n",
      "\u001b[0;32m~/.virtualenvs/python36/lib/python3.6/site-packages/sklearn/tree/tree.py\u001b[0m in \u001b[0;36m_validate_X_predict\u001b[0;34m(self, X, check_input)\u001b[0m\n\u001b[1;32m    375\u001b[0m         \u001b[0;34m\"\"\"Validate X whenever one tries to predict, apply, predict_proba\"\"\"\u001b[0m\u001b[0;34m\u001b[0m\u001b[0m\n\u001b[1;32m    376\u001b[0m         \u001b[0;32mif\u001b[0m \u001b[0mcheck_input\u001b[0m\u001b[0;34m:\u001b[0m\u001b[0;34m\u001b[0m\u001b[0m\n\u001b[0;32m--> 377\u001b[0;31m             \u001b[0mX\u001b[0m \u001b[0;34m=\u001b[0m \u001b[0mcheck_array\u001b[0m\u001b[0;34m(\u001b[0m\u001b[0mX\u001b[0m\u001b[0;34m,\u001b[0m \u001b[0mdtype\u001b[0m\u001b[0;34m=\u001b[0m\u001b[0mDTYPE\u001b[0m\u001b[0;34m,\u001b[0m \u001b[0maccept_sparse\u001b[0m\u001b[0;34m=\u001b[0m\u001b[0;34m\"csr\"\u001b[0m\u001b[0;34m)\u001b[0m\u001b[0;34m\u001b[0m\u001b[0m\n\u001b[0m\u001b[1;32m    378\u001b[0m             if issparse(X) and (X.indices.dtype != np.intc or\n\u001b[1;32m    379\u001b[0m                                 X.indptr.dtype != np.intc):\n",
      "\u001b[0;32m~/.virtualenvs/python36/lib/python3.6/site-packages/sklearn/utils/validation.py\u001b[0m in \u001b[0;36mcheck_array\u001b[0;34m(array, accept_sparse, accept_large_sparse, dtype, order, copy, force_all_finite, ensure_2d, allow_nd, ensure_min_samples, ensure_min_features, warn_on_dtype, estimator)\u001b[0m\n\u001b[1;32m    525\u001b[0m             \u001b[0;32mtry\u001b[0m\u001b[0;34m:\u001b[0m\u001b[0;34m\u001b[0m\u001b[0m\n\u001b[1;32m    526\u001b[0m                 \u001b[0mwarnings\u001b[0m\u001b[0;34m.\u001b[0m\u001b[0msimplefilter\u001b[0m\u001b[0;34m(\u001b[0m\u001b[0;34m'error'\u001b[0m\u001b[0;34m,\u001b[0m \u001b[0mComplexWarning\u001b[0m\u001b[0;34m)\u001b[0m\u001b[0;34m\u001b[0m\u001b[0m\n\u001b[0;32m--> 527\u001b[0;31m                 \u001b[0marray\u001b[0m \u001b[0;34m=\u001b[0m \u001b[0mnp\u001b[0m\u001b[0;34m.\u001b[0m\u001b[0masarray\u001b[0m\u001b[0;34m(\u001b[0m\u001b[0marray\u001b[0m\u001b[0;34m,\u001b[0m \u001b[0mdtype\u001b[0m\u001b[0;34m=\u001b[0m\u001b[0mdtype\u001b[0m\u001b[0;34m,\u001b[0m \u001b[0morder\u001b[0m\u001b[0;34m=\u001b[0m\u001b[0morder\u001b[0m\u001b[0;34m)\u001b[0m\u001b[0;34m\u001b[0m\u001b[0m\n\u001b[0m\u001b[1;32m    528\u001b[0m             \u001b[0;32mexcept\u001b[0m \u001b[0mComplexWarning\u001b[0m\u001b[0;34m:\u001b[0m\u001b[0;34m\u001b[0m\u001b[0m\n\u001b[1;32m    529\u001b[0m                 raise ValueError(\"Complex data not supported\\n\"\n",
      "\u001b[0;32m~/.virtualenvs/python36/lib/python3.6/site-packages/numpy/core/numeric.py\u001b[0m in \u001b[0;36masarray\u001b[0;34m(a, dtype, order)\u001b[0m\n\u001b[1;32m    499\u001b[0m \u001b[0;34m\u001b[0m\u001b[0m\n\u001b[1;32m    500\u001b[0m     \"\"\"\n\u001b[0;32m--> 501\u001b[0;31m     \u001b[0;32mreturn\u001b[0m \u001b[0marray\u001b[0m\u001b[0;34m(\u001b[0m\u001b[0ma\u001b[0m\u001b[0;34m,\u001b[0m \u001b[0mdtype\u001b[0m\u001b[0;34m,\u001b[0m \u001b[0mcopy\u001b[0m\u001b[0;34m=\u001b[0m\u001b[0;32mFalse\u001b[0m\u001b[0;34m,\u001b[0m \u001b[0morder\u001b[0m\u001b[0;34m=\u001b[0m\u001b[0morder\u001b[0m\u001b[0;34m)\u001b[0m\u001b[0;34m\u001b[0m\u001b[0m\n\u001b[0m\u001b[1;32m    502\u001b[0m \u001b[0;34m\u001b[0m\u001b[0m\n\u001b[1;32m    503\u001b[0m \u001b[0;34m\u001b[0m\u001b[0m\n",
      "\u001b[0;31mTypeError\u001b[0m: float() argument must be a string or a number, not 'Timestamp'"
     ]
    }
   ],
   "source": [
    "max_depth_range = 30\n",
    "best_model = None\n",
    "best_val = 0\n",
    "\n",
    "for max_depth in range(1, max_depth_range):\n",
    "    print(\"Training Forest with max depth = {}\".format(max_depth))\n",
    "    clf = RandomForestClassifier(n_estimators=100, max_depth=max_depth, random_state=None)\n",
    "    clf.fit(X_train, y_train)\n",
    "\n",
    "    # print(\"Testing Data Balance: {}\".format(y_train.sum() / len(y_train)))\n",
    "    print(\"Training accuracy: {}\".format(clf.score(X_train, y_train)))\n",
    "    # print(\"Val Data Balance: {}\".format(y_test.sum() / len(y_test)))\n",
    "    val_accuracy = clf.score(X_val, y_val)\n",
    "    print(\"Val accuracy: {}\".format(val_accuracy))\n",
    "    feature_importances = pd.DataFrame(clf.feature_importances_, list(X_train))\n",
    "\n",
    "    if val_accuracy > best_val:\n",
    "        best_model = clf\n",
    "        best_val = val_accuracy"
   ]
  },
  {
   "cell_type": "code",
   "execution_count": 275,
   "metadata": {
    "collapsed": false
   },
   "outputs": [
    {
     "name": "stdout",
     "output_type": "stream",
     "text": [
      "Training accuracy: 0.7102975411028662\n",
      "Val accuracy: 0.5921519515758714\n"
     ]
    }
   ],
   "source": [
    "clf = best_model\n",
    "print(\"Training accuracy: {}\".format(clf.score(X_train, y_train)))\n",
    "# print(\"Val Data Balance: {}\".format(y_test.sum() / len(y_test)))\n",
    "val_accuracy = clf.score(X_val, y_val)\n",
    "print(\"Val accuracy: {}\".format(val_accuracy))\n",
    "feature_importances = pd.DataFrame(clf.feature_importances_, list(X_train))\n"
   ]
  },
  {
   "cell_type": "code",
   "execution_count": 276,
   "metadata": {
    "collapsed": false,
    "scrolled": false
   },
   "outputs": [
    {
     "data": {
      "text/plain": [
       "<matplotlib.axes._subplots.AxesSubplot at 0x148ed5e10>"
      ]
     },
     "execution_count": 276,
     "metadata": {},
     "output_type": "execute_result"
    },
    {
     "data": {
      "image/png": "[encoded data removed]",
      "text/plain": [
       "<Figure size 864x432 with 1 Axes>"
      ]
     },
     "metadata": {
      "needs_background": "light"
     },
     "output_type": "display_data"
    }
   ],
   "source": [
    "feature_importances.plot(kind='bar', legend=False, colormap='Paired', stacked=True, figsize=(12,6), fontsize=15)"
   ]
  },
  {
   "cell_type": "markdown",
   "metadata": {},
   "source": [
    "# Metrics"
   ]
  },
  {
   "cell_type": "code",
   "execution_count": 277,
   "metadata": {
    "collapsed": false
   },
   "outputs": [],
   "source": [
    "from sklearn.metrics import roc_curve, auc, confusion_matrix\n",
    "from sklearn.utils.multiclass import unique_labels"
   ]
  },
  {
   "cell_type": "markdown",
   "metadata": {},
   "source": [
    "### ROC Curve"
   ]
  },
  {
   "cell_type": "code",
   "execution_count": 278,
   "metadata": {
    "collapsed": false,
    "scrolled": false
   },
   "outputs": [
    {
     "data": {
      "text/plain": [
       "[<matplotlib.lines.Line2D at 0x1489fc2b0>]"
      ]
     },
     "execution_count": 278,
     "metadata": {},
     "output_type": "execute_result"
    },
    {
     "data": {
      "image/png": "[encoded data removed]",
      "text/plain": [
       "<Figure size 720x720 with 1 Axes>"
      ]
     },
     "metadata": {
      "needs_background": "light"
     },
     "output_type": "display_data"
    }
   ],
   "source": [
    "y_predict_probs = clf.predict_proba(X_val)\n",
    "y_preds = clf.predict(X_val)\n",
    "# print(clf.classes_)\n",
    "# print(y_predict_probs)\n",
    "\n",
    "fpr, tpr, thresholds = roc_curve(y_val, y_predict_probs[:,1])\n",
    "\n",
    "roc_auc = auc(fpr, tpr)\n",
    "plt.figure(figsize=(10,10))\n",
    "\n",
    "plt.plot(fpr, tpr, lw=1, alpha=1,\n",
    "         label='ROC')\n",
    "\n",
    "plt.plot([0, 1], [0, 1], linestyle='--', lw=2, color='r',\n",
    "         label='Chance', alpha=.8)"
   ]
  },
  {
   "cell_type": "code",
   "execution_count": 279,
   "metadata": {
    "collapsed": true
   },
   "outputs": [],
   "source": [
    "### Confusion Matrix"
   ]
  },
  {
   "cell_type": "code",
   "execution_count": 280,
   "metadata": {
    "collapsed": true
   },
   "outputs": [],
   "source": [
    "# Code frome: https://scikit-learn.org/stable/auto_examples/model_selection/plot_confusion_matrix.html#sphx-glr-auto-examples-model-selection-plot-confusion-matrix-py\n",
    "def plot_confusion_matrix(y_true, y_pred, classes,\n",
    "                          normalize=False,\n",
    "                          title=None,\n",
    "                          cmap=plt.cm.Blues):\n",
    "    \"\"\"\n",
    "    This function prints and plots the confusion matrix.\n",
    "    Normalization can be applied by setting `normalize=True`.\n",
    "    \"\"\"\n",
    "    if not title:\n",
    "        if normalize:\n",
    "            title = 'Normalized confusion matrix'\n",
    "        else:\n",
    "            title = 'Confusion matrix, without normalization'\n",
    "\n",
    "    # Compute confusion matrix\n",
    "    cm = confusion_matrix(y_true, y_pred)\n",
    "    # Only use the labels that appear in the data\n",
    "    print(unique_labels(y_true, y_pred))\n",
    "#     classes = classes[unique_labels(y_true, y_pred)]\n",
    "    if normalize:\n",
    "        cm = cm.astype('float') / cm.sum(axis=1)[:, np.newaxis]\n",
    "        print(\"Normalized confusion matrix\")\n",
    "    else:\n",
    "        print('Confusion matrix, without normalization')\n",
    "\n",
    "    print(cm)\n",
    "\n",
    "    fig, ax = plt.subplots()\n",
    "    im = ax.imshow(cm, interpolation='nearest', cmap=cmap)\n",
    "    ax.figure.colorbar(im, ax=ax)\n",
    "    \n",
    "    plt.figure(figsize=(15,15))\n",
    "    # We want to show all ticks...\n",
    "    ax.set(xticks=np.arange(cm.shape[1]),\n",
    "           yticks=np.arange(cm.shape[0]),\n",
    "           # ... and label them with the respective list entries\n",
    "           xticklabels=classes, yticklabels=classes,\n",
    "           title=title,\n",
    "           ylabel='True label',\n",
    "           xlabel='Predicted label')\n",
    "\n",
    "    # Rotate the tick labels and set their alignment.\n",
    "    plt.setp(ax.get_xticklabels(), rotation=45, ha=\"right\",\n",
    "             rotation_mode=\"anchor\")\n",
    "\n",
    "    # Loop over data dimensions and create text annotations.\n",
    "    fmt = '.2f' if normalize else 'd'\n",
    "#     thresh = cm.max() / 2.\n",
    "    thresh = 0.5\n",
    "    print(thresh)\n",
    "    for i in range(cm.shape[0]):\n",
    "        for j in range(cm.shape[1]):\n",
    "            ax.text(j, i, format(cm[i, j], fmt),\n",
    "                    ha=\"center\", va=\"center\",\n",
    "                    color=\"white\" if cm[i, j] > thresh else \"black\")\n",
    "    fig.tight_layout()\n",
    "    return ax"
   ]
  },
  {
   "cell_type": "code",
   "execution_count": 281,
   "metadata": {
    "collapsed": false,
    "scrolled": false
   },
   "outputs": [
    {
     "name": "stdout",
     "output_type": "stream",
     "text": [
      "[0 1]\n",
      "Confusion matrix, without normalization\n",
      "[[3461 1631]\n",
      " [2277 2213]]\n",
      "0.5\n",
      "[0 1]\n",
      "Normalized confusion matrix\n",
      "[[0.68 0.32]\n",
      " [0.51 0.49]]\n",
      "0.5\n"
     ]
    },
    {
     "data": {
      "image/png": "[encoded data removed]",
      "text/plain": [
       "<Figure size 432x288 with 2 Axes>"
      ]
     },
     "metadata": {
      "needs_background": "light"
     },
     "output_type": "display_data"
    },
    {
     "data": {
      "text/plain": [
       "<Figure size 1080x1080 with 0 Axes>"
      ]
     },
     "metadata": {},
     "output_type": "display_data"
    },
    {
     "data": {
      "image/png": "[encoded data removed]",
      "text/plain": [
       "<Figure size 432x288 with 2 Axes>"
      ]
     },
     "metadata": {
      "needs_background": "light"
     },
     "output_type": "display_data"
    },
    {
     "data": {
      "text/plain": [
       "<Figure size 1080x1080 with 0 Axes>"
      ]
     },
     "metadata": {},
     "output_type": "display_data"
    }
   ],
   "source": [
    "np.set_printoptions(precision=2)\n",
    "\n",
    "class_names = ['No Violation', 'Violation']\n",
    "\n",
    "# Plot non-normalized confusion matrix\n",
    "plot_confusion_matrix(y_val, y_preds, classes=class_names,\n",
    "                      title='Confusion matrix, without normalization')\n",
    "\n",
    "# Plot normalized confusion matrix\n",
    "plot_confusion_matrix(y_val, y_preds, classes=class_names, normalize=True,\n",
    "                      title='Normalized confusion matrix')\n",
    "\n",
    "plt.show()"
   ]
  },
  {
   "cell_type": "markdown",
   "metadata": {
    "collapsed": true
   },
   "source": [
    "# Order Score for Val"
   ]
  },
  {
   "cell_type": "code",
   "execution_count": 282,
   "metadata": {
    "collapsed": false
   },
   "outputs": [],
   "source": [
    "X_val = pd.concat([X_val, val_eval_cols], axis=1)"
   ]
  },
  {
   "cell_type": "code",
   "execution_count": 283,
   "metadata": {
    "collapsed": false
   },
   "outputs": [],
   "source": [
    "X_val['Priority'] = y_predict_probs[:,1]"
   ]
  },
  {
   "cell_type": "code",
   "execution_count": 284,
   "metadata": {
    "collapsed": false
   },
   "outputs": [
    {
     "name": "stderr",
     "output_type": "stream",
     "text": [
      "/Users/apple/.virtualenvs/python36/lib/python3.6/site-packages/ipykernel_launcher.py:13: RuntimeWarning: invalid value encountered in long_scalars\n",
      "  del sys.path[0]\n",
      "/Users/apple/.virtualenvs/python36/lib/python3.6/site-packages/ipykernel_launcher.py:14: RuntimeWarning: invalid value encountered in long_scalars\n",
      "  \n"
     ]
    },
    {
     "name": "stdout",
     "output_type": "stream",
     "text": [
      "\n",
      "Random \n",
      " -------------------------\n",
      "Average True positive Accuracy: 0.7454243982412996\n",
      "Average True Negative Accuracy: 0.7685832337714057\n",
      "\n",
      "Sanity Check: Perfect Accuracy (Rank by the label) \n",
      " -------------------------\n",
      "Average True positive Accuracy: 1.0\n",
      "Average True Negative Accuracy: 1.0\n",
      "\n",
      "Baseline (DOB Ordering) \n",
      " -------------------------\n",
      "Average True positive Accuracy: 0.7533638870258589\n",
      "Average True Negative Accuracy: 0.7802689594356261\n",
      "\n",
      "Model \n",
      " -------------------------\n",
      "Average True positive Accuracy: 0.798557269543185\n",
      "Average True Negative Accuracy: 0.8170499800876145\n",
      "\n",
      " Violation Ratio Score \n",
      " -------------------------\n",
      "Average True positive Accuracy: 0.778397794172442\n",
      "Average True Negative Accuracy: 0.7992155942424759\n"
     ]
    }
   ],
   "source": [
    "#### Random Score\n",
    "random_by_day = X_val.groupby('Date Entered').apply(lambda row: day_priority_score(row.sample(frac=1)['Violation']))\n",
    "\n",
    "print(\"\\nRandom \\n -------------------------\")\n",
    "accuracy_priority_score(random_by_day)\n",
    "####\n",
    "\n",
    "#### Perfect Model\n",
    "perfect_by_day = X_val.groupby('Date Entered').apply(lambda row: day_priority_score(row.sort_values(by='Violation', ascending=False)['Violation']))\n",
    "\n",
    "print(\"\\nSanity Check: Perfect Accuracy (Rank by the label) \\n -------------------------\")\n",
    "accuracy_priority_score(perfect_by_day)\n",
    "####\n",
    "\n",
    "#### Baseline Score\n",
    "baseline_by_day = X_val.groupby('Date Entered').apply(lambda row: day_priority_score(row.sort_values(by='Response Time')['Violation']))\n",
    "\n",
    "print(\"\\nBaseline (DOB Ordering) \\n -------------------------\")\n",
    "accuracy_priority_score(baseline_by_day)\n",
    "####\n",
    "\n",
    "#### Model Score\n",
    "model_by_day = X_val.groupby('Date Entered').apply(lambda row: day_priority_score(row.sort_values(by='Priority', ascending=False)['Violation']))\n",
    "\n",
    "print(\"\\nModel \\n -------------------------\")\n",
    "accuracy_priority_score(model_by_day)\n",
    "####\n",
    "\n",
    "#### Rank by Violation Ratio Score\n",
    "violation_ratio_by_day = X_val.groupby('Date Entered').apply(lambda row: day_priority_score(row.sort_values(by='Violation Ratio', ascending=False)['Violation']))\n",
    "\n",
    "print(\"\\n Violation Ratio Score \\n -------------------------\")\n",
    "accuracy_priority_score(violation_ratio_by_day)\n",
    "####"
   ]
  },
  {
   "cell_type": "code",
   "execution_count": null,
   "metadata": {
    "collapsed": true
   },
   "outputs": [],
   "source": []
  },
  {
   "cell_type": "code",
   "execution_count": null,
   "metadata": {
    "collapsed": true
   },
   "outputs": [],
   "source": []
  },
  {
   "cell_type": "code",
   "execution_count": null,
   "metadata": {
    "collapsed": true
   },
   "outputs": [],
   "source": []
  }
 ],
 "metadata": {
  "anaconda-cloud": {},
  "kernelspec": {
   "display_name": "python36",
   "language": "python",
   "name": "python36"
  },
  "language_info": {
   "codemirror_mode": {
    "name": "ipython",
    "version": 3
   },
   "file_extension": ".py",
   "mimetype": "text/x-python",
   "name": "python",
   "nbconvert_exporter": "python",
   "pygments_lexer": "ipython3",
   "version": "3.6.4"
  }
 },
 "nbformat": 4,
 "nbformat_minor": 0
}
