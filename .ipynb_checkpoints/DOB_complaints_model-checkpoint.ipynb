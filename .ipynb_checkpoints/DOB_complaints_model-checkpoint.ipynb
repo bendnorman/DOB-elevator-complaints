{
 "cells": [
  {
   "cell_type": "code",
   "execution_count": 1,
   "metadata": {
    "collapsed": true
   },
   "outputs": [],
   "source": [
    "import pandas as pd\n",
    "%matplotlib inline"
   ]
  },
  {
   "cell_type": "markdown",
   "metadata": {},
   "source": [
    "# Data Cleaning"
   ]
  },
  {
   "cell_type": "code",
   "execution_count": 2,
   "metadata": {
    "collapsed": false
   },
   "outputs": [
    {
     "name": "stderr",
     "output_type": "stream",
     "text": [
      "/Users/apple/.virtualenvs/python36/lib/python3.6/site-packages/IPython/core/interactiveshell.py:3044: DtypeWarning: Columns (4,7,9) have mixed types. Specify dtype option on import or set low_memory=False.\n",
      "  interactivity=interactivity, compiler=compiler, result=result)\n"
     ]
    },
    {
     "name": "stdout",
     "output_type": "stream",
     "text": [
      "['Complaint Number', 'Status', 'Date Entered', 'House Number', 'ZIP Code', 'House Street', 'BIN', 'Community Board', 'Special District', 'Complaint Category', 'Unit', 'Disposition Date', 'Disposition Code', 'Inspection Date', 'DOBRunDate']\n",
      "2299448\n"
     ]
    }
   ],
   "source": [
    "all_complaints = pd.read_csv('data/DOB_Complaints_Received.csv')\n",
    "print(list(all_complaints))\n",
    "print(len(all_complaints))"
   ]
  },
  {
   "cell_type": "markdown",
   "metadata": {},
   "source": [
    "### Handle types"
   ]
  },
  {
   "cell_type": "code",
   "execution_count": 3,
   "metadata": {
    "collapsed": true
   },
   "outputs": [],
   "source": [
    "all_complaints['Complaint Category'] = all_complaints['Complaint Category'].astype(str)"
   ]
  },
  {
   "cell_type": "markdown",
   "metadata": {},
   "source": [
    "### Filter down to just Boilers"
   ]
  },
  {
   "cell_type": "code",
   "execution_count": 4,
   "metadata": {
    "collapsed": false
   },
   "outputs": [
    {
     "name": "stdout",
     "output_type": "stream",
     "text": [
      "Number of total complaints: 2299448\n",
      "Number of boiler complaints: 29745\n"
     ]
    },
    {
     "data": {
      "text/plain": [
       "58    29745\n",
       "Name: Complaint Category, dtype: int64"
      ]
     },
     "execution_count": 4,
     "metadata": {},
     "output_type": "execute_result"
    }
   ],
   "source": [
    "complaint_categories = ['58']\n",
    "\n",
    "boiler_complaints = all_complaints[all_complaints['Complaint Category'].isin(complaint_categories)]\n",
    "\n",
    "print(\"Number of total complaints: {}\".format(len(all_complaints)))\n",
    "print(\"Number of boiler complaints: {}\".format(len(boiler_complaints)))\n",
    "\n",
    "boiler_complaints['Complaint Category'].value_counts()"
   ]
  },
  {
   "cell_type": "code",
   "execution_count": 5,
   "metadata": {
    "collapsed": false
   },
   "outputs": [
    {
     "name": "stderr",
     "output_type": "stream",
     "text": [
      "/Users/apple/.virtualenvs/python36/lib/python3.6/site-packages/ipykernel_launcher.py:1: SettingWithCopyWarning: \n",
      "A value is trying to be set on a copy of a slice from a DataFrame.\n",
      "Try using .loc[row_indexer,col_indexer] = value instead\n",
      "\n",
      "See the caveats in the documentation: http://pandas.pydata.org/pandas-docs/stable/indexing.html#indexing-view-versus-copy\n",
      "  \"\"\"Entry point for launching an IPython kernel.\n"
     ]
    },
    {
     "data": {
      "text/plain": [
       "<matplotlib.axes._subplots.AxesSubplot at 0x1133e3400>"
      ]
     },
     "execution_count": 5,
     "metadata": {},
     "output_type": "execute_result"
    },
    {
     "data": {
      "image/png": "[encoded data removed]",
      "text/plain": [
       "<Figure size 432x288 with 1 Axes>"
      ]
     },
     "metadata": {
      "needs_background": "light"
     },
     "output_type": "display_data"
    }
   ],
   "source": [
    "boiler_complaints['Inspection Date'] = pd.to_datetime(boiler_complaints['Inspection Date'])\n",
    "boiler_complaints.groupby(boiler_complaints['Inspection Date'].dt.year).count()['BIN'].plot(kind='bar')"
   ]
  },
  {
   "cell_type": "markdown",
   "metadata": {},
   "source": [
    "### Remove Duplicates"
   ]
  },
  {
   "cell_type": "code",
   "execution_count": 6,
   "metadata": {
    "collapsed": false
   },
   "outputs": [
    {
     "name": "stdout",
     "output_type": "stream",
     "text": [
      "number of boiler complaints after dropping duplicates: 27690\n"
     ]
    }
   ],
   "source": [
    "boiler_complaints = boiler_complaints.drop_duplicates(subset=['BIN', 'Date Entered'])\n",
    "print(\"number of boiler complaints after dropping duplicates: {}\".format(len(boiler_complaints)))"
   ]
  },
  {
   "cell_type": "markdown",
   "metadata": {},
   "source": [
    "### Filter down to relevant labels"
   ]
  },
  {
   "cell_type": "code",
   "execution_count": 7,
   "metadata": {
    "collapsed": false,
    "scrolled": true
   },
   "outputs": [
    {
     "name": "stdout",
     "output_type": "stream",
     "text": [
      "I2    7983\n",
      "C2    7479\n",
      "A8    5081\n",
      "A1    3987\n",
      "H1    1071\n",
      "      1032\n",
      "I1     344\n",
      "C4     176\n",
      "B1     116\n",
      "F8      93\n",
      "A9      83\n",
      "K1      52\n",
      "C1      39\n",
      "L2      27\n",
      "D6      24\n",
      "ND      20\n",
      "F1      18\n",
      "G6      10\n",
      "K2      10\n",
      "B2       6\n",
      "G8       6\n",
      "F3       5\n",
      "D2       5\n",
      "F6       3\n",
      "L1       3\n",
      "A6       2\n",
      "Y3       2\n",
      "H2       2\n",
      "A3       2\n",
      "P5       1\n",
      "C3       1\n",
      "Y2       1\n",
      "H4       1\n",
      "G4       1\n",
      "J1       1\n",
      "H5       1\n",
      "F5       1\n",
      "H3       1\n",
      "Name: Disposition Code, dtype: int64\n"
     ]
    },
    {
     "data": {
      "text/plain": [
       "<matplotlib.axes._subplots.AxesSubplot at 0x1156633c8>"
      ]
     },
     "execution_count": 7,
     "metadata": {},
     "output_type": "execute_result"
    },
    {
     "data": {
      "image/png": "[encoded data removed]",
      "text/plain": [
       "<Figure size 432x288 with 1 Axes>"
      ]
     },
     "metadata": {
      "needs_background": "light"
     },
     "output_type": "display_data"
    }
   ],
   "source": [
    "print(boiler_complaints['Disposition Code'].value_counts())\n",
    "boiler_complaints.groupby('Disposition Code').count()['BIN'].plot('bar')"
   ]
  },
  {
   "cell_type": "markdown",
   "metadata": {},
   "source": [
    "**Positive**: A8 (ECB Violation Served), A1 (Buildings Violation(s) Served), B1 (Buildings Violation(s) Prepared and Attempt to Serve will be Made)\n",
    "\n",
    "**Negative**: I2 (No Violation Warranted for Complaint at Time of Inspection), I1 (Complaint Unsubstantiated Based on Department Records), \n",
    "\n",
    "**Note**: C2 (Inspector Unable to Gain Access – Final Attempt) did not include to assume we could gain access to the building.  It kind of seems like that would be a different classification task"
   ]
  },
  {
   "cell_type": "code",
   "execution_count": 8,
   "metadata": {
    "collapsed": false
   },
   "outputs": [
    {
     "name": "stdout",
     "output_type": "stream",
     "text": [
      "Number of complaints after filter down to relevant dispoisition codes: 17511\n"
     ]
    }
   ],
   "source": [
    "positive_labels = ['A1', 'A8', 'B1']\n",
    "negative_labels = ['I1', 'I2']\n",
    "boiler_complaints = boiler_complaints[boiler_complaints['Disposition Code'].isin(positive_labels + negative_labels)]\n",
    "print(\"Number of complaints after filter down to relevant dispoisition codes: {}\".format(len(boiler_complaints)))"
   ]
  },
  {
   "cell_type": "markdown",
   "metadata": {},
   "source": [
    "# Create Labels"
   ]
  },
  {
   "cell_type": "code",
   "execution_count": 9,
   "metadata": {
    "collapsed": false
   },
   "outputs": [],
   "source": [
    "labels = boiler_complaints['Disposition Code'].isin(positive_labels) * 1"
   ]
  },
  {
   "cell_type": "code",
   "execution_count": 10,
   "metadata": {
    "collapsed": false,
    "scrolled": true
   },
   "outputs": [
    {
     "name": "stdout",
     "output_type": "stream",
     "text": [
      "Percent of labels that are positive (result in violation): 0.5244703329335846\n"
     ]
    }
   ],
   "source": [
    "print(\"Percent of labels that are positive (result in violation): {}\".format(sum(labels) / len(labels)))"
   ]
  },
  {
   "cell_type": "markdown",
   "metadata": {},
   "source": [
    "# Create Features"
   ]
  },
  {
   "cell_type": "code",
   "execution_count": 11,
   "metadata": {
    "collapsed": false
   },
   "outputs": [
    {
     "data": {
      "text/html": [
       "<div>\n",
       "<style scoped>\n",
       "    .dataframe tbody tr th:only-of-type {\n",
       "        vertical-align: middle;\n",
       "    }\n",
       "\n",
       "    .dataframe tbody tr th {\n",
       "        vertical-align: top;\n",
       "    }\n",
       "\n",
       "    .dataframe thead th {\n",
       "        text-align: right;\n",
       "    }\n",
       "</style>\n",
       "<table border=\"1\" class=\"dataframe\">\n",
       "  <thead>\n",
       "    <tr style=\"text-align: right;\">\n",
       "      <th></th>\n",
       "      <th>Violation</th>\n",
       "    </tr>\n",
       "  </thead>\n",
       "  <tbody>\n",
       "    <tr>\n",
       "      <th>2082</th>\n",
       "      <td>1</td>\n",
       "    </tr>\n",
       "    <tr>\n",
       "      <th>2083</th>\n",
       "      <td>0</td>\n",
       "    </tr>\n",
       "    <tr>\n",
       "      <th>2084</th>\n",
       "      <td>1</td>\n",
       "    </tr>\n",
       "    <tr>\n",
       "      <th>2094</th>\n",
       "      <td>0</td>\n",
       "    </tr>\n",
       "    <tr>\n",
       "      <th>2883</th>\n",
       "      <td>0</td>\n",
       "    </tr>\n",
       "  </tbody>\n",
       "</table>\n",
       "</div>"
      ],
      "text/plain": [
       "      Violation\n",
       "2082          1\n",
       "2083          0\n",
       "2084          1\n",
       "2094          0\n",
       "2883          0"
      ]
     },
     "execution_count": 11,
     "metadata": {},
     "output_type": "execute_result"
    }
   ],
   "source": [
    "features = pd.DataFrame()\n",
    "features['Violation'] = labels\n",
    "boiler_complaints['Violation'] = labels\n",
    "features.head()"
   ]
  },
  {
   "cell_type": "code",
   "execution_count": 12,
   "metadata": {
    "collapsed": true
   },
   "outputs": [],
   "source": [
    "def violation_ratio_test(column):\n",
    "    return features.groupby(column)['Violation'].sum() / features.groupby(column).count()['Violation']"
   ]
  },
  {
   "cell_type": "markdown",
   "metadata": {},
   "source": [
    "### Boiler Category / Priority"
   ]
  },
  {
   "cell_type": "code",
   "execution_count": 13,
   "metadata": {
    "collapsed": false
   },
   "outputs": [
    {
     "data": {
      "text/plain": [
       "58    17511\n",
       "Name: Complaint Category, dtype: int64"
      ]
     },
     "execution_count": 13,
     "metadata": {},
     "output_type": "execute_result"
    }
   ],
   "source": [
    "boiler_complaints['Complaint Category'].value_counts()"
   ]
  },
  {
   "cell_type": "code",
   "execution_count": 14,
   "metadata": {
    "collapsed": false,
    "scrolled": false
   },
   "outputs": [],
   "source": [
    "boiler_complaints['Complaint Category'] = boiler_complaints['Complaint Category'].astype('category')\n",
    "boiler_complaints['Complaint Category'] = boiler_complaints['Complaint Category'].cat.codes\n",
    "features['Complaint Category'] = boiler_complaints['Complaint Category']"
   ]
  },
  {
   "cell_type": "code",
   "execution_count": 15,
   "metadata": {
    "collapsed": false
   },
   "outputs": [
    {
     "data": {
      "text/plain": [
       "Complaint Category\n",
       "0    0.52447\n",
       "Name: Violation, dtype: float64"
      ]
     },
     "execution_count": 15,
     "metadata": {},
     "output_type": "execute_result"
    }
   ],
   "source": [
    "violation_ratio_test('Complaint Category')"
   ]
  },
  {
   "cell_type": "markdown",
   "metadata": {},
   "source": [
    "### Number of previous boiler complaints"
   ]
  },
  {
   "cell_type": "code",
   "execution_count": 16,
   "metadata": {
    "collapsed": true
   },
   "outputs": [],
   "source": [
    "def get_previous_complaints(row):\n",
    "    # Get all of complaings with same BIN\n",
    "    # remove complaints with same complaint number\n",
    "    # get total of violation (could even do violation ratio)\n",
    "    bin_complaints = boiler_complaints[boiler_complaints['BIN'] == row['BIN']]\n",
    "    bin_complaints = bin_complaints[boiler_complaints['Complaint Number'] != row['Complaint Number']]\n",
    "    return len(bin_complaints)"
   ]
  },
  {
   "cell_type": "code",
   "execution_count": 17,
   "metadata": {
    "collapsed": false
   },
   "outputs": [
    {
     "name": "stderr",
     "output_type": "stream",
     "text": [
      "/Users/apple/.virtualenvs/python36/lib/python3.6/site-packages/ipykernel_launcher.py:6: UserWarning: Boolean Series key will be reindexed to match DataFrame index.\n",
      "  \n"
     ]
    }
   ],
   "source": [
    "features['Previous Complaints'] = boiler_complaints.apply(get_previous_complaints, axis=1 )"
   ]
  },
  {
   "cell_type": "code",
   "execution_count": 18,
   "metadata": {
    "collapsed": false
   },
   "outputs": [
    {
     "data": {
      "text/plain": [
       "0     9114\n",
       "1     3262\n",
       "2     1635\n",
       "3      836\n",
       "4      505\n",
       "5      312\n",
       "6      308\n",
       "7      200\n",
       "9      170\n",
       "8      135\n",
       "10     132\n",
       "13      98\n",
       "40      82\n",
       "14      75\n",
       "73      74\n",
       "22      69\n",
       "66      67\n",
       "12      65\n",
       "11      60\n",
       "51      52\n",
       "16      51\n",
       "19      40\n",
       "36      37\n",
       "17      36\n",
       "26      27\n",
       "25      26\n",
       "21      22\n",
       "20      21\n",
       "Name: Previous Complaints, dtype: int64"
      ]
     },
     "execution_count": 18,
     "metadata": {},
     "output_type": "execute_result"
    }
   ],
   "source": [
    "features['Previous Complaints'].value_counts()"
   ]
  },
  {
   "cell_type": "code",
   "execution_count": 19,
   "metadata": {
    "collapsed": false,
    "scrolled": true
   },
   "outputs": [
    {
     "data": {
      "text/plain": [
       "Previous Complaints\n",
       "0     0.543120\n",
       "1     0.531576\n",
       "2     0.560245\n",
       "3     0.531100\n",
       "4     0.499010\n",
       "5     0.500000\n",
       "6     0.542208\n",
       "7     0.340000\n",
       "8     0.503704\n",
       "9     0.441176\n",
       "10    0.416667\n",
       "11    0.300000\n",
       "12    0.523077\n",
       "13    0.285714\n",
       "14    0.440000\n",
       "16    0.254902\n",
       "17    0.222222\n",
       "19    0.400000\n",
       "20    0.047619\n",
       "21    0.636364\n",
       "22    0.492754\n",
       "25    0.346154\n",
       "26    0.296296\n",
       "36    0.216216\n",
       "40    0.256098\n",
       "51    0.326923\n",
       "66    0.283582\n",
       "73    0.243243\n",
       "Name: Violation, dtype: float64"
      ]
     },
     "execution_count": 19,
     "metadata": {},
     "output_type": "execute_result"
    }
   ],
   "source": [
    "violation_ratio_test('Previous Complaints')"
   ]
  },
  {
   "cell_type": "code",
   "execution_count": 20,
   "metadata": {
    "collapsed": true
   },
   "outputs": [],
   "source": [
    "# The less previous complaints a building has, the more likely it is the complaint will result in a violation"
   ]
  },
  {
   "cell_type": "code",
   "execution_count": 21,
   "metadata": {
    "collapsed": false
   },
   "outputs": [
    {
     "data": {
      "text/html": [
       "<div>\n",
       "<style scoped>\n",
       "    .dataframe tbody tr th:only-of-type {\n",
       "        vertical-align: middle;\n",
       "    }\n",
       "\n",
       "    .dataframe tbody tr th {\n",
       "        vertical-align: top;\n",
       "    }\n",
       "\n",
       "    .dataframe thead th {\n",
       "        text-align: right;\n",
       "    }\n",
       "</style>\n",
       "<table border=\"1\" class=\"dataframe\">\n",
       "  <thead>\n",
       "    <tr style=\"text-align: right;\">\n",
       "      <th></th>\n",
       "      <th>Complaint Number</th>\n",
       "      <th>Status</th>\n",
       "      <th>Date Entered</th>\n",
       "      <th>House Number</th>\n",
       "      <th>ZIP Code</th>\n",
       "      <th>House Street</th>\n",
       "      <th>BIN</th>\n",
       "      <th>Community Board</th>\n",
       "      <th>Special District</th>\n",
       "      <th>Complaint Category</th>\n",
       "      <th>Unit</th>\n",
       "      <th>Disposition Date</th>\n",
       "      <th>Disposition Code</th>\n",
       "      <th>Inspection Date</th>\n",
       "      <th>DOBRunDate</th>\n",
       "      <th>Violation</th>\n",
       "    </tr>\n",
       "  </thead>\n",
       "  <tbody>\n",
       "    <tr>\n",
       "      <th>127622</th>\n",
       "      <td>1134056</td>\n",
       "      <td>CLOSED</td>\n",
       "      <td>12/19/2004</td>\n",
       "      <td>139</td>\n",
       "      <td>10001</td>\n",
       "      <td>WEST   28 STREET</td>\n",
       "      <td>1015102</td>\n",
       "      <td>105</td>\n",
       "      <td></td>\n",
       "      <td>0</td>\n",
       "      <td>BOILR</td>\n",
       "      <td>01/24/2005</td>\n",
       "      <td>I2</td>\n",
       "      <td>2005-01-18</td>\n",
       "      <td>11/07/2018 12:00:00 AM</td>\n",
       "      <td>0</td>\n",
       "    </tr>\n",
       "    <tr>\n",
       "      <th>181203</th>\n",
       "      <td>1190768</td>\n",
       "      <td>CLOSED</td>\n",
       "      <td>04/10/2007</td>\n",
       "      <td>139</td>\n",
       "      <td>10001</td>\n",
       "      <td>WEST   28 STREET</td>\n",
       "      <td>1015102</td>\n",
       "      <td>105</td>\n",
       "      <td></td>\n",
       "      <td>0</td>\n",
       "      <td>BOILR</td>\n",
       "      <td>05/04/2007</td>\n",
       "      <td>A1</td>\n",
       "      <td>2007-04-27</td>\n",
       "      <td>11/07/2018 12:00:00 AM</td>\n",
       "      <td>1</td>\n",
       "    </tr>\n",
       "  </tbody>\n",
       "</table>\n",
       "</div>"
      ],
      "text/plain": [
       "        Complaint Number  Status Date Entered  House Number   ZIP Code  \\\n",
       "127622           1134056  CLOSED   12/19/2004  139           10001       \n",
       "181203           1190768  CLOSED   04/10/2007  139           10001       \n",
       "\n",
       "                            House Street      BIN Community Board  \\\n",
       "127622  WEST   28 STREET                  1015102             105   \n",
       "181203  WEST   28 STREET                  1015102             105   \n",
       "\n",
       "       Special District  Complaint Category   Unit Disposition Date  \\\n",
       "127622                                    0  BOILR       01/24/2005   \n",
       "181203                                    0  BOILR       05/04/2007   \n",
       "\n",
       "       Disposition Code Inspection Date              DOBRunDate  Violation  \n",
       "127622               I2      2005-01-18  11/07/2018 12:00:00 AM          0  \n",
       "181203               A1      2007-04-27  11/07/2018 12:00:00 AM          1  "
      ]
     },
     "execution_count": 21,
     "metadata": {},
     "output_type": "execute_result"
    }
   ],
   "source": [
    "# Checking to make sure these aren't duplicate \n",
    "boiler_complaints[boiler_complaints['BIN'] == 1015102]"
   ]
  },
  {
   "cell_type": "markdown",
   "metadata": {},
   "source": [
    "### Number of previous boiler violations\n",
    "TODO: might be better for this to come from the DOB Violation dataset?\n",
    "\n",
    "Make sure current complaint is not included in the number of previous violations! (This would include the label in the features... yikes man)"
   ]
  },
  {
   "cell_type": "code",
   "execution_count": 22,
   "metadata": {
    "collapsed": true
   },
   "outputs": [],
   "source": [
    "def get_previous_violations(row):\n",
    "    # Get all of complaings with same BIN\n",
    "    # remove complaints with same complaint number\n",
    "    # get total of violation (could even do violation ratio)\n",
    "    bin_complaints = boiler_complaints[boiler_complaints['BIN'] == row['BIN']]\n",
    "    bin_complaints = bin_complaints[bin_complaints['Violation'] == 1]\n",
    "    bin_complaints = bin_complaints[boiler_complaints['Complaint Number'] != row['Complaint Number']]\n",
    "    return len(bin_complaints)"
   ]
  },
  {
   "cell_type": "code",
   "execution_count": 23,
   "metadata": {
    "collapsed": false
   },
   "outputs": [],
   "source": [
    "# # get_previous_violations test\n",
    "# for row in boiler_complaints.iterrows():\n",
    "#     num_previous_complaints = get_previous_violations(row[1])\n",
    "#     print(num_previous_complaints)\n",
    "# #     break"
   ]
  },
  {
   "cell_type": "code",
   "execution_count": 24,
   "metadata": {
    "collapsed": false
   },
   "outputs": [
    {
     "name": "stderr",
     "output_type": "stream",
     "text": [
      "/Users/apple/.virtualenvs/python36/lib/python3.6/site-packages/ipykernel_launcher.py:7: UserWarning: Boolean Series key will be reindexed to match DataFrame index.\n",
      "  import sys\n"
     ]
    }
   ],
   "source": [
    "features['Previous Violations'] = boiler_complaints.apply(get_previous_violations, axis=1 )"
   ]
  },
  {
   "cell_type": "code",
   "execution_count": 25,
   "metadata": {
    "collapsed": false
   },
   "outputs": [
    {
     "data": {
      "text/plain": [
       "0     11401\n",
       "1      2899\n",
       "2      1282\n",
       "3       644\n",
       "4       342\n",
       "5       231\n",
       "6       151\n",
       "8       120\n",
       "18       98\n",
       "7        95\n",
       "17       71\n",
       "19       48\n",
       "9        47\n",
       "13       28\n",
       "21       22\n",
       "16       17\n",
       "14       14\n",
       "22        1\n",
       "Name: Previous Violations, dtype: int64"
      ]
     },
     "execution_count": 25,
     "metadata": {},
     "output_type": "execute_result"
    }
   ],
   "source": [
    "features['Previous Violations'].value_counts()"
   ]
  },
  {
   "cell_type": "code",
   "execution_count": 26,
   "metadata": {
    "collapsed": false
   },
   "outputs": [
    {
     "data": {
      "text/plain": [
       "Previous Violations\n",
       "0     0.511709\n",
       "1     0.542256\n",
       "2     0.641186\n",
       "3     0.478261\n",
       "4     0.599415\n",
       "5     0.597403\n",
       "6     0.463576\n",
       "7     0.421053\n",
       "8     0.525000\n",
       "9     0.212766\n",
       "13    1.000000\n",
       "14    0.000000\n",
       "16    1.000000\n",
       "17    0.507042\n",
       "18    0.193878\n",
       "19    0.000000\n",
       "21    1.000000\n",
       "22    0.000000\n",
       "Name: Violation, dtype: float64"
      ]
     },
     "execution_count": 26,
     "metadata": {},
     "output_type": "execute_result"
    }
   ],
   "source": [
    "violation_ratio_test('Previous Violations')"
   ]
  },
  {
   "cell_type": "markdown",
   "metadata": {},
   "source": [
    "### Number of previous boiler violations / complaints ratio"
   ]
  },
  {
   "cell_type": "code",
   "execution_count": 27,
   "metadata": {
    "collapsed": false
   },
   "outputs": [
    {
     "data": {
      "text/html": [
       "<div>\n",
       "<style scoped>\n",
       "    .dataframe tbody tr th:only-of-type {\n",
       "        vertical-align: middle;\n",
       "    }\n",
       "\n",
       "    .dataframe tbody tr th {\n",
       "        vertical-align: top;\n",
       "    }\n",
       "\n",
       "    .dataframe thead th {\n",
       "        text-align: right;\n",
       "    }\n",
       "</style>\n",
       "<table border=\"1\" class=\"dataframe\">\n",
       "  <thead>\n",
       "    <tr style=\"text-align: right;\">\n",
       "      <th></th>\n",
       "      <th>Violation</th>\n",
       "      <th>Complaint Category</th>\n",
       "      <th>Previous Complaints</th>\n",
       "      <th>Previous Violations</th>\n",
       "      <th>Violation Ratio</th>\n",
       "    </tr>\n",
       "  </thead>\n",
       "  <tbody>\n",
       "    <tr>\n",
       "      <th>2082</th>\n",
       "      <td>1</td>\n",
       "      <td>0</td>\n",
       "      <td>0</td>\n",
       "      <td>0</td>\n",
       "      <td>0.000000</td>\n",
       "    </tr>\n",
       "    <tr>\n",
       "      <th>2083</th>\n",
       "      <td>0</td>\n",
       "      <td>0</td>\n",
       "      <td>3</td>\n",
       "      <td>2</td>\n",
       "      <td>0.666667</td>\n",
       "    </tr>\n",
       "    <tr>\n",
       "      <th>2084</th>\n",
       "      <td>1</td>\n",
       "      <td>0</td>\n",
       "      <td>0</td>\n",
       "      <td>0</td>\n",
       "      <td>0.000000</td>\n",
       "    </tr>\n",
       "    <tr>\n",
       "      <th>2094</th>\n",
       "      <td>0</td>\n",
       "      <td>0</td>\n",
       "      <td>0</td>\n",
       "      <td>0</td>\n",
       "      <td>0.000000</td>\n",
       "    </tr>\n",
       "    <tr>\n",
       "      <th>2883</th>\n",
       "      <td>0</td>\n",
       "      <td>0</td>\n",
       "      <td>1</td>\n",
       "      <td>1</td>\n",
       "      <td>1.000000</td>\n",
       "    </tr>\n",
       "  </tbody>\n",
       "</table>\n",
       "</div>"
      ],
      "text/plain": [
       "      Violation  Complaint Category  Previous Complaints  Previous Violations  \\\n",
       "2082          1                   0                    0                    0   \n",
       "2083          0                   0                    3                    2   \n",
       "2084          1                   0                    0                    0   \n",
       "2094          0                   0                    0                    0   \n",
       "2883          0                   0                    1                    1   \n",
       "\n",
       "      Violation Ratio  \n",
       "2082         0.000000  \n",
       "2083         0.666667  \n",
       "2084         0.000000  \n",
       "2094         0.000000  \n",
       "2883         1.000000  "
      ]
     },
     "execution_count": 27,
     "metadata": {},
     "output_type": "execute_result"
    }
   ],
   "source": [
    "features['Violation Ratio'] = (features['Previous Violations'] / features['Previous Complaints']).fillna(0)\n",
    "features.head()"
   ]
  },
  {
   "cell_type": "code",
   "execution_count": 28,
   "metadata": {
    "collapsed": false
   },
   "outputs": [
    {
     "name": "stdout",
     "output_type": "stream",
     "text": [
      "0.000000    11401\n",
      "1.000000     2677\n",
      "0.500000      920\n",
      "0.666667      416\n",
      "0.333333      282\n",
      "0.250000      156\n",
      "0.750000      135\n",
      "0.200000       90\n",
      "0.600000       88\n",
      "0.428571       72\n",
      "0.285714       62\n",
      "0.800000       61\n",
      "0.400000       59\n",
      "0.246575       56\n",
      "0.222222       51\n",
      "0.272727       48\n",
      "0.287879       48\n",
      "0.142857       47\n",
      "0.833333       44\n",
      "0.075000       38\n",
      "0.375000       33\n",
      "0.076923       28\n",
      "0.444444       27\n",
      "0.125000       27\n",
      "0.571429       26\n",
      "0.307692       24\n",
      "0.050000       23\n",
      "0.450000       23\n",
      "0.625000       22\n",
      "0.954545       22\n",
      "            ...  \n",
      "0.888889       11\n",
      "0.181818       11\n",
      "0.230769       11\n",
      "0.777778       11\n",
      "0.437500       10\n",
      "0.714286        9\n",
      "0.857143        9\n",
      "0.615385        9\n",
      "0.384615        9\n",
      "0.320000        9\n",
      "0.700000        8\n",
      "0.363636        8\n",
      "0.636364        8\n",
      "0.269231        8\n",
      "0.194444        8\n",
      "0.461538        7\n",
      "0.538462        7\n",
      "0.642857        6\n",
      "0.736842        6\n",
      "0.416667        6\n",
      "0.294118        6\n",
      "0.583333        6\n",
      "0.692308        5\n",
      "0.727273        4\n",
      "0.187500        4\n",
      "0.875000        4\n",
      "0.058824        2\n",
      "0.062500        2\n",
      "0.100000        2\n",
      "0.052632        2\n",
      "Name: Violation Ratio, Length: 77, dtype: int64\n"
     ]
    },
    {
     "data": {
      "text/plain": [
       "Violation Ratio\n",
       "0.000000    0.511709\n",
       "0.050000    0.130435\n",
       "0.052632    1.000000\n",
       "0.058824    1.000000\n",
       "0.062500    1.000000\n",
       "0.075000    0.000000\n",
       "0.076923    0.071429\n",
       "0.100000    1.000000\n",
       "0.105263    0.000000\n",
       "0.111111    0.181818\n",
       "0.117647    0.000000\n",
       "0.125000    0.148148\n",
       "0.142857    0.255319\n",
       "0.153846    0.200000\n",
       "0.166667    0.368421\n",
       "0.181818    1.000000\n",
       "0.187500    1.000000\n",
       "0.194444    1.000000\n",
       "0.200000    0.177778\n",
       "0.222222    0.117647\n",
       "0.227273    0.000000\n",
       "0.230769    0.000000\n",
       "0.232877    1.000000\n",
       "0.246575    0.000000\n",
       "0.250000    0.301282\n",
       "0.269231    1.000000\n",
       "0.272727    0.625000\n",
       "0.285714    0.419355\n",
       "0.287879    0.000000\n",
       "0.294118    1.000000\n",
       "              ...   \n",
       "0.444444    0.555556\n",
       "0.450000    0.000000\n",
       "0.461538    1.000000\n",
       "0.500000    0.545652\n",
       "0.538462    0.000000\n",
       "0.555556    0.285714\n",
       "0.571429    0.538462\n",
       "0.583333    0.000000\n",
       "0.600000    0.409091\n",
       "0.615385    1.000000\n",
       "0.619048    1.000000\n",
       "0.625000    0.818182\n",
       "0.636364    1.000000\n",
       "0.642857    0.000000\n",
       "0.666667    0.706731\n",
       "0.684211    1.000000\n",
       "0.692308    0.000000\n",
       "0.700000    1.000000\n",
       "0.714286    0.666667\n",
       "0.727273    0.000000\n",
       "0.736842    0.000000\n",
       "0.750000    0.548148\n",
       "0.777778    0.727273\n",
       "0.800000    0.655738\n",
       "0.833333    0.545455\n",
       "0.857143    0.777778\n",
       "0.875000    0.000000\n",
       "0.888889    0.818182\n",
       "0.954545    1.000000\n",
       "1.000000    0.655585\n",
       "Name: Violation, Length: 77, dtype: float64"
      ]
     },
     "execution_count": 28,
     "metadata": {},
     "output_type": "execute_result"
    }
   ],
   "source": [
    "print(features['Violation Ratio'].value_counts())\n",
    "violation_ratio_test('Violation Ratio')"
   ]
  },
  {
   "cell_type": "code",
   "execution_count": 29,
   "metadata": {
    "collapsed": false
   },
   "outputs": [
    {
     "data": {
      "text/html": [
       "<div>\n",
       "<style scoped>\n",
       "    .dataframe tbody tr th:only-of-type {\n",
       "        vertical-align: middle;\n",
       "    }\n",
       "\n",
       "    .dataframe tbody tr th {\n",
       "        vertical-align: top;\n",
       "    }\n",
       "\n",
       "    .dataframe thead th {\n",
       "        text-align: right;\n",
       "    }\n",
       "</style>\n",
       "<table border=\"1\" class=\"dataframe\">\n",
       "  <thead>\n",
       "    <tr style=\"text-align: right;\">\n",
       "      <th></th>\n",
       "      <th>Violation</th>\n",
       "      <th>Complaint Category</th>\n",
       "      <th>Previous Complaints</th>\n",
       "      <th>Previous Violations</th>\n",
       "      <th>Violation Ratio</th>\n",
       "      <th>ZIP Code</th>\n",
       "    </tr>\n",
       "  </thead>\n",
       "  <tbody>\n",
       "    <tr>\n",
       "      <th>2082</th>\n",
       "      <td>1</td>\n",
       "      <td>0</td>\n",
       "      <td>0</td>\n",
       "      <td>0</td>\n",
       "      <td>0.000000</td>\n",
       "      <td>64</td>\n",
       "    </tr>\n",
       "    <tr>\n",
       "      <th>2083</th>\n",
       "      <td>0</td>\n",
       "      <td>0</td>\n",
       "      <td>3</td>\n",
       "      <td>2</td>\n",
       "      <td>0.666667</td>\n",
       "      <td>72</td>\n",
       "    </tr>\n",
       "    <tr>\n",
       "      <th>2084</th>\n",
       "      <td>1</td>\n",
       "      <td>0</td>\n",
       "      <td>0</td>\n",
       "      <td>0</td>\n",
       "      <td>0.000000</td>\n",
       "      <td>49</td>\n",
       "    </tr>\n",
       "    <tr>\n",
       "      <th>2094</th>\n",
       "      <td>0</td>\n",
       "      <td>0</td>\n",
       "      <td>0</td>\n",
       "      <td>0</td>\n",
       "      <td>0.000000</td>\n",
       "      <td>83</td>\n",
       "    </tr>\n",
       "    <tr>\n",
       "      <th>2883</th>\n",
       "      <td>0</td>\n",
       "      <td>0</td>\n",
       "      <td>1</td>\n",
       "      <td>1</td>\n",
       "      <td>1.000000</td>\n",
       "      <td>70</td>\n",
       "    </tr>\n",
       "  </tbody>\n",
       "</table>\n",
       "</div>"
      ],
      "text/plain": [
       "      Violation  Complaint Category  Previous Complaints  Previous Violations  \\\n",
       "2082          1                   0                    0                    0   \n",
       "2083          0                   0                    3                    2   \n",
       "2084          1                   0                    0                    0   \n",
       "2094          0                   0                    0                    0   \n",
       "2883          0                   0                    1                    1   \n",
       "\n",
       "      Violation Ratio  ZIP Code  \n",
       "2082         0.000000        64  \n",
       "2083         0.666667        72  \n",
       "2084         0.000000        49  \n",
       "2094         0.000000        83  \n",
       "2883         1.000000        70  "
      ]
     },
     "execution_count": 29,
     "metadata": {},
     "output_type": "execute_result"
    }
   ],
   "source": [
    "features['ZIP Code'] = boiler_complaints['ZIP Code'].astype('category').cat.codes\n",
    "features.head()"
   ]
  },
  {
   "cell_type": "markdown",
   "metadata": {},
   "source": [
    "# Boiler make"
   ]
  },
  {
   "cell_type": "code",
   "execution_count": 30,
   "metadata": {
    "collapsed": false
   },
   "outputs": [
    {
     "data": {
      "text/plain": [
       "['Tracking Number',\n",
       " 'Boiler ID',\n",
       " 'Report Type',\n",
       " 'ApplicantFirst Name',\n",
       " 'Applicant Last Name',\n",
       " 'Applicant License Type',\n",
       " 'Applicant License Number',\n",
       " 'Owner First Name',\n",
       " 'Owner Last Name',\n",
       " 'Boiler Make',\n",
       " 'Boiler Model',\n",
       " 'Pressure Type',\n",
       " 'Inspection Type',\n",
       " 'Inspection Date',\n",
       " 'Defects Exist',\n",
       " 'LFF (45 Days)',\n",
       " 'LFF (180 Days)',\n",
       " 'Filing Fee',\n",
       " 'Total Amount Paid',\n",
       " 'Report Status',\n",
       " 'Bin Number']"
      ]
     },
     "execution_count": 30,
     "metadata": {},
     "output_type": "execute_result"
    }
   ],
   "source": [
    "boiler_inspections = pd.read_csv('data/DOB_NOW_Boiler_Safety.csv')\n",
    "list(boiler_inspections)"
   ]
  },
  {
   "cell_type": "markdown",
   "metadata": {},
   "source": [
    "### Drop nan Boiler makes"
   ]
  },
  {
   "cell_type": "code",
   "execution_count": 31,
   "metadata": {
    "collapsed": false
   },
   "outputs": [
    {
     "name": "stdout",
     "output_type": "stream",
     "text": [
      "169583\n",
      "162877\n"
     ]
    }
   ],
   "source": [
    "boiler_features = ['Boiler Make', 'Defects Exist', 'Pressure Type']\n",
    "\n",
    "print(len(boiler_inspections))\n",
    "boiler_inspections = boiler_inspections.dropna(subset=boiler_features)\n",
    "print(len(boiler_inspections))"
   ]
  },
  {
   "cell_type": "code",
   "execution_count": 32,
   "metadata": {
    "collapsed": false,
    "scrolled": true
   },
   "outputs": [
    {
     "name": "stdout",
     "output_type": "stream",
     "text": [
      "14798 types of models\n",
      "2247 types of makes\n"
     ]
    }
   ],
   "source": [
    "print(\"{} types of models\".format(len(set(boiler_inspections['Boiler Model']))))\n",
    "print(\"{} types of makes\".format(len(set(boiler_inspections['Boiler Make']))))"
   ]
  },
  {
   "cell_type": "markdown",
   "metadata": {},
   "source": [
    "### Convert to to datetime"
   ]
  },
  {
   "cell_type": "code",
   "execution_count": 33,
   "metadata": {
    "collapsed": true
   },
   "outputs": [],
   "source": [
    "boiler_inspections['Inspection Date'] = pd.to_datetime(boiler_inspections['Inspection Date'])\n",
    "boiler_inspections['Defects Exist'] = boiler_inspections['Defects Exist'].map({'Yes': 1, 'No':0})"
   ]
  },
  {
   "cell_type": "markdown",
   "metadata": {},
   "source": [
    "### Clean boiler makes"
   ]
  },
  {
   "cell_type": "code",
   "execution_count": 34,
   "metadata": {
    "collapsed": false
   },
   "outputs": [],
   "source": [
    "from difflib import SequenceMatcher\n",
    "\n",
    "def similarity(a, b):\n",
    "#     print(a)\n",
    "#     print(b)\n",
    "#     print()\n",
    "    return SequenceMatcher(None, a, b).ratio()"
   ]
  },
  {
   "cell_type": "code",
   "execution_count": 35,
   "metadata": {
    "collapsed": false,
    "scrolled": true
   },
   "outputs": [
    {
     "name": "stdout",
     "output_type": "stream",
     "text": [
      "[similarity()] tests\n",
      "0.9\n",
      "0.13333333333333333\n",
      "0.5217391304347826\n",
      "\n"
     ]
    }
   ],
   "source": [
    "print(\"[similarity()] tests\")\n",
    "print(similarity('LOCH-CERST', 'LOCH-CREST'))\n",
    "print(similarity('WEIL MCLAIN', 'BEST'))\n",
    "print(similarity('H B SMITH NEW', 'SMITH    H'))\n",
    "print()\n",
    "# create maping of a make to the other spellings\n",
    "makes = {}\n",
    "\n",
    "for make in set(boiler_inspections['Boiler Make']):\n",
    "    # is there something similar in the set of keys? if so put it in the values, if not, create a new key\n",
    "#     print(f\"looking at {make}\")\n",
    "    threshold = 0.6\n",
    "    found_key = ''\n",
    "    \n",
    "    for key in makes.keys():\n",
    "        sim = similarity(key, make)\n",
    "        if sim >= threshold:\n",
    "            found_key = key\n",
    "            break\n",
    "        else:\n",
    "            continue\n",
    "    \n",
    "    if found_key != '':\n",
    "#         print(found_key)\n",
    "        makes[found_key].append(make)\n",
    "    else:\n",
    "        makes[make] = [make]\n",
    "#     print(makes)"
   ]
  },
  {
   "cell_type": "code",
   "execution_count": 36,
   "metadata": {
    "collapsed": false
   },
   "outputs": [
    {
     "name": "stdout",
     "output_type": "stream",
     "text": [
      "425\n"
     ]
    },
    {
     "data": {
      "text/plain": [
       "{'U S NATIONAL': 'U S NATIONAL',\n",
       " 'NATIONAL': 'U S NATIONAL',\n",
       " 'US NATIONAL N': 'U S NATIONAL',\n",
       " 'US NATIONAL': 'U S NATIONAL',\n",
       " 'U.S. NATIONAL': 'U S NATIONAL',\n",
       " 'US RADIATION': 'U S NATIONAL',\n",
       " 'NATIONALUS': 'U S NATIONAL',\n",
       " 'NATIONAL BOIL': 'U S NATIONAL',\n",
       " 'NATIONALU': 'U S NATIONAL',\n",
       " 'NATIONAL  RAD': 'U S NATIONAL',\n",
       " 'US CAPTIOL': 'U S NATIONAL',\n",
       " 'NATIONAL RADI': 'U S NATIONAL',\n",
       " 'NATIONAL U': 'U S NATIONAL',\n",
       " 'NATION': 'U S NATIONAL',\n",
       " 'US NATL': 'U S NATIONAL',\n",
       " 'NATIONAL U.S': 'U S NATIONAL',\n",
       " 'NATIONAL RAD': 'U S NATIONAL',\n",
       " 'US NAT': 'U S NATIONAL',\n",
       " 'US NAT RAD': 'U S NATIONAL',\n",
       " 'U SNATIONAL': 'U S NATIONAL',\n",
       " 'NATIONAL US R': 'U S NATIONAL',\n",
       " 'FULTON NATIONAL#9755': 'U S NATIONAL',\n",
       " \"US NAT'L\": 'U S NATIONAL',\n",
       " 'H.W.NATIONAL': 'U S NATIONAL',\n",
       " 'NATIONAL.U.S': 'U S NATIONAL',\n",
       " 'NATIONAL 6-16': 'U S NATIONAL',\n",
       " 'USNATIONA': 'U S NATIONAL',\n",
       " 'U.S NATIONAL': 'U S NATIONAL',\n",
       " 'NATIONAL R': 'U S NATIONAL',\n",
       " 'US NATIONA': 'U S NATIONAL',\n",
       " 'NATION RAD': 'U S NATIONAL',\n",
       " 'SECTIONAL': 'U S NATIONAL',\n",
       " 'PACIFIC NATIONAL': 'U S NATIONAL',\n",
       " 'US NATIONAL 6': 'U S NATIONAL',\n",
       " 'NATIONAL U.S.': 'U S NATIONAL',\n",
       " 'NATIONAL HEAT': 'U S NATIONAL',\n",
       " 'US CAPITOL': 'U S NATIONAL',\n",
       " 'NATIONAL 5-16': 'U S NATIONAL',\n",
       " 'INTERNATIONAL': 'U S NATIONAL',\n",
       " 'NATIONAL 8-16': 'U S NATIONAL',\n",
       " 'U.S.NATIONAL': 'U S NATIONAL',\n",
       " 'US. NATIONAL': 'U S NATIONAL',\n",
       " 'NATIONAL US': 'U S NATIONAL',\n",
       " 'NATIONAL 6C': 'U S NATIONAL',\n",
       " 'USNATIONAL': 'U S NATIONAL',\n",
       " 'US CAPITAL': 'U S NATIONAL',\n",
       " 'NATIONAL SERI': 'U S NATIONAL',\n",
       " 'AMER. STANDAR': 'AMER. STANDAR',\n",
       " 'AMERICASTD': 'AMER. STANDAR',\n",
       " 'AMERICAN RADIATOR': 'AMER. STANDAR',\n",
       " 'AMERICAN STANDA': 'AMER. STANDAR',\n",
       " 'AMERICAN.STAND': 'AMER. STANDAR',\n",
       " 'AMER STD': 'AMER. STANDAR',\n",
       " 'AMER.STAND. G-608': 'AMER. STANDAR',\n",
       " 'AMER.STD': 'AMER. STANDAR',\n",
       " 'AMERSTAND': 'AMER. STANDAR',\n",
       " 'AMERICAN R': 'AMER. STANDAR',\n",
       " 'AMERICAN STD.': 'AMER. STANDAR',\n",
       " 'AMER-STANDARD': 'AMER. STANDAR',\n",
       " 'AMER STAD': 'AMER. STANDAR',\n",
       " 'AMERICAM STANDARD': 'AMER. STANDAR',\n",
       " 'AMERIC RAD': 'AMER. STANDAR',\n",
       " 'AMERICAN STANDARD': 'AMER. STANDAR',\n",
       " 'AM STANDARD': 'AMER. STANDAR',\n",
       " 'AMERICANSTANDARD': 'AMER. STANDAR',\n",
       " 'AMERICAN STND': 'AMER. STANDAR',\n",
       " 'AMERICAN-STAN': 'AMER. STANDAR',\n",
       " 'AMER.STANDARD': 'AMER. STANDAR',\n",
       " 'AMER  ST': 'AMER. STANDAR',\n",
       " 'AMER STND': 'AMER. STANDAR',\n",
       " 'AMERICAN IDEA': 'AMER. STANDAR',\n",
       " 'AMER.RAD': 'AMER. STANDAR',\n",
       " 'AMERSTD': 'AMER. STANDAR',\n",
       " 'AMERICSTD': 'AMER. STANDAR',\n",
       " 'AMER.STAND': 'AMER. STANDAR',\n",
       " 'AMERIC STD': 'AMER. STANDAR',\n",
       " 'AMERI. RAD': 'AMER. STANDAR',\n",
       " 'AME STD': 'AMER. STANDAR',\n",
       " 'AM. STANDARD 88': 'AMER. STANDAR',\n",
       " 'AM STND': 'AMER. STANDAR',\n",
       " 'AMERICAN STA': 'AMER. STANDAR',\n",
       " 'AMER STAND': 'AMER. STANDAR',\n",
       " 'AMERICAN STAND': 'AMER. STANDAR',\n",
       " 'AMERICAN STAND.': 'AMER. STANDAR',\n",
       " 'AMERICAN STAN': 'AMER. STANDAR',\n",
       " 'STANDARD': 'AMER. STANDAR',\n",
       " 'AMER. STD': 'AMER. STANDAR',\n",
       " 'AMERCSTD': 'AMER. STANDAR',\n",
       " 'AMERICAN STD': 'AMER. STANDAR',\n",
       " 'AMERICANSTAND': 'AMER. STANDAR',\n",
       " 'AMER STAN': 'AMER. STANDAR',\n",
       " 'AMERICAN  STD': 'AMER. STANDAR',\n",
       " 'AMERICAN STANDAR': 'AMER. STANDAR',\n",
       " 'AM STD': 'AMER. STANDAR',\n",
       " 'AMER RAD': 'AMER. STANDAR',\n",
       " 'AMER STANDARD': 'AMER. STANDAR',\n",
       " 'AMER  STD': 'AMER. STANDAR',\n",
       " 'WEIL MCLAIN EG-': 'WEIL MCLAIN EG-',\n",
       " 'WELIMCLAIN': 'WEIL MCLAIN EG-',\n",
       " 'WEIL-MCLAIN 988': 'WEIL MCLAIN EG-',\n",
       " 'WEIL MCLIAN': 'WEIL MCLAIN EG-',\n",
       " 'WAIL MCCLAIN': 'WEIL MCLAIN EG-',\n",
       " 'W.MCLAIN': 'WEIL MCLAIN EG-',\n",
       " 'WEIL MCLAIN': 'WEIL MCLAIN EG-',\n",
       " 'WEIL CLAIN': 'WEIL MCLAIN EG-',\n",
       " 'WEIL MCLIN': 'WEIL MCLAIN EG-',\n",
       " 'WEIL MCLA': 'WEIL MCLAIN EG-',\n",
       " 'WEIL MCCLAIN': 'WEIL MCLAIN EG-',\n",
       " 'WEIL MCLAIN 480': 'WEIL MCLAIN EG-',\n",
       " 'WEIL MALAIN': 'WEIL MCLAIN EG-',\n",
       " 'WEILMCLAINN': 'WEIL MCLAIN EG-',\n",
       " 'WEIL MC EGH-125': 'WEIL MCLAIN EG-',\n",
       " 'WEILMCLAN': 'WEIL MCLAIN EG-',\n",
       " 'W MCLAIN': 'WEIL MCLAIN EG-',\n",
       " 'WEIL.MCLAIN': 'WEIL MCLAIN EG-',\n",
       " 'WEIL MCLAIN L': 'WEIL MCLAIN EG-',\n",
       " 'WEIL MCLAIN EGH': 'WEIL MCLAIN EG-',\n",
       " 'WEIL MACLAIN': 'WEIL MCLAIN EG-',\n",
       " 'W  MCLAN': 'WEIL MCLAIN EG-',\n",
       " 'WEIL MCLAIN ULTRA': 'WEIL MCLAIN EG-',\n",
       " 'WEILMCLN': 'WEIL MCLAIN EG-',\n",
       " 'WEIL MCLAINEG': 'WEIL MCLAIN EG-',\n",
       " 'WEIL MCLAIN S': 'WEIL MCLAIN EG-',\n",
       " 'WEIL MC.': 'WEIL MCLAIN EG-',\n",
       " 'WEILMCL.': 'WEIL MCLAIN EG-',\n",
       " 'WEIIL MCLAIN': 'WEIL MCLAIN EG-',\n",
       " 'WEI MCLAIN': 'WEIL MCLAIN EG-',\n",
       " 'WEIL MCLAIN 980': 'WEIL MCLAIN EG-',\n",
       " 'WEIL/MCLAIN': 'WEIL MCLAIN EG-',\n",
       " 'WEIL MCLAIN 888': 'WEIL MCLAIN EG-',\n",
       " 'WEILMLAIN': 'WEIL MCLAIN EG-',\n",
       " 'WAIL MCLAI': 'WEIL MCLAIN EG-',\n",
       " 'WEILMACLIN': 'WEIL MCLAIN EG-',\n",
       " 'WEIL MCLAIN-CGA-8': 'WEIL MCLAIN EG-',\n",
       " 'WEIL MCLAIN C': 'WEIL MCLAIN EG-',\n",
       " 'WEIL-MCLAIN-E': 'WEIL MCLAIN EG-',\n",
       " 'WIEL MCLAIN 4': 'WEIL MCLAIN EG-',\n",
       " 'WEILMCAIN': 'WEIL MCLAIN EG-',\n",
       " 'WEIL MCLAIN 680': 'WEIL MCLAIN EG-',\n",
       " 'WL MCLAIN EGH': 'WEIL MCLAIN EG-',\n",
       " 'WEILMCLAI': 'WEIL MCLAIN EG-',\n",
       " 'WEILCMLAIN': 'WEIL MCLAIN EG-',\n",
       " 'WEIL MC EG-95': 'WEIL MCLAIN EG-',\n",
       " 'WEIL MCALI': 'WEIL MCLAIN EG-',\n",
       " 'WEIL MCAIN': 'WEIL MCLAIN EG-',\n",
       " 'WEILMCALIN': 'WEIL MCLAIN EG-',\n",
       " 'WEILM CLAIN': 'WEIL MCLAIN EG-',\n",
       " 'WEIL MCLAINE': 'WEIL MCLAIN EG-',\n",
       " 'WEIL MCLAIN EG-75-PI': 'WEIL MCLAIN EG-',\n",
       " 'WEIL MCLAIN-788': 'WEIL MCLAIN EG-',\n",
       " 'WEILMLCAIN': 'WEIL MCLAIN EG-',\n",
       " 'WEIL-MCLAIN-P': 'WEIL MCLAIN EG-',\n",
       " 'WEIL MCL': 'WEIL MCLAIN EG-',\n",
       " 'WEIL MCLAIN#-': 'WEIL MCLAIN EG-',\n",
       " 'WIEL MCLAIN': 'WEIL MCLAIN EG-',\n",
       " 'WEIL MCLIA': 'WEIL MCLAIN EG-',\n",
       " 'WEIL MCLLAIN': 'WEIL MCLAIN EG-',\n",
       " 'WELI MCLAI': 'WEIL MCLAIN EG-',\n",
       " 'WEIL MCLAINL': 'WEIL MCLAIN EG-',\n",
       " 'WEIL MCLAIN 1': 'WEIL MCLAIN EG-',\n",
       " 'WEIL MCLN': 'WEIL MCLAIN EG-',\n",
       " 'WEL MCLAIN': 'WEIL MCLAIN EG-',\n",
       " 'WEILMCL;AI': 'WEIL MCLAIN EG-',\n",
       " 'WEIL MCLAIM': 'WEIL MCLAIN EG-',\n",
       " 'WEIL MCAIL': 'WEIL MCLAIN EG-',\n",
       " 'WEIL- MCLAIN': 'WEIL MCLAIN EG-',\n",
       " 'WEIL MCLAIN 66': 'WEIL MCLAIN EG-',\n",
       " 'WMCLAIN': 'WEIL MCLAIN EG-',\n",
       " 'L MCLAIN': 'WEIL MCLAIN EG-',\n",
       " 'WEIL MC 680': 'WEIL MCLAIN EG-',\n",
       " 'WEIL MC LAINE': 'WEIL MCLAIN EG-',\n",
       " 'WEIL MCLAIN G': 'WEIL MCLAIN EG-',\n",
       " 'WEIL  MCLAIN': 'WEIL MCLAIN EG-',\n",
       " 'WEIL MCLAIN D': 'WEIL MCLAIN EG-',\n",
       " 'WEILL MCLAIN': 'WEIL MCLAIN EG-',\n",
       " 'WEIL-MCLAIN': 'WEIL MCLAIN EG-',\n",
       " 'CI WEIL MCLAIN': 'WEIL MCLAIN EG-',\n",
       " 'WEIL MLCAIN': 'WEIL MCLAIN EG-',\n",
       " 'WEIL MCLAIN F': 'WEIL MCLAIN EG-',\n",
       " 'WEIL MCLAIN-G': 'WEIL MCLAIN EG-',\n",
       " 'WEIL_MCLAIN': 'WEIL MCLAIN EG-',\n",
       " 'WEIL MCLAIN 8': 'WEIL MCLAIN EG-',\n",
       " 'WEILMC LAIN': 'WEIL MCLAIN EG-',\n",
       " 'WEIL CLAIN EG': 'WEIL MCLAIN EG-',\n",
       " 'WEIL MCL.': 'WEIL MCLAIN EG-',\n",
       " 'WEIL    MCLAIN': 'WEIL MCLAIN EG-',\n",
       " 'WEIL MCLAIN.4': 'WEIL MCLAIN EG-',\n",
       " 'WEIL MACLA': 'WEIL MCLAIN EG-',\n",
       " 'WEIL MLCIN': 'WEIL MCLAIN EG-',\n",
       " 'WEIL MCLAIN E': 'WEIL MCLAIN EG-',\n",
       " 'WEIL MCLAIN CGA-4 SP': 'WEIL MCLAIN EG-',\n",
       " 'WEIL MALIN': 'WEIL MCLAIN EG-',\n",
       " 'WEILMCLAII': 'WEIL MCLAIN EG-',\n",
       " 'WEILCLAIN': 'WEIL MCLAIN EG-',\n",
       " 'WELI MLCAI': 'WEIL MCLAIN EG-',\n",
       " 'WEILMCLAIN': 'WEIL MCLAIN EG-',\n",
       " 'WEIL MCLAIN B': 'WEIL MCLAIN EG-',\n",
       " 'WEIL MCLAIN LGB': 'WEIL MCLAIN EG-',\n",
       " 'WEIL MCLAIN 1088': 'WEIL MCLAIN EG-',\n",
       " 'WEIL MC EGH-115': 'WEIL MCLAIN EG-',\n",
       " 'M* WEIL MCLAI': 'WEIL MCLAIN EG-',\n",
       " 'WEIL MCLEIN': 'WEIL MCLAIN EG-',\n",
       " 'WEIL MCLAIN ULTRA-23': 'WEIL MCLAIN EG-',\n",
       " 'WEIL NCLAIN': 'WEIL MCLAIN EG-',\n",
       " 'WEILMCLAIN1388': 'WEIL MCLAIN EG-',\n",
       " 'WEILOMCLAI': 'WEIL MCLAIN EG-',\n",
       " 'WEIL MCLANN': 'WEIL MCLAIN EG-',\n",
       " 'WEIL MCLAIN 7': 'WEIL MCLAIN EG-',\n",
       " 'WEIL MCALIN': 'WEIL MCLAIN EG-',\n",
       " 'WEILMC LA': 'WEIL MCLAIN EG-',\n",
       " 'WIELMCLAIN': 'WEIL MCLAIN EG-',\n",
       " 'WEIL MCLAINEG40': 'WEIL MCLAIN EG-',\n",
       " 'WEIL MCLAIN CGA': 'WEIL MCLAIN EG-',\n",
       " 'WEIL MCLAIN  588': 'WEIL MCLAIN EG-',\n",
       " 'WEIL MC LAIN': 'WEIL MCLAIN EG-',\n",
       " 'WEIL MALIAN': 'WEIL MCLAIN EG-',\n",
       " 'WEIL MCLAIN 6': 'WEIL MCLAIN EG-',\n",
       " 'WEIL MCLEAN': 'WEIL MCLAIN EG-',\n",
       " 'WEILMKLAIN': 'WEIL MCLAIN EG-',\n",
       " 'WEIL MCLAIN 580': 'WEIL MCLAIN EG-',\n",
       " 'WEIL MCLAN': 'WEIL MCLAIN EG-',\n",
       " 'WEILMCLA': 'WEIL MCLAIN EG-',\n",
       " 'WEILMALIN': 'WEIL MCLAIN EG-',\n",
       " 'WEIL   MCLAIN': 'WEIL MCLAIN EG-',\n",
       " 'WEIL MC LA': 'WEIL MCLAIN EG-',\n",
       " 'WEIL MCALN': 'WEIL MCLAIN EG-',\n",
       " 'WEIL MCLAINCG': 'WEIL MCLAIN EG-',\n",
       " 'WIL MCLAIN': 'WEIL MCLAIN EG-',\n",
       " 'W MICLAIN': 'WEIL MCLAIN EG-',\n",
       " 'WEIL MCLAIN GOLD': 'WEIL MCLAIN EG-',\n",
       " 'WEIL MLCLA': 'WEIL MCLAIN EG-',\n",
       " 'WEILMCL': 'WEIL MCLAIN EG-',\n",
       " 'MEILMCLAIN': 'WEIL MCLAIN EG-',\n",
       " 'WEIL MCLAIN EG': 'WEIL MCLAIN EG-',\n",
       " 'WLMCLAIN': 'WEIL MCLAIN EG-',\n",
       " 'WEIL MCLAIN-5': 'WEIL MCLAIN EG-',\n",
       " 'WEIL MC 580': 'WEIL MCLAIN EG-',\n",
       " 'WEILMLCAI': 'WEIL MCLAIN EG-',\n",
       " 'WEIL MCLAIN-CG6': 'WEIL MCLAIN EG-',\n",
       " 'WEOL MC EG-95': 'WEIL MCLAIN EG-',\n",
       " 'WEIL MCCLA': 'WEIL MCLAIN EG-',\n",
       " 'CI WEIL MCLAI': 'WEIL MCLAIN EG-',\n",
       " 'WEIL MC 76': 'WEIL MCLAIN EG-',\n",
       " 'WEIL MCLAIN-488': 'WEIL MCLAIN EG-',\n",
       " 'WEIL MCLAIN CGA6PIDN': 'WEIL MCLAIN EG-',\n",
       " 'WEIL MCLAIN U': 'WEIL MCLAIN EG-',\n",
       " 'WEILMCCLAIN': 'WEIL MCLAIN EG-',\n",
       " 'WEIL MCLAI': 'WEIL MCLAIN EG-',\n",
       " 'WEILMCALI': 'WEIL MCLAIN EG-',\n",
       " 'WEIL MCLAIN-E': 'WEIL MCLAIN EG-',\n",
       " 'WEIL MLCAI': 'WEIL MCLAIN EG-',\n",
       " 'WEIL MCL CGA-3': 'WEIL MCLAIN EG-',\n",
       " 'WEIL MCLAIN 5': 'WEIL MCLAIN EG-',\n",
       " 'WEIL MCL 976': 'WEIL MCLAIN EG-',\n",
       " 'WEIN MCLAIN': 'WEIL MCLAIN EG-',\n",
       " 'WEILMCLAINEG50': 'WEIL MCLAIN EG-',\n",
       " 'WEIL MC': 'WEIL MCLAIN EG-',\n",
       " 'WEIL MCLAIN 2294': 'WEIL MCLAIN EG-',\n",
       " 'WEILMCNAIL': 'WEIL MCLAIN EG-',\n",
       " 'WEIL MCLAIN 578': 'WEIL MCLAIN EG-',\n",
       " 'WEIL MCL CGA-': 'WEIL MCLAIN EG-',\n",
       " 'WEILMCLIAN': 'WEIL MCLAIN EG-',\n",
       " 'LATTNER': 'LATTNER',\n",
       " 'PATTERSON': 'LATTNER',\n",
       " 'PMLATTNER': 'LATTNER',\n",
       " 'PATTERSO': 'LATTNER',\n",
       " 'ALSTROM': 'ALSTROM',\n",
       " 'EASTCO': 'ALSTROM',\n",
       " 'EASTOMOND': 'ALSTROM',\n",
       " 'ALSTOM': 'ALSTROM',\n",
       " 'CASTIRON': 'ALSTROM',\n",
       " 'SRO': 'ALSTROM',\n",
       " 'CAST IRON': 'ALSTROM',\n",
       " \"NAT'L RAD\": \"NAT'L RAD\",\n",
       " 'NAT BLR': \"NAT'L RAD\",\n",
       " 'NAT RAD': \"NAT'L RAD\",\n",
       " 'NATIONAL RADIATOR': \"NAT'L RAD\",\n",
       " \"NAT'L RA\": \"NAT'L RAD\",\n",
       " 'NATRAD': \"NAT'L RAD\",\n",
       " 'AM RAD': \"NAT'L RAD\",\n",
       " \"NAT'L. RAD\": \"NAT'L RAD\",\n",
       " 'NATL RAD': \"NAT'L RAD\",\n",
       " 'EMPIRE': 'EMPIRE',\n",
       " 'KENMORE': 'EMPIRE',\n",
       " 'ERIE': 'EMPIRE',\n",
       " 'PIERCE': 'EMPIRE',\n",
       " 'TEMP': 'EMPIRE',\n",
       " 'LAARS PEN.': 'LAARS PEN.',\n",
       " 'LAARS PNCH': 'LAARS PEN.',\n",
       " 'LAARS PNC': 'LAARS PEN.',\n",
       " 'LAARS SVT': 'LAARS PEN.',\n",
       " 'LAARS ENDURANCE': 'LAARS PEN.',\n",
       " 'LAARS PNCH500': 'LAARS PEN.',\n",
       " 'LAARSRHEOS': 'LAARS PEN.',\n",
       " 'LAARS PNCH0750': 'LAARS PEN.',\n",
       " 'LAARS PNCH-750': 'LAARS PEN.',\n",
       " 'LAARS PNCH1500': 'LAARS PEN.',\n",
       " 'LAARS ENDURAN': 'LAARS PEN.',\n",
       " 'LAARS.': 'LAARS PEN.',\n",
       " 'LAARS PNCH-0750': 'LAARS PEN.',\n",
       " 'LAARS NTH 500': 'LAARS PEN.',\n",
       " 'LAARS PNCH 05': 'LAARS PEN.',\n",
       " 'LAARS MINI TH': 'LAARS PEN.',\n",
       " 'LAARS': 'LAARS PEN.',\n",
       " 'LAARS PNCH 0750': 'LAARS PEN.',\n",
       " 'LAARS PNCH2000': 'LAARS PEN.',\n",
       " 'LAARS   S': 'LAARS PEN.',\n",
       " 'LAAARS': 'LAARS PEN.',\n",
       " 'LAARS NT': 'LAARS PEN.',\n",
       " 'LAARS PNCH750': 'LAARS PEN.',\n",
       " 'LAARS MAGNA': 'LAARS PEN.',\n",
       " 'LAARS PW 1687': 'LAARS PEN.',\n",
       " 'LAARS TELEDYNE': 'LAARS PEN.',\n",
       " 'LAARS PNCH050': 'LAARS PEN.',\n",
       " 'LAARS PW-025': 'LAARS PEN.',\n",
       " 'LAARS-END': 'LAARS PEN.',\n",
       " 'LAARS PNCH 75': 'LAARS PEN.',\n",
       " 'LAARRS': 'LAARS PEN.',\n",
       " 'LAARS PW0250V': 'LAARS PEN.',\n",
       " 'LAARS PENNANT': 'LAARS PEN.',\n",
       " 'LAARS NEOTHER': 'LAARS PEN.',\n",
       " 'LAARS PNCH-75': 'LAARS PEN.',\n",
       " 'LAARS PNCH 1500': 'LAARS PEN.',\n",
       " 'LAARS PNCH0500': 'LAARS PEN.',\n",
       " 'LAARS PW1825': 'LAARS PEN.',\n",
       " 'LAARS NTH-080': 'LAARS PEN.',\n",
       " 'LAARS PENN.': 'LAARS PEN.',\n",
       " 'LAARS RHEOS': 'LAARS PEN.',\n",
       " 'LAARS PNCH100': 'LAARS PEN.',\n",
       " 'LAARS PNCH 1250': 'LAARS PEN.',\n",
       " 'LAARSENDRANCE': 'LAARS PEN.',\n",
       " 'LAARS PNCH-1750': 'LAARS PEN.',\n",
       " 'PENN': 'PENN',\n",
       " 'PENCO': 'PENN',\n",
       " 'PENNANT': 'PENN',\n",
       " 'PENECO': 'PENN',\n",
       " 'PENNOC': 'PENN',\n",
       " 'PENNCO': 'PENN',\n",
       " 'LENNOX': 'PENN',\n",
       " 'IDEAL': 'IDEAL',\n",
       " 'FEDREAL': 'IDEAL',\n",
       " 'FERDERAL': 'IDEAL',\n",
       " 'FEDEERAL': 'IDEAL',\n",
       " 'FEDEREAL': 'IDEAL',\n",
       " 'FEDERAL': 'IDEAL',\n",
       " 'FEDERALB': 'IDEAL',\n",
       " 'DELCO': 'IDEAL',\n",
       " 'DELTA': 'IDEAL',\n",
       " 'PATTERSON-KELLEY  N-': 'PATTERSON-KELLEY  N-',\n",
       " 'PATTERSON-KELLEY N10': 'PATTERSON-KELLEY  N-',\n",
       " 'PATTERSON/KELLEY': 'PATTERSON-KELLEY  N-',\n",
       " 'PATTERSON KELLY': 'PATTERSON-KELLEY  N-',\n",
       " 'PATTERSON-KELLEY N-7': 'PATTERSON-KELLEY  N-',\n",
       " 'PATTERSON KELLEY': 'PATTERSON-KELLEY  N-',\n",
       " 'PATTERSON-KELLY': 'PATTERSON-KELLEY  N-',\n",
       " 'PATTERSON/KEL': 'PATTERSON-KELLEY  N-',\n",
       " 'PATERSON KELLY': 'PATTERSON-KELLEY  N-',\n",
       " 'PATT KELLE': 'PATTERSON-KELLEY  N-',\n",
       " 'PATTERSONKELLEY': 'PATTERSON-KELLEY  N-',\n",
       " 'PATTERSONK': 'PATTERSON-KELLEY  N-',\n",
       " 'PATTERSON KEKKE': 'PATTERSON-KELLEY  N-',\n",
       " 'PATTTERSON KELL': 'PATTERSON-KELLEY  N-',\n",
       " 'PATTERSON-KEL': 'PATTERSON-KELLEY  N-',\n",
       " 'PATTERSON-KELLEY': 'PATTERSON-KELLEY  N-',\n",
       " 'PATTERSON-KELLEY N-1': 'PATTERSON-KELLEY  N-',\n",
       " 'PETTERSON-KELLY': 'PATTERSON-KELLEY  N-',\n",
       " 'PATTERSON KELLE': 'PATTERSON-KELLEY  N-',\n",
       " 'PATTERSON KEL': 'PATTERSON-KELLEY  N-',\n",
       " 'SLANT FIN GX': 'SLANT FIN GX',\n",
       " 'SLANT/FI': 'SLANT FIN GX',\n",
       " 'SLANT FIN 90R': 'SLANT FIN GX',\n",
       " 'SLANT FIN LIB': 'SLANT FIN GX',\n",
       " 'SLAINT FIN..G': 'SLANT FIN GX',\n",
       " 'SLAN FIN': 'SLANT FIN GX',\n",
       " 'SLANT FINM': 'SLANT FIN GX',\n",
       " 'SLANT FIN GGT': 'SLANT FIN GX',\n",
       " 'SLANT FIN GG-300EC': 'SLANT FIN GX',\n",
       " 'SLANT/FINN': 'SLANT FIN GX',\n",
       " 'SLANT/FIN CG-375 HEC': 'SLANT FIN GX',\n",
       " 'SLANTFIN GALAXY': 'SLANT FIN GX',\n",
       " 'SLANT/FIN CAR': 'SLANT FIN GX',\n",
       " 'SLANT/FIN GG350 HEC': 'SLANT FIN GX',\n",
       " 'SLANT FIN LD-60': 'SLANT FIN GX',\n",
       " 'SLANT FN': 'SLANT FIN GX',\n",
       " 'SLANT FIN LOCHINVAR': 'SLANT FIN GX',\n",
       " 'SLANT/FIN': 'SLANT FIN GX',\n",
       " '8LANTEIN': 'SLANT FIN GX',\n",
       " 'SLANTFIN INTERA': 'SLANT FIN GX',\n",
       " 'SLANTFIN': 'SLANT FIN GX',\n",
       " 'SLANF FIN': 'SLANT FIN GX',\n",
       " 'SLANT FIN/HYDRO': 'SLANT FIN GX',\n",
       " 'SLANT  FIN': 'SLANT FIN GX',\n",
       " 'SLAINTEIN': 'SLANT FIN GX',\n",
       " 'SLAN FINT': 'SLANT FIN GX',\n",
       " 'SLANTFINN GXH': 'SLANT FIN GX',\n",
       " 'SLANT FIN/ CARAVAN': 'SLANT FIN GX',\n",
       " 'SLANT FIN': 'SLANT FIN GX',\n",
       " 'SLANT FI': 'SLANT FIN GX',\n",
       " 'SLANFIN': 'SLANT FIN GX',\n",
       " 'SLANT GALAXY': 'SLANT FIN GX',\n",
       " 'SLANT FIN GAL': 'SLANT FIN GX',\n",
       " 'SLANTEIN': 'SLANT FIN GX',\n",
       " 'SALNTFIN': 'SLANT FIN GX',\n",
       " 'SLNAT FIN': 'SLANT FIN GX',\n",
       " 'SLANT FINN GG': 'SLANT FIN GX',\n",
       " 'NLANT FIN': 'SLANT FIN GX',\n",
       " 'SLANTFIN GGT-': 'SLANT FIN GX',\n",
       " 'SLANT FIN GGHT 1875': 'SLANT FIN GX',\n",
       " 'SLANTFINN': 'SLANT FIN GX',\n",
       " 'SLNT FIN': 'SLANT FIN GX',\n",
       " 'STANT FIN': 'SLANT FIN GX',\n",
       " 'SLANTF FIN': 'SLANT FIN GX',\n",
       " 'SLAT FIN': 'SLANT FIN GX',\n",
       " 'SLAINT FIN': 'SLANT FIN GX',\n",
       " 'SLANT FINNGG300': 'SLANT FIN GX',\n",
       " 'SLANT/ FIN': 'SLANT FIN GX',\n",
       " 'SLANT FIN GGHT 600': 'SLANT FIN GX',\n",
       " 'SLANT FINN': 'SLANT FIN GX',\n",
       " 'SNANT FIN': 'SLANT FIN GX',\n",
       " 'SLANTFIN SX-1': 'SLANT FIN GX',\n",
       " 'SLANT FIN VIC': 'SLANT FIN GX',\n",
       " 'SLANTFI': 'SLANT FIN GX',\n",
       " 'SLINTFIN': 'SLANT FIN GX',\n",
       " 'SALNT FIN': 'SLANT FIN GX',\n",
       " 'SLANT-FIN': 'SLANT FIN GX',\n",
       " 'BURKAY': 'BURKAY',\n",
       " 'BUNRHAM': 'BURKAY',\n",
       " 'BURNHAN': 'BURKAY',\n",
       " 'BURHAM': 'BURKAY',\n",
       " 'BURMHAM': 'BURKAY',\n",
       " 'BURNHMA': 'BURKAY',\n",
       " 'RAY': 'BURKAY',\n",
       " 'MURRAY': 'BURKAY',\n",
       " 'BUDERAS': 'BURKAY',\n",
       " 'BURNAM': 'BURKAY',\n",
       " 'BURHNAM': 'BURKAY',\n",
       " 'BURHAN': 'BURKAY',\n",
       " 'BURNHAM': 'BURKAY',\n",
       " 'BURKAY GENESI': 'BURKAY',\n",
       " 'BURKAY GENENI': 'BURKAY',\n",
       " 'BURNAHM': 'BURKAY',\n",
       " 'BURNHA': 'BURKAY',\n",
       " 'BURHMAN': 'BURKAY',\n",
       " 'PEERLESS LC-0': 'PEERLESS LC-0',\n",
       " 'PEERLESS-HOUSE BLR': 'PEERLESS LC-0',\n",
       " 'PEERLESS 5-20': 'PEERLESS LC-0',\n",
       " 'PEERLESS EC - 06': 'PEERLESS LC-0',\n",
       " 'PEERLESS MCB-097-WPC': 'PEERLESS LC-0',\n",
       " 'PEERLESS  64-': 'PEERLESS LC-0',\n",
       " 'PEERLESS SCT-': 'PEERLESS LC-0',\n",
       " 'PREELESS': 'PEERLESS LC-0',\n",
       " 'CI PEERLESS': 'PEERLESS LC-0',\n",
       " 'PEERLESS JOT-': 'PEERLESS LC-0',\n",
       " 'PEERLESS 64-09': 'PEERLESS LC-0',\n",
       " 'PEERLESS-62-13': 'PEERLESS LC-0',\n",
       " 'PEERESSS': 'PEERLESS LC-0',\n",
       " 'PEERLESSAIN': 'PEERLESS LC-0',\n",
       " 'PEERLES': 'PEERLESS LC-0',\n",
       " 'PEERLESS 64-0': 'PEERLESS LC-0',\n",
       " 'PEERELESS': 'PEERLESS LC-0',\n",
       " 'PEERLESS NEW': 'PEERLESS LC-0',\n",
       " 'PEERLESS EC06': 'PEERLESS LC-0',\n",
       " 'PEERLESS LC-08': 'PEERLESS LC-0',\n",
       " 'PEERLESS JOT': 'PEERLESS LC-0',\n",
       " 'PEERLESS ECT5': 'PEERLESS LC-0',\n",
       " 'PEERLESS 709EPA': 'PEERLESS LC-0',\n",
       " 'NEW PEERLESS': 'PEERLESS LC-0',\n",
       " 'PEERLESS': 'PEERLESS LC-0',\n",
       " 'PEERLESS 61-07-STDG-': 'PEERLESS LC-0',\n",
       " 'PEERLESS,62-12': 'PEERLESS LC-0',\n",
       " 'PERLESS': 'PEERLESS LC-0',\n",
       " 'PEERLESS W/IN': 'PEERLESS LC-0',\n",
       " 'PEERLESS ECT-': 'PEERLESS LC-0',\n",
       " 'PEERELSS': 'PEERLESS LC-0',\n",
       " 'PEERLESS ECT4': 'PEERLESS LC-0',\n",
       " 'PEERLESS EC-0': 'PEERLESS LC-0',\n",
       " 'PEERLESS-ECT-4': 'PEERLESS LC-0',\n",
       " 'PERRLESS': 'PEERLESS LC-0',\n",
       " 'PEERLESS GAS': 'PEERLESS LC-0',\n",
       " 'PEERLESS ECT6': 'PEERLESS LC-0',\n",
       " 'PEERLESS-6-GD': 'PEERLESS LC-0',\n",
       " 'PEEERLESS': 'PEERLESS LC-0',\n",
       " 'PEERLESS TD6-S': 'PEERLESS LC-0',\n",
       " 'PEERLESS SC-9': 'PEERLESS LC-0',\n",
       " 'PEERLESS-SC': 'PEERLESS LC-0',\n",
       " 'PEERLEES': 'PEERLESS LC-0',\n",
       " 'PEERLESS 62-1': 'PEERLESS LC-0',\n",
       " 'PEERLESS-62-1': 'PEERLESS LC-0',\n",
       " 'PEERLESS 61-0': 'PEERLESS LC-0',\n",
       " 'PEERLESS EC-4': 'PEERLESS LC-0',\n",
       " 'PEERLESS A11-': 'PEERLESS LC-0',\n",
       " 'PEERLESS BOIL': 'PEERLESS LC-0',\n",
       " 'PEERLESS 62-0': 'PEERLESS LC-0',\n",
       " 'PEERLESSS': 'PEERLESS LC-0',\n",
       " 'PEER;ESS': 'PEERLESS LC-0',\n",
       " 'JOHNSON': 'JOHNSON',\n",
       " 'JOHNSTON INC': 'JOHNSON',\n",
       " 'ST JOHNSTON': 'JOHNSON',\n",
       " 'JOHNSTON': 'JOHNSON',\n",
       " 'JOHNSON BOILER': 'JOHNSON',\n",
       " 'JONHSTON': 'JOHNSON',\n",
       " 'JOHNSON  N.B.11': 'JOHNSON',\n",
       " 'JOHNSON BROTH': 'JOHNSON',\n",
       " 'JOHSTON': 'JOHNSON',\n",
       " 'JOHNSON  N.B. 1': 'JOHNSON',\n",
       " 'JOHNSON BROTHERS': 'JOHNSON',\n",
       " 'JOHNSTON BOILER': 'JOHNSON',\n",
       " 'HYDROTHEM': 'HYDROTHEM',\n",
       " 'HYDROTHR': 'HYDROTHEM',\n",
       " 'HYDRO THERM K': 'HYDROTHEM',\n",
       " 'HYDROTH': 'HYDROTHEM',\n",
       " 'HYDROTHERM KN20': 'HYDROTHEM',\n",
       " 'HYDROHERM': 'HYDROTHEM',\n",
       " 'HTDROTHERM': 'HYDROTHEM',\n",
       " 'HYDRTHERM': 'HYDROTHEM',\n",
       " 'HYDROTHRM': 'HYDROTHEM',\n",
       " 'HYDRO/PULSE': 'HYDROTHEM',\n",
       " 'HYDROTHERM KN30': 'HYDROTHEM',\n",
       " 'HYROTHERM': 'HYDROTHEM',\n",
       " 'HYDRTHER': 'HYDROTHEM',\n",
       " 'HDROTHERM': 'HYDROTHEM',\n",
       " 'HYDROTHER': 'HYDROTHEM',\n",
       " 'HYDROTHE': 'HYDROTHEM',\n",
       " 'CYCLOTHERM': 'HYDROTHEM',\n",
       " 'HYRDOTHERM': 'HYDROTHEM',\n",
       " 'HTHERM': 'HYDROTHEM',\n",
       " 'HYDROTHERM': 'HYDROTHEM',\n",
       " 'HYDROTHERIM': 'HYDROTHEM',\n",
       " 'HYDRTHRM': 'HYDROTHEM',\n",
       " 'HYDROPHINE': 'HYDROTHEM',\n",
       " 'HYDROTHERM MR': 'HYDROTHEM',\n",
       " 'HYDRO': 'HYDROTHEM',\n",
       " 'HYFROTHERM': 'HYDROTHEM',\n",
       " 'HYDROTHERM MR-1200B-': 'HYDROTHEM',\n",
       " 'HYDROTHERM MODULAR': 'HYDROTHEM',\n",
       " 'HYDRO THERM': 'HYDROTHEM',\n",
       " 'CYCOTHERM': 'HYDROTHEM',\n",
       " 'HYDROTHREM': 'HYDROTHEM',\n",
       " 'HYDRO THRM': 'HYDROTHEM',\n",
       " 'HYDROTHERM R-250B': 'HYDROTHEM',\n",
       " 'HYDOTHERM': 'HYDROTHEM',\n",
       " 'HYDR0THERM': 'HYDROTHEM',\n",
       " 'HYDROTHERM KN': 'HYDROTHEM',\n",
       " 'HYDRO THERM G': 'HYDROTHEM',\n",
       " 'HYDROTERM': 'HYDROTHEM',\n",
       " 'HYDROTHERMN': 'HYDROTHEM',\n",
       " 'HYDROTHERN': 'HYDROTHEM',\n",
       " 'FT FEDERAL': 'FT FEDERAL',\n",
       " 'FEDERAL FST-6': 'FT FEDERAL',\n",
       " 'FEDERAL FLR36': 'FT FEDERAL',\n",
       " 'FEDERAL-EASTM': 'FT FEDERAL',\n",
       " 'FEDERALBO': 'FT FEDERAL',\n",
       " 'M* FEDERAL NB': 'FT FEDERAL',\n",
       " 'FT SPENCER': 'FT FEDERAL',\n",
       " 'FEDERAL.FST': 'FT FEDERAL',\n",
       " 'FEDERAL BOILE': 'FT FEDERAL',\n",
       " 'NEW FEDERAL-1': 'FT FEDERAL',\n",
       " 'FEDERAL FST-8': 'FT FEDERAL',\n",
       " '2 FEDERAL': 'FT FEDERAL',\n",
       " 'EASTMOND-FEDERAL': 'FT FEDERAL',\n",
       " 'EXT-FEDERAL': 'FT FEDERAL',\n",
       " 'FEDERAL FST': 'FT FEDERAL',\n",
       " 'FEDERAL-FST70': 'FT FEDERAL',\n",
       " 'M* FEDERAL': 'FT FEDERAL',\n",
       " 'FEDERAL FST-5': 'FT FEDERAL',\n",
       " 'FEDERAL/FST60': 'FT FEDERAL',\n",
       " 'FEDERAL FST-7': 'FT FEDERAL',\n",
       " 'FEDERAL FST 1': 'FT FEDERAL',\n",
       " 'FEDERAL FST 2': 'FT FEDERAL',\n",
       " 'FEDERAL FST 7': 'FT FEDERAL',\n",
       " 'EXT FEDERAL': 'FT FEDERAL',\n",
       " 'FEDERAL ESP-8': 'FT FEDERAL',\n",
       " 'FEDERAL FST-3': 'FT FEDERAL',\n",
       " 'FEDERAL FST-2': 'FT FEDERAL',\n",
       " 'FEDERALEASTMO': 'FT FEDERAL',\n",
       " 'FEDERAL FST-1': 'FT FEDERAL',\n",
       " 'FEDERA;': 'FT FEDERAL',\n",
       " 'FEDERAL BO': 'FT FEDERAL',\n",
       " 'FEDERAL/WEBST': 'FT FEDERAL',\n",
       " 'FUTERA': 'FT FEDERAL',\n",
       " 'FEDERAL/BEST': 'FT FEDERAL',\n",
       " 'FEDERA': 'FT FEDERAL',\n",
       " 'FEDRAL': 'FT FEDERAL',\n",
       " 'FEDERAL FST/3': 'FT FEDERAL',\n",
       " 'FEDERAL 1991': 'FT FEDERAL',\n",
       " 'FULTON 63571': 'FULTON 63571',\n",
       " 'FULTON 10HP': 'FULTON 63571',\n",
       " 'FULTON 117322': 'FULTON 63571',\n",
       " 'FULTON 43969': 'FULTON 63571',\n",
       " 'FULTON 116002': 'FULTON 63571',\n",
       " 'FULTON FB-015': 'FULTON 63571',\n",
       " 'FULTON 65694': 'FULTON 63571',\n",
       " 'FULTON 54649': 'FULTON 63571',\n",
       " 'FULTON 108370': 'FULTON 63571',\n",
       " 'FULTON 93132': 'FULTON 63571',\n",
       " 'FULTON 38480': 'FULTON 63571',\n",
       " 'FULTON115110': 'FULTON 63571',\n",
       " 'FULTON 65477': 'FULTON 63571',\n",
       " 'FULTON 78985': 'FULTON 63571',\n",
       " 'FULTON80339': 'FULTON 63571',\n",
       " 'FULTON NB#67100': 'FULTON 63571',\n",
       " 'FULTON 015NB 12': 'FULTON 63571',\n",
       " 'FULTON FB010-A': 'FULTON 63571',\n",
       " 'FULTON 101574': 'FULTON 63571',\n",
       " 'FULTON 112478': 'FULTON 63571',\n",
       " 'FULTON 110142': 'FULTON 63571',\n",
       " 'FULTON 49078': 'FULTON 63571',\n",
       " 'FULTON 102510': 'FULTON 63571',\n",
       " 'FULTON 101718': 'FULTON 63571',\n",
       " 'FULTON 78252': 'FULTON 63571',\n",
       " 'FULTON 103055': 'FULTON 63571',\n",
       " 'FULTON 77235': 'FULTON 63571',\n",
       " 'FULTON': 'FULTON 63571',\n",
       " 'FULTON 109682': 'FULTON 63571',\n",
       " 'FULTON 117327': 'FULTON 63571',\n",
       " 'FULTON 103068': 'FULTON 63571',\n",
       " 'FULTON 41820': 'FULTON 63571',\n",
       " 'FULTON F-10': 'FULTON 63571',\n",
       " 'FULTON83732': 'FULTON 63571',\n",
       " 'FULTON 110146': 'FULTON 63571',\n",
       " 'FULTON 40003': 'FULTON 63571',\n",
       " 'FULTON 010': 'FULTON 63571',\n",
       " 'FULTON105370': 'FULTON 63571',\n",
       " 'FULTON 104693': 'FULTON 63571',\n",
       " 'FULTON 1CX20': 'FULTON 63571',\n",
       " 'FULTON 111218': 'FULTON 63571',\n",
       " 'FULTON 66518': 'FULTON 63571',\n",
       " 'FULTON 50011': 'FULTON 63571',\n",
       " 'FULTON FB-30-F': 'FULTON 63571',\n",
       " 'FULTON 66535': 'FULTON 63571',\n",
       " 'FULTON 109680': 'FULTON 63571',\n",
       " 'FULTON NB#62287': 'FULTON 63571',\n",
       " 'FULTON80334': 'FULTON 63571',\n",
       " 'FULTON 81061': 'FULTON 63571',\n",
       " 'FULTON 89853': 'FULTON 63571',\n",
       " 'FULTON 109779': 'FULTON 63571',\n",
       " 'FULTON 112482': 'FULTON 63571',\n",
       " 'FULTON 43428': 'FULTON 63571',\n",
       " 'FULTON 105489': 'FULTON 63571',\n",
       " 'FULTON 53711': 'FULTON 63571',\n",
       " 'FULTON 41423': 'FULTON 63571',\n",
       " 'FULTON 103061': 'FULTON 63571',\n",
       " 'FULTON 91872': 'FULTON 63571',\n",
       " 'FULTON 99779': 'FULTON 63571',\n",
       " 'AMERICANST': 'AMERICANST',\n",
       " 'AMERICANS': 'AMERICANST',\n",
       " 'AMERCAN RAD': 'AMERICANST',\n",
       " 'AMER. RADIATO': 'AMERICANST',\n",
       " 'AMERICAN   RA': 'AMERICANST',\n",
       " 'AMERICAN BURN': 'AMERICANST',\n",
       " 'AMERICAN E': 'AMERICANST',\n",
       " 'AMERICAN RADI': 'AMERICANST',\n",
       " 'AMERICAN RADIATOR NO': 'AMERICANST',\n",
       " 'IDEAL AMERICA': 'AMERICANST',\n",
       " 'AMERICAN OAKM': 'AMERICANST',\n",
       " 'AMERICAN S': 'AMERICANST',\n",
       " 'AMERRADIATOR': 'AMERICANST',\n",
       " 'AMERICA': 'AMERICANST',\n",
       " 'AMERICRAD': 'AMERICANST',\n",
       " 'AMER.RADIATOR': 'AMERICANST',\n",
       " 'AMER RADIATOR': 'AMERICANST',\n",
       " 'AMERICAN RAD': 'AMERICANST',\n",
       " 'AMERICAN': 'AMERICANST',\n",
       " 'AMERICAN BOILER': 'AMERICANST',\n",
       " 'AMERICANRAD': 'AMERICANST',\n",
       " 'AMERICAN IDEAL': 'AMERICANST',\n",
       " 'AO SMITH DW840': 'AO SMITH DW840',\n",
       " 'AO SMITH HW-670': 'AO SMITH DW840',\n",
       " 'A O SMITH': 'AO SMITH DW840',\n",
       " 'A O  SMITH': 'AO SMITH DW840',\n",
       " 'A O SMITH BUR': 'AO SMITH DW840',\n",
       " 'AO SMITH HLW': 'AO SMITH DW840',\n",
       " 'HB SMITH 28': 'AO SMITH DW840',\n",
       " 'AOSMITH': 'AO SMITH DW840',\n",
       " 'HB SMITH 20': 'AO SMITH DW840',\n",
       " 'A/O SMITH': 'AO SMITH DW840',\n",
       " 'A. O. SMITH': 'AO SMITH DW840',\n",
       " 'AO SMITH DW960': 'AO SMITH DW840',\n",
       " 'AO SMITH DW-1350': 'AO SMITH DW840',\n",
       " 'A OSMITH': 'AO SMITH DW840',\n",
       " 'HB SMITH 28S': 'AO SMITH DW840',\n",
       " 'AO SMITH': 'AO SMITH DW840',\n",
       " 'A.O SMITH': 'AO SMITH DW840',\n",
       " 'AO  SMITH': 'AO SMITH DW840',\n",
       " 'AO.SMITH': 'AO SMITH DW840',\n",
       " 'AO SMITH DW-720': 'AO SMITH DW840',\n",
       " 'A.O.SMITH HW': 'AO SMITH DW840',\n",
       " 'AO SMITH DW-1080': 'AO SMITH DW840',\n",
       " 'A.O. SMITH': 'AO SMITH DW840',\n",
       " 'HB SMITH 28-10': 'AO SMITH DW840',\n",
       " 'A.OSMITH': 'AO SMITH DW840',\n",
       " 'A O SMITH DW-850': 'AO SMITH DW840',\n",
       " 'A.O.SMITH': 'AO SMITH DW840',\n",
       " 'AOSMITH DW-960': 'AO SMITH DW840',\n",
       " 'BUTLER': 'BUTLER',\n",
       " 'BESTBOILER': 'BUTLER',\n",
       " 'BUDERUS': 'BUTLER',\n",
       " 'MUELLER': 'BUTLER',\n",
       " 'RBI-FUTERA': 'BUTLER',\n",
       " 'RBI FUTERA': 'BUTLER',\n",
       " 'BESTBLR': 'BUTLER',\n",
       " 'PIERCE BUTLER': 'BUTLER',\n",
       " 'WEBSTER': 'BUTLER',\n",
       " 'FEDERAL FST-20': 'FEDERAL FST-20',\n",
       " 'FEDERAL/EASTMOND': 'FEDERAL FST-20',\n",
       " 'FEDERAL EASTMOND': 'FEDERAL FST-20',\n",
       " 'FEDERAL FLW-1215': 'FEDERAL FST-20',\n",
       " 'FEDERAL FST-90': 'FEDERAL FST-20',\n",
       " 'FEDERAL FST-125': 'FEDERAL FST-20',\n",
       " 'FEDERAL FST-100': 'FEDERAL FST-20',\n",
       " 'FEDERAL FST-60': 'FEDERAL FST-20',\n",
       " 'FEDERAL FST-500': 'FEDERAL FST-20',\n",
       " 'FEDERAL FST-200': 'FEDERAL FST-20',\n",
       " 'FEDERAL FST-50': 'FEDERAL FST-20',\n",
       " 'FEDERAL FST-250': 'FEDERAL FST-20',\n",
       " 'FEDERAL FST-175': 'FEDERAL FST-20',\n",
       " 'FEDERAL FST-32': 'FEDERAL FST-20',\n",
       " 'FEDERAL FST-150 HW': 'FEDERAL FST-20',\n",
       " 'FEDERAL FLW 6071': 'FEDERAL FST-20',\n",
       " 'FEDERAL FST-80': 'FEDERAL FST-20',\n",
       " 'FEDERAL FST 350 HW': 'FEDERAL FST-20',\n",
       " 'FEDERAL FST 100': 'FEDERAL FST-20',\n",
       " 'FEDERAL FST-350': 'FEDERAL FST-20',\n",
       " 'FEDERAL FST 125': 'FEDERAL FST-20',\n",
       " 'FEDERAL FST-300': 'FEDERAL FST-20',\n",
       " 'FEDERAL/EASTMAN': 'FEDERAL FST-20',\n",
       " 'FEDERAL -EASCO': 'FEDERAL FST-20',\n",
       " 'FEDERAL FST-150': 'FEDERAL FST-20',\n",
       " 'FEDERAL FST-70': 'FEDERAL FST-20',\n",
       " 'BURNHAM KING': 'BURNHAM KING',\n",
       " 'BURNHAM MPC10': 'BURNHAM KING',\n",
       " 'BURNHAM HOLIDAY': 'BURNHAM KING',\n",
       " 'BURNHAM MPC-6': 'BURNHAM KING',\n",
       " 'BURNHAM  STD': 'BURNHAM KING',\n",
       " 'BURNHAM 404B': 'BURNHAM KING',\n",
       " 'BURNHAM IN12N': 'BURNHAM KING',\n",
       " 'BURNHAM K5010': 'BURNHAM KING',\n",
       " 'BURNHAM HOLID': 'BURNHAM KING',\n",
       " 'BUNHAM': 'BURNHAM KING',\n",
       " 'BURFNAHM': 'BURNHAM KING',\n",
       " 'BURNHAM V905': 'BURNHAM KING',\n",
       " 'BURNHAM 210NCL': 'BURNHAM KING',\n",
       " 'BURNHAM 206-N': 'BURNHAM KING',\n",
       " 'BURNHAM EG-65': 'BURNHAM KING',\n",
       " 'BURNHAM AMERI': 'BURNHAM KING',\n",
       " 'BURNHAM SIN6': 'BURNHAM KING',\n",
       " 'BURNHAM MP': 'BURNHAM KING',\n",
       " 'BURNHAM 205': 'BURNHAM KING',\n",
       " 'BURNHAM K500-8B': 'BURNHAM KING',\n",
       " 'BURNHAM SIN7LNC-LE2': 'BURNHAM KING',\n",
       " 'BRUNHAM': 'BURNHAM KING',\n",
       " 'MUNCHKIN': 'BURNHAM KING',\n",
       " 'BURNHAMH': 'BURNHAM KING',\n",
       " 'BURNHAM V-905': 'BURNHAM KING',\n",
       " 'BURNHAM BOILERS': 'BURNHAM KING',\n",
       " 'BURNHAM-206 NCL': 'BURNHAM KING',\n",
       " 'BURNHAM *': 'BURNHAM KING',\n",
       " 'BURNHAM KV91': 'BURNHAM KING',\n",
       " 'BURNHAM 202': 'BURNHAM KING',\n",
       " 'BURNHAM AMER': 'BURNHAM KING',\n",
       " 'BURNHAM KIN-1': 'BURNHAM KING',\n",
       " 'BURNHAM-KIN-6': 'BURNHAM KING',\n",
       " 'BURNHAM MPC4': 'BURNHAM KING',\n",
       " 'BURNHAM MPC 11': 'BURNHAM KING',\n",
       " 'BURNHAM V911 A': 'BURNHAM KING',\n",
       " 'BURNHAM KIN': 'BURNHAM KING',\n",
       " 'BURNHAM&QSIN': 'BURNHAM KING',\n",
       " 'M* BURNHAM': 'BURNHAM KING',\n",
       " 'BURNHAM IN-7': 'BURNHAM KING',\n",
       " 'BURNHAM P-208A': 'BURNHAM KING',\n",
       " 'BURNHAM V85S': 'BURNHAM KING',\n",
       " 'BURNHAM  IN-9': 'BURNHAM KING',\n",
       " 'BURNHAM V904': 'BURNHAM KING',\n",
       " 'BURNHAM AMERICA': 'BURNHAM KING',\n",
       " 'BURNHAM V-906': 'BURNHAM KING',\n",
       " 'BURNHAM IN-11': 'BURNHAM KING',\n",
       " 'BURNHAM 206PV': 'BURNHAM KING',\n",
       " 'BURNHAM V912': 'BURNHAM KING',\n",
       " 'BURNHAM IN 6': 'BURNHAM KING',\n",
       " 'BURNHAM IN 7': 'BURNHAM KING',\n",
       " 'BURNHAM P 207': 'BURNHAM KING',\n",
       " 'BURNHAM 1N-4': 'BURNHAM KING',\n",
       " 'BURNHAMN': 'BURNHAM KING',\n",
       " 'BURNHAM KIN-9': 'BURNHAM KING',\n",
       " 'BURNHAM BOILE': 'BURNHAM KING',\n",
       " 'BURNHAM IN-9': 'BURNHAM KING',\n",
       " 'BURNHAM - P209': 'BURNHAM KING',\n",
       " 'BURNHAM ANZ21': 'BURNHAM KING',\n",
       " 'BURNHAM IN8': 'BURNHAM KING',\n",
       " 'NEW BURNHAM': 'BURNHAM KING',\n",
       " 'BURNHAM KIN6': 'BURNHAM KING',\n",
       " 'BURNHAM IN-6': 'BURNHAM KING',\n",
       " 'BURNHAM P206-W': 'BURNHAM KING',\n",
       " 'CI BURNHAM': 'BURNHAM KING',\n",
       " 'BURNHAMLAIN': 'BURNHAM KING',\n",
       " 'BURNAHAM': 'BURNHAM KING',\n",
       " 'BURNHAM V911A': 'BURNHAM KING',\n",
       " 'BURNHAM HYDRO': 'BURNHAM KING',\n",
       " 'BURN HAM': 'BURNHAM KING',\n",
       " 'BURNHAM V90': 'BURNHAM KING',\n",
       " 'BURNHAM 204 N': 'BURNHAM KING',\n",
       " 'BURNHAM     4': 'BURNHAM KING',\n",
       " 'BURNHAM IN-4': 'BURNHAM KING',\n",
       " 'BURNHAM IN-10': 'BURNHAM KING',\n",
       " 'BURNHARM': 'BURNHAM KING',\n",
       " 'BURNHAM  IN': 'BURNHAM KING',\n",
       " 'BURNHAM  IN-6': 'BURNHAM KING',\n",
       " 'BURNHAM AMC': 'BURNHAM KING',\n",
       " 'BURNHAM (STEA': 'BURNHAM KING',\n",
       " 'BURNHAM V907': 'BURNHAM KING',\n",
       " 'BURNHAM BOILER': 'BURNHAM KING',\n",
       " 'BURNHAM SER2T': 'BURNHAM KING',\n",
       " 'BURNHAMS': 'BURNHAM KING',\n",
       " 'BURNHAM IN6': 'BURNHAM KING',\n",
       " 'BURNHAM IN7': 'BURNHAM KING',\n",
       " 'BURNHAM K5000': 'BURNHAM KING',\n",
       " 'BURNHAM KIN-0': 'BURNHAM KING',\n",
       " 'BURNHAM IN-5': 'BURNHAM KING',\n",
       " 'BURNHAM -SPENCER': 'BURNHAM KING',\n",
       " 'BURNHAM-SIN-5': 'BURNHAM KING',\n",
       " 'BURNHAM V-904': 'BURNHAM KING',\n",
       " 'NTV': 'NTV',\n",
       " 'NTI': 'NTV',\n",
       " 'NAT': 'NTV',\n",
       " 'NRG': 'NRG',\n",
       " 'NCR': 'NRG',\n",
       " 'NRL': 'NRG',\n",
       " 'NRC': 'NRG',\n",
       " 'ENERGET': 'NRG',\n",
       " 'GIVRALTR': 'GIVRALTR',\n",
       " 'GILBRALTOR': 'GIVRALTR',\n",
       " 'GIBRALTR': 'GIVRALTR',\n",
       " 'GIBRASLTOR': 'GIVRALTR',\n",
       " 'GIBALTAR': 'GIVRALTR',\n",
       " 'GOVERNAL': 'GIVRALTR',\n",
       " 'GIBRALTER': 'GIVRALTR',\n",
       " 'GOVERMAL': 'GIVRALTR',\n",
       " 'GIBRALTAR-H S': 'GIVRALTR',\n",
       " 'GIBRALTAR': 'GIVRALTR',\n",
       " 'GIBRALTA': 'GIVRALTR',\n",
       " 'GILBRALTAR': 'GIVRALTR',\n",
       " 'GIBRALTOR': 'GIVRALTR',\n",
       " 'TELEDYNELA': 'TELEDYNELA',\n",
       " 'TELEDYNE LEARS': 'TELEDYNELA',\n",
       " 'TELEDYNE LARS': 'TELEDYNELA',\n",
       " 'TELEDYNEL': 'TELEDYNELA',\n",
       " 'TELEDYNE LAA': 'TELEDYNELA',\n",
       " 'TELEDYDE L': 'TELEDYNELA',\n",
       " 'TELEYNE LAARS': 'TELEDYNELA',\n",
       " 'TELE LAARS': 'TELEDYNELA',\n",
       " 'TELEDYNE LAARS  PH-0': 'TELEDYNELA',\n",
       " 'TLDYNDAARS': 'TELEDYNELA',\n",
       " 'TELEDYS LAARS': 'TELEDYNELA',\n",
       " 'TELEDYNE/L': 'TELEDYNELA',\n",
       " 'TELDYNE LARRS': 'TELEDYNELA',\n",
       " 'TELEDYNE/LAAR': 'TELEDYNELA',\n",
       " 'TELEDYNELARRS': 'TELEDYNELA',\n",
       " 'TELEDYNE LAARS PH-04': 'TELEDYNELA',\n",
       " 'TELEDYNE LAARS PW060': 'TELEDYNELA',\n",
       " 'TELEDYNE LAAR': 'TELEDYNELA',\n",
       " 'TYLEDYNE LARS': 'TELEDYNELA',\n",
       " 'TELEDYNE  LAR': 'TELEDYNELA',\n",
       " 'TELEDYNE LAAR-PW0999': 'TELEDYNELA',\n",
       " 'TRELEDYNE LAA': 'TELEDYNELA',\n",
       " 'TELEDYNE L': 'TELEDYNELA',\n",
       " 'TELEDYNE LARRS': 'TELEDYNELA',\n",
       " 'TELEDYNE LAYS': 'TELEDYNELA',\n",
       " 'TELEDYNE LAARS PNCH0': 'TELEDYNELA',\n",
       " 'TELDYNE': 'TELEDYNELA',\n",
       " 'TELEDYNELARS': 'TELEDYNELA',\n",
       " 'TELEDYNE LEAR': 'TELEDYNELA',\n",
       " 'TELEDYNE-LAAR': 'TELEDYNELA',\n",
       " 'TYLEDYNE LAARS': 'TELEDYNELA',\n",
       " 'TELEDYNE': 'TELEDYNELA',\n",
       " 'TELEDYNE THAR': 'TELEDYNELA',\n",
       " 'TELEDYME LAARS': 'TELEDYNELA',\n",
       " 'TELEDYNE LAARS PH-03': 'TELEDYNELA',\n",
       " 'TELEDYNE-LAARS': 'TELEDYNELA',\n",
       " 'TELEDYNELAARS': 'TELEDYNELA',\n",
       " 'TELDYNE LAARS': 'TELEDYNELA',\n",
       " 'TELEDYNE LAARS': 'TELEDYNELA',\n",
       " 'TELEDYNE LARR': 'TELEDYNELA',\n",
       " 'TLDYNLAARS': 'TELEDYNELA',\n",
       " 'RBI-DB-1500': 'RBI-DB-1500',\n",
       " 'RBI DB 750': 'RBI-DB-1500',\n",
       " 'RBI MB-3000': 'RBI-DB-1500',\n",
       " 'RBI-1500': 'RBI-DB-1500',\n",
       " 'RBI FB-1000': 'RBI-DB-1500',\n",
       " 'RBI/MB2500': 'RBI-DB-1500',\n",
       " 'RBI FW-1000': 'RBI-DB-1500',\n",
       " 'RBI-MB-3000': 'RBI-DB-1500',\n",
       " 'RBI-DB-1050': 'RBI-DB-1500',\n",
       " 'RBI DB-1500': 'RBI-DB-1500',\n",
       " 'RBI/MB-2500': 'RBI-DB-1500',\n",
       " 'RBI FB-1500': 'RBI-DB-1500',\n",
       " 'RBI-DB-1350': 'RBI-DB-1500',\n",
       " 'LOVHINVAR': 'LOVHINVAR',\n",
       " 'LOCHINVARH': 'LOVHINVAR',\n",
       " 'LOCHINCAL': 'LOVHINVAR',\n",
       " 'LONCHINVAR KBN-': 'LOVHINVAR',\n",
       " 'LOCHINVAR KNIGH': 'LOVHINVAR',\n",
       " 'LONCHIVAR': 'LOVHINVAR',\n",
       " 'LOCKINVAR': 'LOVHINVAR',\n",
       " 'LONCHINVAR': 'LOVHINVAR',\n",
       " 'LOCHINWAR': 'LOVHINVAR',\n",
       " 'LOCHINVAR CHN0652': 'LOVHINVAR',\n",
       " 'LONCHINWAR': 'LOVHINVAR',\n",
       " 'LOCHINVAR CHN1261': 'LOVHINVAR',\n",
       " 'LOCHNIVAR': 'LOVHINVAR',\n",
       " 'LOCHINVEAR': 'LOVHINVAR',\n",
       " 'LOCHINVAL': 'LOVHINVAR',\n",
       " 'LOCHNVAR': 'LOVHINVAR',\n",
       " 'LACHINVAR': 'LOVHINVAR',\n",
       " 'LOCHINAR': 'LOVHINVAR',\n",
       " 'LOCHINVAR KBN 500': 'LOVHINVAR',\n",
       " 'LOCHINVAR FBN': 'LOVHINVAR',\n",
       " 'LOCHINVAR CHN651': 'LOVHINVAR',\n",
       " 'LOCHINVARPBN2': 'LOVHINVAR',\n",
       " 'LOCHIVAR': 'LOVHINVAR',\n",
       " 'LOCHINVAR KBN500': 'LOVHINVAR',\n",
       " 'LOCHIMAR': 'LOVHINVAR',\n",
       " 'LOCHINVARS': 'LOVHINVAR',\n",
       " 'LOCKNIVAR': 'LOVHINVAR',\n",
       " 'LOCHINVAR': 'LOVHINVAR',\n",
       " 'LOCHINVAR KBN': 'LOVHINVAR',\n",
       " 'LCHINVAR': 'LOVHINVAR',\n",
       " 'LOCINVAR': 'LOVHINVAR',\n",
       " 'LONCHINVAR KBN': 'LOVHINVAR',\n",
       " 'STATE': 'STATE',\n",
       " 'THATCHER': 'STATE',\n",
       " 'TRANE': 'STATE',\n",
       " 'STEWART': 'STATE',\n",
       " 'STEAM': 'STATE',\n",
       " 'STEAMASTER': 'STATE',\n",
       " 'CENRTURY W': 'CENRTURY W',\n",
       " 'CENTRY GAS': 'CENRTURY W',\n",
       " 'CENTARY': 'CENRTURY W',\n",
       " 'CENTURY': 'CENRTURY W',\n",
       " 'SUPREME SER#497': 'SUPREME SER#497',\n",
       " 'SUPREME BL': 'SUPREME SER#497',\n",
       " 'SUPREME D2-35-4': 'SUPREME SER#497',\n",
       " 'SURPREME': 'SUPREME SER#497',\n",
       " 'SUPEREME': 'SUPREME SER#497',\n",
       " 'SUPREME D4-100': 'SUPREME SER#497',\n",
       " 'SUPREME D2-45-4': 'SUPREME SER#497',\n",
       " 'SUPREME BOILE': 'SUPREME SER#497',\n",
       " 'SUPREME': 'SUPREME SER#497',\n",
       " 'SUPREME SER#495': 'SUPREME SER#497',\n",
       " 'DEDIETRICH': 'DEDIETRICH',\n",
       " 'DE DIETRICH': 'DEDIETRICH',\n",
       " 'DIDIETRICH': 'DEDIETRICH',\n",
       " 'ECCENTRIC': 'DEDIETRICH',\n",
       " 'AECO KC 1000': 'AECO KC 1000',\n",
       " 'AERCO BMK-600': 'AECO KC 1000',\n",
       " 'AERCO BMK 200': 'AECO KC 1000',\n",
       " 'AERCO1000': 'AECO KC 1000',\n",
       " 'AERCO BMK-2000': 'AECO KC 1000',\n",
       " 'AERCO BMK 3.0': 'AECO KC 1000',\n",
       " 'AERCO KC': 'AECO KC 1000',\n",
       " 'AERCO KC-1000': 'AECO KC 1000',\n",
       " 'AERCO BMK-3000': 'AECO KC 1000',\n",
       " 'AERCO KC 1000': 'AECO KC 1000',\n",
       " 'RAYPARK': 'RAYPARK',\n",
       " 'RAY PACK': 'RAYPARK',\n",
       " 'RAY PAK': 'RAYPARK',\n",
       " 'RAYPAK# H6-12': 'RAYPARK',\n",
       " 'RAYPACK': 'RAYPARK',\n",
       " 'RAY PAC': 'RAYPARK',\n",
       " 'RAYPAC': 'RAYPARK',\n",
       " 'RAYPACK RHEAM': 'RAYPARK',\n",
       " 'RAYPAK': 'RAYPARK',\n",
       " 'PROPAK': 'RAYPARK',\n",
       " 'KAWANEE': 'KAWANEE',\n",
       " 'WAYNE': 'KAWANEE',\n",
       " 'KEWANEE BOILE': 'KAWANEE',\n",
       " 'FT KEWANEE': 'KAWANEE',\n",
       " 'KEWANSE': 'KAWANEE',\n",
       " 'KWANNE BOILER': 'KAWANEE',\n",
       " 'KEWANEES': 'KAWANEE',\n",
       " 'KEWANIE': 'KAWANEE',\n",
       " 'KEWANEE': 'KAWANEE',\n",
       " 'KEAWANEE': 'KAWANEE',\n",
       " 'GAS MASTER': 'GAS MASTER',\n",
       " 'HEATMASTER': 'GAS MASTER',\n",
       " 'GASMASTER': 'GAS MASTER',\n",
       " 'STEAM MASTER': 'GAS MASTER',\n",
       " 'HEAT MAKER': 'GAS MASTER',\n",
       " 'Rockmills': 'Rockmills',\n",
       " 'ARCO LEADER': 'ARCO LEADER',\n",
       " 'CLEAVER': 'ARCO LEADER',\n",
       " 'ARCO LINER': 'ARCO LEADER',\n",
       " 'RECO LAARS': 'ARCO LEADER',\n",
       " 'ARCO PETRO': 'ARCO LEADER',\n",
       " 'CLEAVERBK': 'ARCO LEADER',\n",
       " 'AERCO BENCHMARK': 'ARCO LEADER',\n",
       " 'CLEAVERBR': 'ARCO LEADER',\n",
       " 'EASCO BOILER': 'ARCO LEADER',\n",
       " 'EASCO BLR': 'ARCO LEADER',\n",
       " 'AVCO SPENCER': 'ARCO LEADER',\n",
       " 'DEL RAY': 'DEL RAY',\n",
       " ...}"
      ]
     },
     "execution_count": 36,
     "metadata": {},
     "output_type": "execute_result"
    }
   ],
   "source": [
    "print(len(makes.keys()))\n",
    "# invert the mapping\n",
    "inverted_makes = {}\n",
    "\n",
    "for make_key, make_values in makes.items():\n",
    "    for m in make_values:\n",
    "        inverted_makes[m] = make_key\n",
    "        \n",
    "inverted_makes"
   ]
  },
  {
   "cell_type": "code",
   "execution_count": 37,
   "metadata": {
    "collapsed": false
   },
   "outputs": [],
   "source": [
    "# complete the mapping\n",
    "boiler_inspections['Boiler Make'] = boiler_inspections['Boiler Make'].map(inverted_makes)"
   ]
  },
  {
   "cell_type": "markdown",
   "metadata": {},
   "source": [
    "### Question: What are the most popular boilers?"
   ]
  },
  {
   "cell_type": "code",
   "execution_count": 38,
   "metadata": {
    "collapsed": false
   },
   "outputs": [
    {
     "data": {
      "text/plain": [
       "Boiler Make\n",
       "WEIL MCLAIN EG-    32203\n",
       "IDEAL              17578\n",
       "BURKAY             14163\n",
       "HB SMITH 28-11     12106\n",
       "ROCKMILLS MP-70    11021\n",
       "Name: Tracking Number, dtype: int64"
      ]
     },
     "execution_count": 38,
     "metadata": {},
     "output_type": "execute_result"
    }
   ],
   "source": [
    "top_makes = boiler_inspections.groupby('Boiler Make').count().sort_values(by='Bin Number', ascending=False)['Tracking Number'].head()\n",
    "top_makes"
   ]
  },
  {
   "cell_type": "markdown",
   "metadata": {},
   "source": [
    "### Question: Which boiler makes have the highest rate of defects?"
   ]
  },
  {
   "cell_type": "code",
   "execution_count": 39,
   "metadata": {
    "collapsed": false
   },
   "outputs": [],
   "source": [
    "boiler_make_numerator = boiler_inspections.groupby('Boiler Make').sum()['Defects Exist']\n",
    "\n",
    "boiler_make_denominator = boiler_inspections.groupby('Boiler Make').count()['Boiler ID']\n",
    "\n",
    "defect_make_ratio = boiler_make_numerator / boiler_make_denominator"
   ]
  },
  {
   "cell_type": "code",
   "execution_count": 40,
   "metadata": {
    "collapsed": false
   },
   "outputs": [
    {
     "name": "stdout",
     "output_type": "stream",
     "text": [
      "Make: WEIL MCLAIN EG- ---- defect ratio: 0.07474458901344595\n",
      "\n",
      "Make: IDEAL ---- defect ratio: 0.09989759927181704\n",
      "\n",
      "Make: BURKAY ---- defect ratio: 0.0650992021464379\n",
      "\n",
      "Make: HB SMITH 28-11 ---- defect ratio: 0.09829836444738146\n",
      "\n",
      "Make: ROCKMILLS MP-70 ---- defect ratio: 0.09173396243535069\n",
      "\n"
     ]
    }
   ],
   "source": [
    "# of the top 5 boilers, which are the most defective?\n",
    "for make in top_makes.index:\n",
    "    print(\"Make: {} ---- defect ratio: {}\".format(make, defect_make_ratio[make]))\n",
    "    print()"
   ]
  },
  {
   "cell_type": "code",
   "execution_count": 41,
   "metadata": {
    "collapsed": false,
    "scrolled": true
   },
   "outputs": [
    {
     "data": {
      "text/plain": [
       "Bin Number\n",
       "3071219    195\n",
       "1088437    102\n",
       "4112321     80\n",
       "4092120     74\n",
       "3347532     72\n",
       "2116700     65\n",
       "4539231     64\n",
       "1008455     53\n",
       "5009578     52\n",
       "1082174     45\n",
       "2005898     45\n",
       "2097050     44\n",
       "5147163     43\n",
       "3056457     42\n",
       "1089325     42\n",
       "1014497     41\n",
       "1080776     38\n",
       "1014464     36\n",
       "4004351     36\n",
       "3189540     35\n",
       "3014856     35\n",
       "3061080     34\n",
       "5113197     34\n",
       "1048914     33\n",
       "1070992     33\n",
       "1088726     32\n",
       "2051208     32\n",
       "1054368     32\n",
       "2117693     32\n",
       "3062358     31\n",
       "          ... \n",
       "2000864      1\n",
       "2000865      1\n",
       "2000866      1\n",
       "3135868      1\n",
       "2000732      1\n",
       "2000731      1\n",
       "3135918      1\n",
       "3136011      1\n",
       "2000602      1\n",
       "3135956      1\n",
       "3135955      1\n",
       "2000606      1\n",
       "3135952      1\n",
       "2000610      1\n",
       "3135946      1\n",
       "2000613      1\n",
       "2000614      1\n",
       "2000643      1\n",
       "2000704      1\n",
       "2000656      1\n",
       "3135917      1\n",
       "2000669      1\n",
       "2000672      1\n",
       "3135912      1\n",
       "3135908      1\n",
       "3135905      1\n",
       "2000684      1\n",
       "3135902      1\n",
       "2000690      1\n",
       "3037511      1\n",
       "Name: Tracking Number, Length: 70531, dtype: int64"
      ]
     },
     "execution_count": 41,
     "metadata": {},
     "output_type": "execute_result"
    }
   ],
   "source": [
    "boiler_inspections.groupby('Bin Number').count()['Tracking Number'].sort_values(ascending=False)"
   ]
  },
  {
   "cell_type": "markdown",
   "metadata": {},
   "source": [
    "### Bin to boiler features"
   ]
  },
  {
   "cell_type": "code",
   "execution_count": 42,
   "metadata": {
    "collapsed": true
   },
   "outputs": [],
   "source": [
    "def bin_to_boiler(bn):\n",
    "    \"\"\" Returns the most recent boiler information for a given Bin.  None if no records.\"\"\"\n",
    "    return boiler_inspections[boiler_inspections['Bin Number'] == bn].sort_values(by='Inspection Date', ascending=False).head(1)"
   ]
  },
  {
   "cell_type": "code",
   "execution_count": 43,
   "metadata": {
    "collapsed": false,
    "scrolled": false
   },
   "outputs": [
    {
     "data": {
      "text/html": [
       "<div>\n",
       "<style scoped>\n",
       "    .dataframe tbody tr th:only-of-type {\n",
       "        vertical-align: middle;\n",
       "    }\n",
       "\n",
       "    .dataframe tbody tr th {\n",
       "        vertical-align: top;\n",
       "    }\n",
       "\n",
       "    .dataframe thead th {\n",
       "        text-align: right;\n",
       "    }\n",
       "</style>\n",
       "<table border=\"1\" class=\"dataframe\">\n",
       "  <thead>\n",
       "    <tr style=\"text-align: right;\">\n",
       "      <th></th>\n",
       "      <th>Tracking Number</th>\n",
       "      <th>Boiler ID</th>\n",
       "      <th>Report Type</th>\n",
       "      <th>ApplicantFirst Name</th>\n",
       "      <th>Applicant Last Name</th>\n",
       "      <th>Applicant License Type</th>\n",
       "      <th>Applicant License Number</th>\n",
       "      <th>Owner First Name</th>\n",
       "      <th>Owner Last Name</th>\n",
       "      <th>Boiler Make</th>\n",
       "      <th>...</th>\n",
       "      <th>Pressure Type</th>\n",
       "      <th>Inspection Type</th>\n",
       "      <th>Inspection Date</th>\n",
       "      <th>Defects Exist</th>\n",
       "      <th>LFF (45 Days)</th>\n",
       "      <th>LFF (180 Days)</th>\n",
       "      <th>Filing Fee</th>\n",
       "      <th>Total Amount Paid</th>\n",
       "      <th>Report Status</th>\n",
       "      <th>Bin Number</th>\n",
       "    </tr>\n",
       "  </thead>\n",
       "  <tbody>\n",
       "    <tr>\n",
       "      <th>164033</th>\n",
       "      <td>2019-30000103737N0001-168469</td>\n",
       "      <td>30000103737N0001</td>\n",
       "      <td>Initial</td>\n",
       "      <td>CRAIG</td>\n",
       "      <td>MUELLER</td>\n",
       "      <td>BB</td>\n",
       "      <td>5029.0</td>\n",
       "      <td>LARRY</td>\n",
       "      <td>MOSKOWITZ</td>\n",
       "      <td>YORKSHIP</td>\n",
       "      <td>...</td>\n",
       "      <td>High Pressure</td>\n",
       "      <td>Internal</td>\n",
       "      <td>2019-04-09</td>\n",
       "      <td>0</td>\n",
       "      <td>0</td>\n",
       "      <td>0</td>\n",
       "      <td>30</td>\n",
       "      <td>30</td>\n",
       "      <td>Accepted</td>\n",
       "      <td>3071219</td>\n",
       "    </tr>\n",
       "  </tbody>\n",
       "</table>\n",
       "<p>1 rows × 21 columns</p>\n",
       "</div>"
      ],
      "text/plain": [
       "                     Tracking Number         Boiler ID Report Type  \\\n",
       "164033  2019-30000103737N0001-168469  30000103737N0001     Initial   \n",
       "\n",
       "       ApplicantFirst Name Applicant Last Name Applicant License Type  \\\n",
       "164033               CRAIG             MUELLER                     BB   \n",
       "\n",
       "        Applicant License Number Owner First Name Owner Last Name Boiler Make  \\\n",
       "164033                    5029.0            LARRY       MOSKOWITZ    YORKSHIP   \n",
       "\n",
       "        ...  Pressure Type Inspection Type Inspection Date Defects Exist  \\\n",
       "164033  ...  High Pressure        Internal      2019-04-09             0   \n",
       "\n",
       "        LFF (45 Days)  LFF (180 Days)  Filing Fee  Total Amount Paid  \\\n",
       "164033              0               0          30                 30   \n",
       "\n",
       "        Report Status Bin Number  \n",
       "164033       Accepted    3071219  \n",
       "\n",
       "[1 rows x 21 columns]"
      ]
     },
     "execution_count": 43,
     "metadata": {},
     "output_type": "execute_result"
    }
   ],
   "source": [
    "bin_to_boiler(3071219)"
   ]
  },
  {
   "cell_type": "code",
   "execution_count": 44,
   "metadata": {
    "collapsed": false
   },
   "outputs": [],
   "source": [
    "# TODO: change this to get all relevant boiler features\n",
    "# boiler_feature_names = ['Pressure Type', 'Boiler Make']\n",
    "\n",
    "def get_boiler_feature(feature):\n",
    "    boiler_features = []\n",
    "    for row in boiler_complaints.iterrows():\n",
    "        boiler_info = bin_to_boiler(row[1]['BIN'])\n",
    "        \n",
    "        boiler_feature = boiler_info[feature].values\n",
    "#         boiler_features.append(boiler_feature)\n",
    "        \n",
    "        if len(boiler_feature) > 0:\n",
    "            boiler_features.append(boiler_feature[0])\n",
    "#             print(boiler_feature[0])\n",
    "    #         print(type(boiler_info))\n",
    "#             break\n",
    "        else:\n",
    "            boiler_features.append(None)\n",
    "    #         print(len(boiler_features))\n",
    "\n",
    "#     #     index = boiler_complaints.index[boiler_complaints['BIN'] == row[1]['BIN']].values[0]\n",
    "\n",
    "    return boiler_features"
   ]
  },
  {
   "cell_type": "code",
   "execution_count": 45,
   "metadata": {
    "collapsed": false
   },
   "outputs": [
    {
     "name": "stdout",
     "output_type": "stream",
     "text": [
      "2082             BURKAY\n",
      "2083               None\n",
      "2084    WEIL MCLAIN EG-\n",
      "2094              IDEAL\n",
      "2883            AO BEST\n",
      "Name: Boiler Make, dtype: object\n"
     ]
    }
   ],
   "source": [
    "features['Boiler Make'] = get_boiler_feature('Boiler Make')\n",
    "features['Pressure Type'] = get_boiler_feature('Pressure Type')\n",
    "print(features['Boiler Make'].head())"
   ]
  },
  {
   "cell_type": "code",
   "execution_count": 46,
   "metadata": {
    "collapsed": false,
    "scrolled": true
   },
   "outputs": [
    {
     "name": "stdout",
     "output_type": "stream",
     "text": [
      "Percent of complaints with boiler features: 0.6222374507452458\n",
      "Percent of complaints with boiler features that result in a violation (balance): 0.5190895741556535\n"
     ]
    }
   ],
   "source": [
    "features_with_boiler_features = features.dropna(subset=['Boiler Make'])\n",
    "\n",
    "print(\"Percent of complaints with boiler features: {}\".format(len(features_with_boiler_features) / len(features)))\n",
    "\n",
    "print(\"Percent of complaints with boiler features that result in a violation (balance): {}\".format(features_with_boiler_features['Violation'].sum() / len(features_with_boiler_features)))"
   ]
  },
  {
   "cell_type": "markdown",
   "metadata": {},
   "source": [
    "### Get number of previous defects"
   ]
  },
  {
   "cell_type": "code",
   "execution_count": 47,
   "metadata": {
    "collapsed": false
   },
   "outputs": [],
   "source": [
    "bin_to_defects = boiler_inspections.groupby('Bin Number').count()['Defects Exist']\n",
    "defects_column = []\n",
    "for row in boiler_complaints.iterrows():\n",
    "    try:\n",
    "        defects = bin_to_defects[row[1]['BIN']]\n",
    "    except:\n",
    "        defects = None\n",
    "        \n",
    "    defects_column.append(defects)"
   ]
  },
  {
   "cell_type": "code",
   "execution_count": 48,
   "metadata": {
    "collapsed": false
   },
   "outputs": [],
   "source": [
    "features['Defects'] = defects_column"
   ]
  },
  {
   "cell_type": "code",
   "execution_count": 49,
   "metadata": {
    "collapsed": false
   },
   "outputs": [
    {
     "data": {
      "text/html": [
       "<div>\n",
       "<style scoped>\n",
       "    .dataframe tbody tr th:only-of-type {\n",
       "        vertical-align: middle;\n",
       "    }\n",
       "\n",
       "    .dataframe tbody tr th {\n",
       "        vertical-align: top;\n",
       "    }\n",
       "\n",
       "    .dataframe thead th {\n",
       "        text-align: right;\n",
       "    }\n",
       "</style>\n",
       "<table border=\"1\" class=\"dataframe\">\n",
       "  <thead>\n",
       "    <tr style=\"text-align: right;\">\n",
       "      <th></th>\n",
       "      <th>Violation</th>\n",
       "      <th>Complaint Category</th>\n",
       "      <th>Previous Complaints</th>\n",
       "      <th>Previous Violations</th>\n",
       "      <th>Violation Ratio</th>\n",
       "      <th>ZIP Code</th>\n",
       "      <th>Boiler Make</th>\n",
       "      <th>Pressure Type</th>\n",
       "      <th>Defects</th>\n",
       "    </tr>\n",
       "  </thead>\n",
       "  <tbody>\n",
       "    <tr>\n",
       "      <th>2082</th>\n",
       "      <td>1</td>\n",
       "      <td>0</td>\n",
       "      <td>0</td>\n",
       "      <td>0</td>\n",
       "      <td>0.0</td>\n",
       "      <td>64</td>\n",
       "      <td>16</td>\n",
       "      <td>1</td>\n",
       "      <td>1.0</td>\n",
       "    </tr>\n",
       "    <tr>\n",
       "      <th>2084</th>\n",
       "      <td>1</td>\n",
       "      <td>0</td>\n",
       "      <td>0</td>\n",
       "      <td>0</td>\n",
       "      <td>0.0</td>\n",
       "      <td>49</td>\n",
       "      <td>115</td>\n",
       "      <td>1</td>\n",
       "      <td>1.0</td>\n",
       "    </tr>\n",
       "    <tr>\n",
       "      <th>2094</th>\n",
       "      <td>0</td>\n",
       "      <td>0</td>\n",
       "      <td>0</td>\n",
       "      <td>0</td>\n",
       "      <td>0.0</td>\n",
       "      <td>83</td>\n",
       "      <td>56</td>\n",
       "      <td>1</td>\n",
       "      <td>1.0</td>\n",
       "    </tr>\n",
       "    <tr>\n",
       "      <th>2883</th>\n",
       "      <td>0</td>\n",
       "      <td>0</td>\n",
       "      <td>1</td>\n",
       "      <td>1</td>\n",
       "      <td>1.0</td>\n",
       "      <td>70</td>\n",
       "      <td>6</td>\n",
       "      <td>1</td>\n",
       "      <td>2.0</td>\n",
       "    </tr>\n",
       "    <tr>\n",
       "      <th>4670</th>\n",
       "      <td>0</td>\n",
       "      <td>0</td>\n",
       "      <td>0</td>\n",
       "      <td>0</td>\n",
       "      <td>0.0</td>\n",
       "      <td>83</td>\n",
       "      <td>42</td>\n",
       "      <td>1</td>\n",
       "      <td>5.0</td>\n",
       "    </tr>\n",
       "  </tbody>\n",
       "</table>\n",
       "</div>"
      ],
      "text/plain": [
       "      Violation  Complaint Category  Previous Complaints  Previous Violations  \\\n",
       "2082          1                   0                    0                    0   \n",
       "2084          1                   0                    0                    0   \n",
       "2094          0                   0                    0                    0   \n",
       "2883          0                   0                    1                    1   \n",
       "4670          0                   0                    0                    0   \n",
       "\n",
       "      Violation Ratio  ZIP Code  Boiler Make  Pressure Type  Defects  \n",
       "2082              0.0        64           16              1      1.0  \n",
       "2084              0.0        49          115              1      1.0  \n",
       "2094              0.0        83           56              1      1.0  \n",
       "2883              1.0        70            6              1      2.0  \n",
       "4670              0.0        83           42              1      5.0  "
      ]
     },
     "execution_count": 49,
     "metadata": {},
     "output_type": "execute_result"
    }
   ],
   "source": [
    "features = features.dropna(subset=['Boiler Make'])\n",
    "features['Boiler Make'] = features['Boiler Make'].astype('category').cat.codes\n",
    "features['Pressure Type'] = features['Pressure Type'].astype('category').cat.codes\n",
    "features.head()"
   ]
  },
  {
   "cell_type": "markdown",
   "metadata": {},
   "source": [
    "### Question: Why do some complaints not have a BIN in the inspections?\n",
    "answer: idk"
   ]
  },
  {
   "cell_type": "code",
   "execution_count": 50,
   "metadata": {
    "collapsed": false
   },
   "outputs": [
    {
     "ename": "NameError",
     "evalue": "name 'boiler_make_column' is not defined",
     "output_type": "error",
     "traceback": [
      "\u001b[0;31m---------------------------------------------------------------------------\u001b[0m",
      "\u001b[0;31mNameError\u001b[0m                                 Traceback (most recent call last)",
      "\u001b[0;32m<ipython-input-50-795dfe3ed69d>\u001b[0m in \u001b[0;36m<module>\u001b[0;34m\u001b[0m\n\u001b[1;32m      1\u001b[0m \u001b[0;31m# TODO: inspect that complaints that don't have boiler inspections... could it be the date?\u001b[0m\u001b[0;34m\u001b[0m\u001b[0;34m\u001b[0m\u001b[0m\n\u001b[0;32m----> 2\u001b[0;31m \u001b[0mboiler_complaints\u001b[0m\u001b[0;34m[\u001b[0m\u001b[0;34m'Boiler Make'\u001b[0m\u001b[0;34m]\u001b[0m \u001b[0;34m=\u001b[0m \u001b[0mboiler_make_column\u001b[0m\u001b[0;34m\u001b[0m\u001b[0m\n\u001b[0m\u001b[1;32m      3\u001b[0m \u001b[0mboiler_complaints_without_boiler_features\u001b[0m \u001b[0;34m=\u001b[0m \u001b[0mboiler_complaints\u001b[0m\u001b[0;34m[\u001b[0m\u001b[0mboiler_complaints\u001b[0m\u001b[0;34m[\u001b[0m\u001b[0;34m'Boiler Make'\u001b[0m\u001b[0;34m]\u001b[0m\u001b[0;34m.\u001b[0m\u001b[0misnull\u001b[0m\u001b[0;34m(\u001b[0m\u001b[0;34m)\u001b[0m\u001b[0;34m]\u001b[0m\u001b[0;34m\u001b[0m\u001b[0m\n\u001b[1;32m      4\u001b[0m \u001b[0;34m\u001b[0m\u001b[0m\n\u001b[1;32m      5\u001b[0m \u001b[0mboiler_complaints_without_boiler_features\u001b[0m\u001b[0;34m.\u001b[0m\u001b[0mgroupby\u001b[0m\u001b[0;34m(\u001b[0m\u001b[0mboiler_complaints_without_boiler_features\u001b[0m\u001b[0;34m[\u001b[0m\u001b[0;34m\"Date Entered\"\u001b[0m\u001b[0;34m]\u001b[0m\u001b[0;34m.\u001b[0m\u001b[0mdt\u001b[0m\u001b[0;34m.\u001b[0m\u001b[0myear\u001b[0m\u001b[0;34m)\u001b[0m\u001b[0;34m.\u001b[0m\u001b[0mcount\u001b[0m\u001b[0;34m(\u001b[0m\u001b[0;34m)\u001b[0m\u001b[0;34m[\u001b[0m\u001b[0;34m'BIN'\u001b[0m\u001b[0;34m]\u001b[0m\u001b[0;34m.\u001b[0m\u001b[0mplot\u001b[0m\u001b[0;34m(\u001b[0m\u001b[0mkind\u001b[0m\u001b[0;34m=\u001b[0m\u001b[0;34m'bar'\u001b[0m\u001b[0;34m)\u001b[0m\u001b[0;34m\u001b[0m\u001b[0m\n",
      "\u001b[0;31mNameError\u001b[0m: name 'boiler_make_column' is not defined"
     ]
    }
   ],
   "source": [
    "# TODO: inspect that complaints that don't have boiler inspections... could it be the date?\n",
    "boiler_complaints['Boiler Make'] = boiler_make_column\n",
    "boiler_complaints_without_boiler_features = boiler_complaints[boiler_complaints['Boiler Make'].isnull()]\n",
    "\n",
    "boiler_complaints_without_boiler_features.groupby(boiler_complaints_without_boiler_features[\"Date Entered\"].dt.year).count()['BIN'].plot(kind='bar')"
   ]
  },
  {
   "cell_type": "code",
   "execution_count": null,
   "metadata": {
    "collapsed": false
   },
   "outputs": [],
   "source": [
    "boiler_complaints.groupby(boiler_complaints[\"Date Entered\"].dt.year).count()['BIN'].plot(kind='bar')"
   ]
  },
  {
   "cell_type": "markdown",
   "metadata": {},
   "source": [
    "# Model"
   ]
  },
  {
   "cell_type": "code",
   "execution_count": 51,
   "metadata": {
    "collapsed": false
   },
   "outputs": [],
   "source": [
    "from sklearn.ensemble import RandomForestClassifier\n",
    "from sklearn.model_selection import train_test_split"
   ]
  },
  {
   "cell_type": "code",
   "execution_count": 52,
   "metadata": {
    "collapsed": false
   },
   "outputs": [
    {
     "data": {
      "text/plain": [
       "['Violation',\n",
       " 'Complaint Category',\n",
       " 'Previous Complaints',\n",
       " 'Previous Violations',\n",
       " 'Violation Ratio',\n",
       " 'ZIP Code',\n",
       " 'Boiler Make',\n",
       " 'Pressure Type',\n",
       " 'Defects']"
      ]
     },
     "execution_count": 52,
     "metadata": {},
     "output_type": "execute_result"
    }
   ],
   "source": [
    "list(features)"
   ]
  },
  {
   "cell_type": "markdown",
   "metadata": {},
   "source": [
    "### Create Training and test splits"
   ]
  },
  {
   "cell_type": "code",
   "execution_count": 53,
   "metadata": {
    "collapsed": false,
    "scrolled": true
   },
   "outputs": [],
   "source": [
    "y = features['Violation']\n",
    "X = features[['Violation Ratio', 'ZIP Code', 'Boiler Make', 'Previous Violations', 'Previous Complaints', 'Defects']]"
   ]
  },
  {
   "cell_type": "code",
   "execution_count": 54,
   "metadata": {
    "collapsed": true
   },
   "outputs": [],
   "source": [
    "X_train, X_test, y_train, y_test = train_test_split(X, y, test_size=0.6, random_state=None)"
   ]
  },
  {
   "cell_type": "code",
   "execution_count": 55,
   "metadata": {
    "collapsed": false
   },
   "outputs": [
    {
     "name": "stdout",
     "output_type": "stream",
     "text": [
      "['Violation Ratio', 'ZIP Code', 'Boiler Make', 'Previous Violations', 'Previous Complaints', 'Defects']\n",
      "[0.20968962 0.23708094 0.12320556 0.14018104 0.20605957 0.08378327]\n",
      "0.6787517209729234\n",
      "0.6312327929030285\n"
     ]
    }
   ],
   "source": [
    "clf = RandomForestClassifier(n_estimators=1000, max_depth=7, random_state=None)\n",
    "clf.fit(X_train, y_train)\n",
    "\n",
    "print(list(X))\n",
    "print(clf.feature_importances_)\n",
    "print(clf.score(X_train, y_train))\n",
    "print(clf.score(X_test, y_test))"
   ]
  },
  {
   "cell_type": "markdown",
   "metadata": {},
   "source": [
    "### Metrics: wooo yaaay"
   ]
  },
  {
   "cell_type": "code",
   "execution_count": 56,
   "metadata": {
    "collapsed": false,
    "scrolled": true
   },
   "outputs": [],
   "source": [
    "# Playing with n_estimators and max_depth improves metrics"
   ]
  },
  {
   "cell_type": "code",
   "execution_count": 57,
   "metadata": {
    "collapsed": false
   },
   "outputs": [],
   "source": [
    "from sklearn.metrics import roc_curve, auc\n",
    "import matplotlib.pyplot as plt"
   ]
  },
  {
   "cell_type": "markdown",
   "metadata": {},
   "source": [
    "# ROC Curve"
   ]
  },
  {
   "cell_type": "code",
   "execution_count": 58,
   "metadata": {
    "collapsed": false
   },
   "outputs": [
    {
     "name": "stdout",
     "output_type": "stream",
     "text": [
      "[0 1]\n",
      "[[0.36314974 0.63685026]\n",
      " [0.54437091 0.45562909]\n",
      " [0.46438321 0.53561679]\n",
      " ...\n",
      " [0.40659847 0.59340153]\n",
      " [0.50762486 0.49237514]\n",
      " [0.90818408 0.09181592]]\n"
     ]
    },
    {
     "data": {
      "text/plain": [
       "[<matplotlib.lines.Line2D at 0x11b629e48>]"
      ]
     },
     "execution_count": 58,
     "metadata": {},
     "output_type": "execute_result"
    },
    {
     "data": {
      "image/png": "[encoded data removed]",
      "text/plain": [
       "<Figure size 432x288 with 1 Axes>"
      ]
     },
     "metadata": {
      "needs_background": "light"
     },
     "output_type": "display_data"
    }
   ],
   "source": [
    "y_predict_probs = clf.predict_proba(X_test)\n",
    "print(clf.classes_)\n",
    "print(y_predict_probs)\n",
    "\n",
    "fpr, tpr, thresholds = roc_curve(y_test, y_predict_probs[:,1])\n",
    "\n",
    "roc_auc = auc(fpr, tpr)\n",
    "\n",
    "plt.plot(fpr, tpr, lw=1, alpha=1,\n",
    "         label='ROC')\n",
    "\n",
    "plt.plot([0, 1], [0, 1], linestyle='--', lw=2, color='r',\n",
    "         label='Chance', alpha=.8)"
   ]
  },
  {
   "cell_type": "code",
   "execution_count": null,
   "metadata": {
    "collapsed": false
   },
   "outputs": [],
   "source": [
    "# Most confident predictions\n",
    "sorted(y_predict_probs[:,1])[::-1]"
   ]
  },
  {
   "cell_type": "code",
   "execution_count": null,
   "metadata": {
    "collapsed": true
   },
   "outputs": [],
   "source": []
  },
  {
   "cell_type": "code",
   "execution_count": null,
   "metadata": {
    "collapsed": true
   },
   "outputs": [],
   "source": []
  }
 ],
 "metadata": {
  "anaconda-cloud": {},
  "kernelspec": {
   "display_name": "python36",
   "language": "python",
   "name": "python36"
  },
  "language_info": {
   "codemirror_mode": {
    "name": "ipython",
    "version": 3
   },
   "file_extension": ".py",
   "mimetype": "text/x-python",
   "name": "python",
   "nbconvert_exporter": "python",
   "pygments_lexer": "ipython3",
   "version": "3.6.4"
  }
 },
 "nbformat": 4,
 "nbformat_minor": 0
}
