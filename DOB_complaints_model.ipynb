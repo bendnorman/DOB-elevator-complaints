{
 "cells": [
  {
   "cell_type": "code",
   "execution_count": 1,
   "metadata": {},
   "outputs": [],
   "source": [
    "import pandas as pd\n",
    "%matplotlib inline"
   ]
  },
  {
   "cell_type": "markdown",
   "metadata": {},
   "source": [
    "# Data Cleaning"
   ]
  },
  {
   "cell_type": "code",
   "execution_count": 2,
   "metadata": {},
   "outputs": [
    {
     "name": "stderr",
     "output_type": "stream",
     "text": [
      "/usr/local/lib/python3.7/site-packages/IPython/core/interactiveshell.py:3020: DtypeWarning: Columns (4,7,9) have mixed types. Specify dtype option on import or set low_memory=False.\n",
      "  interactivity=interactivity, compiler=compiler, result=result)\n"
     ]
    },
    {
     "name": "stdout",
     "output_type": "stream",
     "text": [
      "['Complaint Number', 'Status', 'Date Entered', 'House Number', 'ZIP Code', 'House Street', 'BIN', 'Community Board', 'Special District', 'Complaint Category', 'Unit', 'Disposition Date', 'Disposition Code', 'Inspection Date', 'DOBRunDate']\n",
      "2303002\n"
     ]
    }
   ],
   "source": [
    "all_complaints = pd.read_csv('data/DOB_Complaints_Received.csv')\n",
    "print(list(all_complaints))\n",
    "print(len(all_complaints))"
   ]
  },
  {
   "cell_type": "markdown",
   "metadata": {},
   "source": [
    "### Handle types"
   ]
  },
  {
   "cell_type": "code",
   "execution_count": 3,
   "metadata": {},
   "outputs": [],
   "source": [
    "all_complaints['Complaint Category'] = all_complaints['Complaint Category'].astype(str)"
   ]
  },
  {
   "cell_type": "markdown",
   "metadata": {},
   "source": [
    "### Filter down to just Boilers"
   ]
  },
  {
   "cell_type": "code",
   "execution_count": 4,
   "metadata": {},
   "outputs": [
    {
     "name": "stdout",
     "output_type": "stream",
     "text": [
      "Number of total complaints: 2303002\n",
      "Number of boiler complaints: 29798\n"
     ]
    },
    {
     "data": {
      "text/plain": [
       "58    29798\n",
       "Name: Complaint Category, dtype: int64"
      ]
     },
     "execution_count": 4,
     "metadata": {},
     "output_type": "execute_result"
    }
   ],
   "source": [
    "complaint_categories = ['58']\n",
    "\n",
    "boiler_complaints = all_complaints[all_complaints['Complaint Category'].isin(complaint_categories)]\n",
    "\n",
    "print(\"Number of total complaints: {}\".format(len(all_complaints)))\n",
    "print(\"Number of boiler complaints: {}\".format(len(boiler_complaints)))\n",
    "\n",
    "boiler_complaints['Complaint Category'].value_counts()"
   ]
  },
  {
   "cell_type": "code",
   "execution_count": 5,
   "metadata": {},
   "outputs": [
    {
     "name": "stderr",
     "output_type": "stream",
     "text": [
      "/usr/local/lib/python3.7/site-packages/ipykernel_launcher.py:1: SettingWithCopyWarning: \n",
      "A value is trying to be set on a copy of a slice from a DataFrame.\n",
      "Try using .loc[row_indexer,col_indexer] = value instead\n",
      "\n",
      "See the caveats in the documentation: http://pandas.pydata.org/pandas-docs/stable/indexing.html#indexing-view-versus-copy\n",
      "  \"\"\"Entry point for launching an IPython kernel.\n"
     ]
    },
    {
     "data": {
      "text/plain": [
       "<matplotlib.axes._subplots.AxesSubplot at 0x11d233d68>"
      ]
     },
     "execution_count": 5,
     "metadata": {},
     "output_type": "execute_result"
    },
    {
     "data": {
      "image/png": "[encoded data removed]",
      "text/plain": [
       "<Figure size 432x288 with 1 Axes>"
      ]
     },
     "metadata": {
      "needs_background": "light"
     },
     "output_type": "display_data"
    }
   ],
   "source": [
    "boiler_complaints['Inspection Date'] = pd.to_datetime(boiler_complaints['Inspection Date'])\n",
    "boiler_complaints.groupby(boiler_complaints['Inspection Date'].dt.year).count()['BIN'].plot(kind='bar')"
   ]
  },
  {
   "cell_type": "markdown",
   "metadata": {},
   "source": [
    "### Remove Duplicates"
   ]
  },
  {
   "cell_type": "code",
   "execution_count": 6,
   "metadata": {},
   "outputs": [
    {
     "name": "stdout",
     "output_type": "stream",
     "text": [
      "number of boiler complaints after dropping duplicates: 27716\n"
     ]
    }
   ],
   "source": [
    "boiler_complaints = boiler_complaints.drop_duplicates(subset=['BIN', 'Date Entered'])\n",
    "print(\"number of boiler complaints after dropping duplicates: {}\".format(len(boiler_complaints)))"
   ]
  },
  {
   "cell_type": "markdown",
   "metadata": {},
   "source": [
    "### Filter down to relevant labels"
   ]
  },
  {
   "cell_type": "code",
   "execution_count": 7,
   "metadata": {
    "scrolled": true
   },
   "outputs": [
    {
     "name": "stdout",
     "output_type": "stream",
     "text": [
      "I2    7984\n",
      "C2    7479\n",
      "A8    5094\n",
      "A1    3987\n",
      "H1    1072\n",
      "      1042\n",
      "I1     344\n",
      "C4     176\n",
      "B1     116\n",
      "F8      93\n",
      "A9      83\n",
      "K1      52\n",
      "C1      40\n",
      "L2      27\n",
      "D6      24\n",
      "ND      20\n",
      "F1      18\n",
      "K2      10\n",
      "G6      10\n",
      "B2       6\n",
      "G8       6\n",
      "D2       5\n",
      "F3       5\n",
      "F6       3\n",
      "L1       3\n",
      "A3       2\n",
      "Y3       2\n",
      "H2       2\n",
      "A6       2\n",
      "H5       1\n",
      "G4       1\n",
      "P5       1\n",
      "Y2       1\n",
      "J1       1\n",
      "H4       1\n",
      "F5       1\n",
      "H3       1\n",
      "C3       1\n",
      "Name: Disposition Code, dtype: int64\n"
     ]
    },
    {
     "data": {
      "text/plain": [
       "<matplotlib.axes._subplots.AxesSubplot at 0x11a8703c8>"
      ]
     },
     "execution_count": 7,
     "metadata": {},
     "output_type": "execute_result"
    },
    {
     "data": {
      "image/png": "[encoded data removed]",
      "text/plain": [
       "<Figure size 432x288 with 1 Axes>"
      ]
     },
     "metadata": {
      "needs_background": "light"
     },
     "output_type": "display_data"
    }
   ],
   "source": [
    "print(boiler_complaints['Disposition Code'].value_counts())\n",
    "boiler_complaints.groupby('Disposition Code').count()['BIN'].plot('bar')"
   ]
  },
  {
   "cell_type": "markdown",
   "metadata": {},
   "source": [
    "**Positive**: A8 (ECB Violation Served), A1 (Buildings Violation(s) Served), B1 (Buildings Violation(s) Prepared and Attempt to Serve will be Made)\n",
    "\n",
    "**Negative**: I2 (No Violation Warranted for Complaint at Time of Inspection), I1 (Complaint Unsubstantiated Based on Department Records), \n",
    "\n",
    "**Note**: C2 (Inspector Unable to Gain Access – Final Attempt) did not include to assume we could gain access to the building.  It kind of seems like that would be a different classification task"
   ]
  },
  {
   "cell_type": "code",
   "execution_count": 8,
   "metadata": {},
   "outputs": [
    {
     "name": "stdout",
     "output_type": "stream",
     "text": [
      "Number of complaints after filter down to relevant dispoisition codes: 17525\n"
     ]
    }
   ],
   "source": [
    "positive_labels = ['A1', 'A8', 'B1']\n",
    "negative_labels = ['I1', 'I2']\n",
    "boiler_complaints = boiler_complaints[boiler_complaints['Disposition Code'].isin(positive_labels + negative_labels)]\n",
    "print(\"Number of complaints after filter down to relevant dispoisition codes: {}\".format(len(boiler_complaints)))"
   ]
  },
  {
   "cell_type": "markdown",
   "metadata": {},
   "source": [
    "# Create Labels"
   ]
  },
  {
   "cell_type": "code",
   "execution_count": 9,
   "metadata": {},
   "outputs": [],
   "source": [
    "labels = boiler_complaints['Disposition Code'].isin(positive_labels) * 1"
   ]
  },
  {
   "cell_type": "code",
   "execution_count": 10,
   "metadata": {
    "scrolled": true
   },
   "outputs": [
    {
     "name": "stdout",
     "output_type": "stream",
     "text": [
      "Percent of labels that are positive (result in violation): 0.524793152639087\n"
     ]
    }
   ],
   "source": [
    "print(\"Percent of labels that are positive (result in violation): {}\".format(sum(labels) / len(labels)))"
   ]
  },
  {
   "cell_type": "markdown",
   "metadata": {},
   "source": [
    "# Create Features"
   ]
  },
  {
   "cell_type": "code",
   "execution_count": 11,
   "metadata": {},
   "outputs": [
    {
     "data": {
      "text/html": [
       "<div>\n",
       "<style scoped>\n",
       "    .dataframe tbody tr th:only-of-type {\n",
       "        vertical-align: middle;\n",
       "    }\n",
       "\n",
       "    .dataframe tbody tr th {\n",
       "        vertical-align: top;\n",
       "    }\n",
       "\n",
       "    .dataframe thead th {\n",
       "        text-align: right;\n",
       "    }\n",
       "</style>\n",
       "<table border=\"1\" class=\"dataframe\">\n",
       "  <thead>\n",
       "    <tr style=\"text-align: right;\">\n",
       "      <th></th>\n",
       "      <th>Violation</th>\n",
       "    </tr>\n",
       "  </thead>\n",
       "  <tbody>\n",
       "    <tr>\n",
       "      <th>2082</th>\n",
       "      <td>1</td>\n",
       "    </tr>\n",
       "    <tr>\n",
       "      <th>2083</th>\n",
       "      <td>0</td>\n",
       "    </tr>\n",
       "    <tr>\n",
       "      <th>2084</th>\n",
       "      <td>1</td>\n",
       "    </tr>\n",
       "    <tr>\n",
       "      <th>2094</th>\n",
       "      <td>0</td>\n",
       "    </tr>\n",
       "    <tr>\n",
       "      <th>2883</th>\n",
       "      <td>0</td>\n",
       "    </tr>\n",
       "  </tbody>\n",
       "</table>\n",
       "</div>"
      ],
      "text/plain": [
       "      Violation\n",
       "2082          1\n",
       "2083          0\n",
       "2084          1\n",
       "2094          0\n",
       "2883          0"
      ]
     },
     "execution_count": 11,
     "metadata": {},
     "output_type": "execute_result"
    }
   ],
   "source": [
    "features = pd.DataFrame()\n",
    "features['Violation'] = labels\n",
    "boiler_complaints['Violation'] = labels\n",
    "features.head()"
   ]
  },
  {
   "cell_type": "code",
   "execution_count": 12,
   "metadata": {},
   "outputs": [],
   "source": [
    "def violation_ratio_test(column):\n",
    "    return features.groupby(column)['Violation'].sum() / features.groupby(column).count()['Violation']"
   ]
  },
  {
   "cell_type": "markdown",
   "metadata": {},
   "source": [
    "### Boiler Category / Priority"
   ]
  },
  {
   "cell_type": "code",
   "execution_count": 13,
   "metadata": {},
   "outputs": [
    {
     "data": {
      "text/plain": [
       "58    17525\n",
       "Name: Complaint Category, dtype: int64"
      ]
     },
     "execution_count": 13,
     "metadata": {},
     "output_type": "execute_result"
    }
   ],
   "source": [
    "boiler_complaints['Complaint Category'].value_counts()"
   ]
  },
  {
   "cell_type": "code",
   "execution_count": 14,
   "metadata": {
    "scrolled": false
   },
   "outputs": [],
   "source": [
    "boiler_complaints['Complaint Category'] = boiler_complaints['Complaint Category'].astype('category')\n",
    "boiler_complaints['Complaint Category'] = boiler_complaints['Complaint Category'].cat.codes\n",
    "features['Complaint Category'] = boiler_complaints['Complaint Category']"
   ]
  },
  {
   "cell_type": "code",
   "execution_count": 15,
   "metadata": {},
   "outputs": [
    {
     "data": {
      "text/plain": [
       "Complaint Category\n",
       "0    0.524793\n",
       "Name: Violation, dtype: float64"
      ]
     },
     "execution_count": 15,
     "metadata": {},
     "output_type": "execute_result"
    }
   ],
   "source": [
    "violation_ratio_test('Complaint Category')"
   ]
  },
  {
   "cell_type": "markdown",
   "metadata": {},
   "source": [
    "### Number of previous boiler complaints"
   ]
  },
  {
   "cell_type": "code",
   "execution_count": 16,
   "metadata": {},
   "outputs": [],
   "source": [
    "def get_previous_complaints(row):\n",
    "    # Get all of complaings with same BIN\n",
    "    # remove complaints with same complaint number\n",
    "    # get total of violation (could even do violation ratio)\n",
    "    bin_complaints = boiler_complaints[boiler_complaints['BIN'] == row['BIN']]\n",
    "    bin_complaints = bin_complaints[boiler_complaints['Complaint Number'] != row['Complaint Number']]\n",
    "    return len(bin_complaints)"
   ]
  },
  {
   "cell_type": "code",
   "execution_count": 17,
   "metadata": {},
   "outputs": [
    {
     "name": "stderr",
     "output_type": "stream",
     "text": [
      "/usr/local/lib/python3.7/site-packages/ipykernel_launcher.py:6: UserWarning: Boolean Series key will be reindexed to match DataFrame index.\n",
      "  \n"
     ]
    }
   ],
   "source": [
    "features['Previous Complaints'] = boiler_complaints.apply(get_previous_complaints, axis=1 )"
   ]
  },
  {
   "cell_type": "code",
   "execution_count": 18,
   "metadata": {},
   "outputs": [
    {
     "data": {
      "text/plain": [
       "0     9125\n",
       "1     3262\n",
       "2     1638\n",
       "3      836\n",
       "4      505\n",
       "5      312\n",
       "6      308\n",
       "7      200\n",
       "9      170\n",
       "8      135\n",
       "10     132\n",
       "13      98\n",
       "40      82\n",
       "14      75\n",
       "73      74\n",
       "22      69\n",
       "66      67\n",
       "12      65\n",
       "11      60\n",
       "51      52\n",
       "16      51\n",
       "19      40\n",
       "36      37\n",
       "17      36\n",
       "26      27\n",
       "25      26\n",
       "21      22\n",
       "20      21\n",
       "Name: Previous Complaints, dtype: int64"
      ]
     },
     "execution_count": 18,
     "metadata": {},
     "output_type": "execute_result"
    }
   ],
   "source": [
    "features['Previous Complaints'].value_counts()"
   ]
  },
  {
   "cell_type": "code",
   "execution_count": 19,
   "metadata": {
    "scrolled": true
   },
   "outputs": [
    {
     "data": {
      "text/plain": [
       "Previous Complaints\n",
       "0     0.543562\n",
       "1     0.532189\n",
       "2     0.559829\n",
       "3     0.531100\n",
       "4     0.499010\n",
       "5     0.500000\n",
       "6     0.542208\n",
       "7     0.340000\n",
       "8     0.503704\n",
       "9     0.441176\n",
       "10    0.416667\n",
       "11    0.300000\n",
       "12    0.523077\n",
       "13    0.285714\n",
       "14    0.440000\n",
       "16    0.254902\n",
       "17    0.222222\n",
       "19    0.400000\n",
       "20    0.047619\n",
       "21    0.636364\n",
       "22    0.492754\n",
       "25    0.346154\n",
       "26    0.296296\n",
       "36    0.216216\n",
       "40    0.256098\n",
       "51    0.326923\n",
       "66    0.283582\n",
       "73    0.243243\n",
       "Name: Violation, dtype: float64"
      ]
     },
     "execution_count": 19,
     "metadata": {},
     "output_type": "execute_result"
    }
   ],
   "source": [
    "violation_ratio_test('Previous Complaints')"
   ]
  },
  {
   "cell_type": "code",
   "execution_count": 20,
   "metadata": {},
   "outputs": [],
   "source": [
    "# The less previous complaints a building has, the more likely it is the complaint will result in a violation"
   ]
  },
  {
   "cell_type": "code",
   "execution_count": 21,
   "metadata": {},
   "outputs": [
    {
     "data": {
      "text/html": [
       "<div>\n",
       "<style scoped>\n",
       "    .dataframe tbody tr th:only-of-type {\n",
       "        vertical-align: middle;\n",
       "    }\n",
       "\n",
       "    .dataframe tbody tr th {\n",
       "        vertical-align: top;\n",
       "    }\n",
       "\n",
       "    .dataframe thead th {\n",
       "        text-align: right;\n",
       "    }\n",
       "</style>\n",
       "<table border=\"1\" class=\"dataframe\">\n",
       "  <thead>\n",
       "    <tr style=\"text-align: right;\">\n",
       "      <th></th>\n",
       "      <th>Complaint Number</th>\n",
       "      <th>Status</th>\n",
       "      <th>Date Entered</th>\n",
       "      <th>House Number</th>\n",
       "      <th>ZIP Code</th>\n",
       "      <th>House Street</th>\n",
       "      <th>BIN</th>\n",
       "      <th>Community Board</th>\n",
       "      <th>Special District</th>\n",
       "      <th>Complaint Category</th>\n",
       "      <th>Unit</th>\n",
       "      <th>Disposition Date</th>\n",
       "      <th>Disposition Code</th>\n",
       "      <th>Inspection Date</th>\n",
       "      <th>DOBRunDate</th>\n",
       "      <th>Violation</th>\n",
       "    </tr>\n",
       "  </thead>\n",
       "  <tbody>\n",
       "    <tr>\n",
       "      <th>127622</th>\n",
       "      <td>1134056</td>\n",
       "      <td>CLOSED</td>\n",
       "      <td>12/19/2004</td>\n",
       "      <td>139</td>\n",
       "      <td>10001</td>\n",
       "      <td>WEST   28 STREET</td>\n",
       "      <td>1015102</td>\n",
       "      <td>105</td>\n",
       "      <td></td>\n",
       "      <td>0</td>\n",
       "      <td>BOILR</td>\n",
       "      <td>01/24/2005</td>\n",
       "      <td>I2</td>\n",
       "      <td>2005-01-18</td>\n",
       "      <td>11/07/2018 12:00:00 AM</td>\n",
       "      <td>0</td>\n",
       "    </tr>\n",
       "    <tr>\n",
       "      <th>181203</th>\n",
       "      <td>1190768</td>\n",
       "      <td>CLOSED</td>\n",
       "      <td>04/10/2007</td>\n",
       "      <td>139</td>\n",
       "      <td>10001</td>\n",
       "      <td>WEST   28 STREET</td>\n",
       "      <td>1015102</td>\n",
       "      <td>105</td>\n",
       "      <td></td>\n",
       "      <td>0</td>\n",
       "      <td>BOILR</td>\n",
       "      <td>05/04/2007</td>\n",
       "      <td>A1</td>\n",
       "      <td>2007-04-27</td>\n",
       "      <td>11/07/2018 12:00:00 AM</td>\n",
       "      <td>1</td>\n",
       "    </tr>\n",
       "  </tbody>\n",
       "</table>\n",
       "</div>"
      ],
      "text/plain": [
       "        Complaint Number  Status Date Entered  House Number   ZIP Code  \\\n",
       "127622           1134056  CLOSED   12/19/2004  139           10001       \n",
       "181203           1190768  CLOSED   04/10/2007  139           10001       \n",
       "\n",
       "                            House Street      BIN Community Board  \\\n",
       "127622  WEST   28 STREET                  1015102             105   \n",
       "181203  WEST   28 STREET                  1015102             105   \n",
       "\n",
       "       Special District  Complaint Category   Unit Disposition Date  \\\n",
       "127622                                    0  BOILR       01/24/2005   \n",
       "181203                                    0  BOILR       05/04/2007   \n",
       "\n",
       "       Disposition Code Inspection Date              DOBRunDate  Violation  \n",
       "127622               I2      2005-01-18  11/07/2018 12:00:00 AM          0  \n",
       "181203               A1      2007-04-27  11/07/2018 12:00:00 AM          1  "
      ]
     },
     "execution_count": 21,
     "metadata": {},
     "output_type": "execute_result"
    }
   ],
   "source": [
    "# Checking to make sure these aren't duplicate \n",
    "boiler_complaints[boiler_complaints['BIN'] == 1015102]"
   ]
  },
  {
   "cell_type": "markdown",
   "metadata": {},
   "source": [
    "### Number of previous boiler violations\n",
    "TODO: might be better for this to come from the DOB Violation dataset?\n",
    "\n",
    "Make sure current complaint is not included in the number of previous violations! (This would include the label in the features... yikes man)"
   ]
  },
  {
   "cell_type": "code",
   "execution_count": 22,
   "metadata": {},
   "outputs": [],
   "source": [
    "def get_previous_violations(row):\n",
    "    # Get all of complaings with same BIN\n",
    "    # remove complaints with same complaint number\n",
    "    # get total of violation (could even do violation ratio)\n",
    "    bin_complaints = boiler_complaints[boiler_complaints['BIN'] == row['BIN']]\n",
    "    bin_complaints = bin_complaints[bin_complaints['Violation'] == 1]\n",
    "    bin_complaints = bin_complaints[boiler_complaints['Complaint Number'] != row['Complaint Number']]\n",
    "    return len(bin_complaints)"
   ]
  },
  {
   "cell_type": "code",
   "execution_count": 23,
   "metadata": {},
   "outputs": [],
   "source": [
    "# # get_previous_violations test\n",
    "# for row in boiler_complaints.iterrows():\n",
    "#     num_previous_complaints = get_previous_violations(row[1])\n",
    "#     print(num_previous_complaints)\n",
    "# #     break"
   ]
  },
  {
   "cell_type": "code",
   "execution_count": 24,
   "metadata": {},
   "outputs": [
    {
     "name": "stderr",
     "output_type": "stream",
     "text": [
      "/usr/local/lib/python3.7/site-packages/ipykernel_launcher.py:7: UserWarning: Boolean Series key will be reindexed to match DataFrame index.\n",
      "  import sys\n"
     ]
    }
   ],
   "source": [
    "features['Previous Violations'] = boiler_complaints.apply(get_previous_violations, axis=1 )"
   ]
  },
  {
   "cell_type": "code",
   "execution_count": 25,
   "metadata": {},
   "outputs": [
    {
     "data": {
      "text/plain": [
       "0     11411\n",
       "1      2903\n",
       "2      1282\n",
       "3       644\n",
       "4       342\n",
       "5       231\n",
       "6       151\n",
       "8       120\n",
       "18       98\n",
       "7        95\n",
       "17       71\n",
       "19       48\n",
       "9        47\n",
       "13       28\n",
       "21       22\n",
       "16       17\n",
       "14       14\n",
       "22        1\n",
       "Name: Previous Violations, dtype: int64"
      ]
     },
     "execution_count": 25,
     "metadata": {},
     "output_type": "execute_result"
    }
   ],
   "source": [
    "features['Previous Violations'].value_counts()"
   ]
  },
  {
   "cell_type": "code",
   "execution_count": 26,
   "metadata": {},
   "outputs": [
    {
     "data": {
      "text/plain": [
       "Previous Violations\n",
       "0     0.512225\n",
       "1     0.542198\n",
       "2     0.641186\n",
       "3     0.478261\n",
       "4     0.599415\n",
       "5     0.597403\n",
       "6     0.463576\n",
       "7     0.421053\n",
       "8     0.525000\n",
       "9     0.212766\n",
       "13    1.000000\n",
       "14    0.000000\n",
       "16    1.000000\n",
       "17    0.507042\n",
       "18    0.193878\n",
       "19    0.000000\n",
       "21    1.000000\n",
       "22    0.000000\n",
       "Name: Violation, dtype: float64"
      ]
     },
     "execution_count": 26,
     "metadata": {},
     "output_type": "execute_result"
    }
   ],
   "source": [
    "violation_ratio_test('Previous Violations')"
   ]
  },
  {
   "cell_type": "markdown",
   "metadata": {},
   "source": [
    "### Number of previous boiler violations / complaints ratio"
   ]
  },
  {
   "cell_type": "code",
   "execution_count": 27,
   "metadata": {},
   "outputs": [
    {
     "data": {
      "text/html": [
       "<div>\n",
       "<style scoped>\n",
       "    .dataframe tbody tr th:only-of-type {\n",
       "        vertical-align: middle;\n",
       "    }\n",
       "\n",
       "    .dataframe tbody tr th {\n",
       "        vertical-align: top;\n",
       "    }\n",
       "\n",
       "    .dataframe thead th {\n",
       "        text-align: right;\n",
       "    }\n",
       "</style>\n",
       "<table border=\"1\" class=\"dataframe\">\n",
       "  <thead>\n",
       "    <tr style=\"text-align: right;\">\n",
       "      <th></th>\n",
       "      <th>Violation</th>\n",
       "      <th>Complaint Category</th>\n",
       "      <th>Previous Complaints</th>\n",
       "      <th>Previous Violations</th>\n",
       "      <th>Violation Ratio</th>\n",
       "    </tr>\n",
       "  </thead>\n",
       "  <tbody>\n",
       "    <tr>\n",
       "      <th>2082</th>\n",
       "      <td>1</td>\n",
       "      <td>0</td>\n",
       "      <td>0</td>\n",
       "      <td>0</td>\n",
       "      <td>0.000000</td>\n",
       "    </tr>\n",
       "    <tr>\n",
       "      <th>2083</th>\n",
       "      <td>0</td>\n",
       "      <td>0</td>\n",
       "      <td>3</td>\n",
       "      <td>2</td>\n",
       "      <td>0.666667</td>\n",
       "    </tr>\n",
       "    <tr>\n",
       "      <th>2084</th>\n",
       "      <td>1</td>\n",
       "      <td>0</td>\n",
       "      <td>0</td>\n",
       "      <td>0</td>\n",
       "      <td>0.000000</td>\n",
       "    </tr>\n",
       "    <tr>\n",
       "      <th>2094</th>\n",
       "      <td>0</td>\n",
       "      <td>0</td>\n",
       "      <td>0</td>\n",
       "      <td>0</td>\n",
       "      <td>0.000000</td>\n",
       "    </tr>\n",
       "    <tr>\n",
       "      <th>2883</th>\n",
       "      <td>0</td>\n",
       "      <td>0</td>\n",
       "      <td>1</td>\n",
       "      <td>1</td>\n",
       "      <td>1.000000</td>\n",
       "    </tr>\n",
       "  </tbody>\n",
       "</table>\n",
       "</div>"
      ],
      "text/plain": [
       "      Violation  Complaint Category  Previous Complaints  Previous Violations  \\\n",
       "2082          1                   0                    0                    0   \n",
       "2083          0                   0                    3                    2   \n",
       "2084          1                   0                    0                    0   \n",
       "2094          0                   0                    0                    0   \n",
       "2883          0                   0                    1                    1   \n",
       "\n",
       "      Violation Ratio  \n",
       "2082         0.000000  \n",
       "2083         0.666667  \n",
       "2084         0.000000  \n",
       "2094         0.000000  \n",
       "2883         1.000000  "
      ]
     },
     "execution_count": 27,
     "metadata": {},
     "output_type": "execute_result"
    }
   ],
   "source": [
    "features['Violation Ratio'] = (features['Previous Violations'] / features['Previous Complaints']).fillna(0)\n",
    "features.head()"
   ]
  },
  {
   "cell_type": "code",
   "execution_count": 28,
   "metadata": {},
   "outputs": [
    {
     "name": "stdout",
     "output_type": "stream",
     "text": [
      "0.000000    11411\n",
      "1.000000     2679\n",
      "0.500000      922\n",
      "0.666667      416\n",
      "0.333333      282\n",
      "0.250000      156\n",
      "0.750000      135\n",
      "0.200000       90\n",
      "0.600000       88\n",
      "0.428571       72\n",
      "0.285714       62\n",
      "0.800000       61\n",
      "0.400000       59\n",
      "0.246575       56\n",
      "0.222222       51\n",
      "0.272727       48\n",
      "0.287879       48\n",
      "0.142857       47\n",
      "0.833333       44\n",
      "0.075000       38\n",
      "0.375000       33\n",
      "0.076923       28\n",
      "0.444444       27\n",
      "0.125000       27\n",
      "0.571429       26\n",
      "0.307692       24\n",
      "0.050000       23\n",
      "0.450000       23\n",
      "0.625000       22\n",
      "0.954545       22\n",
      "            ...  \n",
      "0.888889       11\n",
      "0.181818       11\n",
      "0.230769       11\n",
      "0.777778       11\n",
      "0.437500       10\n",
      "0.714286        9\n",
      "0.857143        9\n",
      "0.615385        9\n",
      "0.384615        9\n",
      "0.320000        9\n",
      "0.700000        8\n",
      "0.363636        8\n",
      "0.636364        8\n",
      "0.269231        8\n",
      "0.194444        8\n",
      "0.461538        7\n",
      "0.538462        7\n",
      "0.642857        6\n",
      "0.736842        6\n",
      "0.416667        6\n",
      "0.294118        6\n",
      "0.583333        6\n",
      "0.692308        5\n",
      "0.727273        4\n",
      "0.187500        4\n",
      "0.875000        4\n",
      "0.058824        2\n",
      "0.062500        2\n",
      "0.100000        2\n",
      "0.052632        2\n",
      "Name: Violation Ratio, Length: 77, dtype: int64\n"
     ]
    },
    {
     "data": {
      "text/plain": [
       "Violation Ratio\n",
       "0.000000    0.512225\n",
       "0.050000    0.130435\n",
       "0.052632    1.000000\n",
       "0.058824    1.000000\n",
       "0.062500    1.000000\n",
       "0.075000    0.000000\n",
       "0.076923    0.071429\n",
       "0.100000    1.000000\n",
       "0.105263    0.000000\n",
       "0.111111    0.181818\n",
       "0.117647    0.000000\n",
       "0.125000    0.148148\n",
       "0.142857    0.255319\n",
       "0.153846    0.200000\n",
       "0.166667    0.368421\n",
       "0.181818    1.000000\n",
       "0.187500    1.000000\n",
       "0.194444    1.000000\n",
       "0.200000    0.177778\n",
       "0.222222    0.117647\n",
       "0.227273    0.000000\n",
       "0.230769    0.000000\n",
       "0.232877    1.000000\n",
       "0.246575    0.000000\n",
       "0.250000    0.301282\n",
       "0.269231    1.000000\n",
       "0.272727    0.625000\n",
       "0.285714    0.419355\n",
       "0.287879    0.000000\n",
       "0.294118    1.000000\n",
       "              ...   \n",
       "0.444444    0.555556\n",
       "0.450000    0.000000\n",
       "0.461538    1.000000\n",
       "0.500000    0.544469\n",
       "0.538462    0.000000\n",
       "0.555556    0.285714\n",
       "0.571429    0.538462\n",
       "0.583333    0.000000\n",
       "0.600000    0.409091\n",
       "0.615385    1.000000\n",
       "0.619048    1.000000\n",
       "0.625000    0.818182\n",
       "0.636364    1.000000\n",
       "0.642857    0.000000\n",
       "0.666667    0.706731\n",
       "0.684211    1.000000\n",
       "0.692308    0.000000\n",
       "0.700000    1.000000\n",
       "0.714286    0.666667\n",
       "0.727273    0.000000\n",
       "0.736842    0.000000\n",
       "0.750000    0.548148\n",
       "0.777778    0.727273\n",
       "0.800000    0.655738\n",
       "0.833333    0.545455\n",
       "0.857143    0.777778\n",
       "0.875000    0.000000\n",
       "0.888889    0.818182\n",
       "0.954545    1.000000\n",
       "1.000000    0.655842\n",
       "Name: Violation, Length: 77, dtype: float64"
      ]
     },
     "execution_count": 28,
     "metadata": {},
     "output_type": "execute_result"
    }
   ],
   "source": [
    "print(features['Violation Ratio'].value_counts())\n",
    "violation_ratio_test('Violation Ratio')"
   ]
  },
  {
   "cell_type": "code",
   "execution_count": 29,
   "metadata": {},
   "outputs": [
    {
     "data": {
      "text/html": [
       "<div>\n",
       "<style scoped>\n",
       "    .dataframe tbody tr th:only-of-type {\n",
       "        vertical-align: middle;\n",
       "    }\n",
       "\n",
       "    .dataframe tbody tr th {\n",
       "        vertical-align: top;\n",
       "    }\n",
       "\n",
       "    .dataframe thead th {\n",
       "        text-align: right;\n",
       "    }\n",
       "</style>\n",
       "<table border=\"1\" class=\"dataframe\">\n",
       "  <thead>\n",
       "    <tr style=\"text-align: right;\">\n",
       "      <th></th>\n",
       "      <th>Violation</th>\n",
       "      <th>Complaint Category</th>\n",
       "      <th>Previous Complaints</th>\n",
       "      <th>Previous Violations</th>\n",
       "      <th>Violation Ratio</th>\n",
       "      <th>ZIP Code</th>\n",
       "    </tr>\n",
       "  </thead>\n",
       "  <tbody>\n",
       "    <tr>\n",
       "      <th>2082</th>\n",
       "      <td>1</td>\n",
       "      <td>0</td>\n",
       "      <td>0</td>\n",
       "      <td>0</td>\n",
       "      <td>0.000000</td>\n",
       "      <td>64</td>\n",
       "    </tr>\n",
       "    <tr>\n",
       "      <th>2083</th>\n",
       "      <td>0</td>\n",
       "      <td>0</td>\n",
       "      <td>3</td>\n",
       "      <td>2</td>\n",
       "      <td>0.666667</td>\n",
       "      <td>72</td>\n",
       "    </tr>\n",
       "    <tr>\n",
       "      <th>2084</th>\n",
       "      <td>1</td>\n",
       "      <td>0</td>\n",
       "      <td>0</td>\n",
       "      <td>0</td>\n",
       "      <td>0.000000</td>\n",
       "      <td>49</td>\n",
       "    </tr>\n",
       "    <tr>\n",
       "      <th>2094</th>\n",
       "      <td>0</td>\n",
       "      <td>0</td>\n",
       "      <td>0</td>\n",
       "      <td>0</td>\n",
       "      <td>0.000000</td>\n",
       "      <td>83</td>\n",
       "    </tr>\n",
       "    <tr>\n",
       "      <th>2883</th>\n",
       "      <td>0</td>\n",
       "      <td>0</td>\n",
       "      <td>1</td>\n",
       "      <td>1</td>\n",
       "      <td>1.000000</td>\n",
       "      <td>70</td>\n",
       "    </tr>\n",
       "  </tbody>\n",
       "</table>\n",
       "</div>"
      ],
      "text/plain": [
       "      Violation  Complaint Category  Previous Complaints  Previous Violations  \\\n",
       "2082          1                   0                    0                    0   \n",
       "2083          0                   0                    3                    2   \n",
       "2084          1                   0                    0                    0   \n",
       "2094          0                   0                    0                    0   \n",
       "2883          0                   0                    1                    1   \n",
       "\n",
       "      Violation Ratio  ZIP Code  \n",
       "2082         0.000000        64  \n",
       "2083         0.666667        72  \n",
       "2084         0.000000        49  \n",
       "2094         0.000000        83  \n",
       "2883         1.000000        70  "
      ]
     },
     "execution_count": 29,
     "metadata": {},
     "output_type": "execute_result"
    }
   ],
   "source": [
    "features['ZIP Code'] = boiler_complaints['ZIP Code'].astype('category').cat.codes\n",
    "features.head()"
   ]
  },
  {
   "cell_type": "markdown",
   "metadata": {},
   "source": [
    "# Boiler make"
   ]
  },
  {
   "cell_type": "code",
   "execution_count": 30,
   "metadata": {},
   "outputs": [
    {
     "ename": "FileNotFoundError",
     "evalue": "[Errno 2] File b'data/DOB_NOW_Boiler_Safety.csv' does not exist: b'data/DOB_NOW_Boiler_Safety.csv'",
     "output_type": "error",
     "traceback": [
      "\u001b[0;31m---------------------------------------------------------------------------\u001b[0m",
      "\u001b[0;31mFileNotFoundError\u001b[0m                         Traceback (most recent call last)",
      "\u001b[0;32m<ipython-input-30-424a38f88e9a>\u001b[0m in \u001b[0;36m<module>\u001b[0;34m\u001b[0m\n\u001b[0;32m----> 1\u001b[0;31m \u001b[0mboiler_inspections\u001b[0m \u001b[0;34m=\u001b[0m \u001b[0mpd\u001b[0m\u001b[0;34m.\u001b[0m\u001b[0mread_csv\u001b[0m\u001b[0;34m(\u001b[0m\u001b[0;34m'data/DOB_NOW_Boiler_Safety.csv'\u001b[0m\u001b[0;34m)\u001b[0m\u001b[0;34m\u001b[0m\u001b[0;34m\u001b[0m\u001b[0m\n\u001b[0m\u001b[1;32m      2\u001b[0m \u001b[0mlist\u001b[0m\u001b[0;34m(\u001b[0m\u001b[0mboiler_inspections\u001b[0m\u001b[0;34m)\u001b[0m\u001b[0;34m\u001b[0m\u001b[0;34m\u001b[0m\u001b[0m\n",
      "\u001b[0;32m/usr/local/lib/python3.7/site-packages/pandas/io/parsers.py\u001b[0m in \u001b[0;36mparser_f\u001b[0;34m(filepath_or_buffer, sep, delimiter, header, names, index_col, usecols, squeeze, prefix, mangle_dupe_cols, dtype, engine, converters, true_values, false_values, skipinitialspace, skiprows, skipfooter, nrows, na_values, keep_default_na, na_filter, verbose, skip_blank_lines, parse_dates, infer_datetime_format, keep_date_col, date_parser, dayfirst, iterator, chunksize, compression, thousands, decimal, lineterminator, quotechar, quoting, doublequote, escapechar, comment, encoding, dialect, tupleize_cols, error_bad_lines, warn_bad_lines, delim_whitespace, low_memory, memory_map, float_precision)\u001b[0m\n\u001b[1;32m    700\u001b[0m                     skip_blank_lines=skip_blank_lines)\n\u001b[1;32m    701\u001b[0m \u001b[0;34m\u001b[0m\u001b[0m\n\u001b[0;32m--> 702\u001b[0;31m         \u001b[0;32mreturn\u001b[0m \u001b[0m_read\u001b[0m\u001b[0;34m(\u001b[0m\u001b[0mfilepath_or_buffer\u001b[0m\u001b[0;34m,\u001b[0m \u001b[0mkwds\u001b[0m\u001b[0;34m)\u001b[0m\u001b[0;34m\u001b[0m\u001b[0;34m\u001b[0m\u001b[0m\n\u001b[0m\u001b[1;32m    703\u001b[0m \u001b[0;34m\u001b[0m\u001b[0m\n\u001b[1;32m    704\u001b[0m     \u001b[0mparser_f\u001b[0m\u001b[0;34m.\u001b[0m\u001b[0m__name__\u001b[0m \u001b[0;34m=\u001b[0m \u001b[0mname\u001b[0m\u001b[0;34m\u001b[0m\u001b[0;34m\u001b[0m\u001b[0m\n",
      "\u001b[0;32m/usr/local/lib/python3.7/site-packages/pandas/io/parsers.py\u001b[0m in \u001b[0;36m_read\u001b[0;34m(filepath_or_buffer, kwds)\u001b[0m\n\u001b[1;32m    427\u001b[0m \u001b[0;34m\u001b[0m\u001b[0m\n\u001b[1;32m    428\u001b[0m     \u001b[0;31m# Create the parser.\u001b[0m\u001b[0;34m\u001b[0m\u001b[0;34m\u001b[0m\u001b[0;34m\u001b[0m\u001b[0m\n\u001b[0;32m--> 429\u001b[0;31m     \u001b[0mparser\u001b[0m \u001b[0;34m=\u001b[0m \u001b[0mTextFileReader\u001b[0m\u001b[0;34m(\u001b[0m\u001b[0mfilepath_or_buffer\u001b[0m\u001b[0;34m,\u001b[0m \u001b[0;34m**\u001b[0m\u001b[0mkwds\u001b[0m\u001b[0;34m)\u001b[0m\u001b[0;34m\u001b[0m\u001b[0;34m\u001b[0m\u001b[0m\n\u001b[0m\u001b[1;32m    430\u001b[0m \u001b[0;34m\u001b[0m\u001b[0m\n\u001b[1;32m    431\u001b[0m     \u001b[0;32mif\u001b[0m \u001b[0mchunksize\u001b[0m \u001b[0;32mor\u001b[0m \u001b[0miterator\u001b[0m\u001b[0;34m:\u001b[0m\u001b[0;34m\u001b[0m\u001b[0;34m\u001b[0m\u001b[0m\n",
      "\u001b[0;32m/usr/local/lib/python3.7/site-packages/pandas/io/parsers.py\u001b[0m in \u001b[0;36m__init__\u001b[0;34m(self, f, engine, **kwds)\u001b[0m\n\u001b[1;32m    893\u001b[0m             \u001b[0mself\u001b[0m\u001b[0;34m.\u001b[0m\u001b[0moptions\u001b[0m\u001b[0;34m[\u001b[0m\u001b[0;34m'has_index_names'\u001b[0m\u001b[0;34m]\u001b[0m \u001b[0;34m=\u001b[0m \u001b[0mkwds\u001b[0m\u001b[0;34m[\u001b[0m\u001b[0;34m'has_index_names'\u001b[0m\u001b[0;34m]\u001b[0m\u001b[0;34m\u001b[0m\u001b[0;34m\u001b[0m\u001b[0m\n\u001b[1;32m    894\u001b[0m \u001b[0;34m\u001b[0m\u001b[0m\n\u001b[0;32m--> 895\u001b[0;31m         \u001b[0mself\u001b[0m\u001b[0;34m.\u001b[0m\u001b[0m_make_engine\u001b[0m\u001b[0;34m(\u001b[0m\u001b[0mself\u001b[0m\u001b[0;34m.\u001b[0m\u001b[0mengine\u001b[0m\u001b[0;34m)\u001b[0m\u001b[0;34m\u001b[0m\u001b[0;34m\u001b[0m\u001b[0m\n\u001b[0m\u001b[1;32m    896\u001b[0m \u001b[0;34m\u001b[0m\u001b[0m\n\u001b[1;32m    897\u001b[0m     \u001b[0;32mdef\u001b[0m \u001b[0mclose\u001b[0m\u001b[0;34m(\u001b[0m\u001b[0mself\u001b[0m\u001b[0;34m)\u001b[0m\u001b[0;34m:\u001b[0m\u001b[0;34m\u001b[0m\u001b[0;34m\u001b[0m\u001b[0m\n",
      "\u001b[0;32m/usr/local/lib/python3.7/site-packages/pandas/io/parsers.py\u001b[0m in \u001b[0;36m_make_engine\u001b[0;34m(self, engine)\u001b[0m\n\u001b[1;32m   1120\u001b[0m     \u001b[0;32mdef\u001b[0m \u001b[0m_make_engine\u001b[0m\u001b[0;34m(\u001b[0m\u001b[0mself\u001b[0m\u001b[0;34m,\u001b[0m \u001b[0mengine\u001b[0m\u001b[0;34m=\u001b[0m\u001b[0;34m'c'\u001b[0m\u001b[0;34m)\u001b[0m\u001b[0;34m:\u001b[0m\u001b[0;34m\u001b[0m\u001b[0;34m\u001b[0m\u001b[0m\n\u001b[1;32m   1121\u001b[0m         \u001b[0;32mif\u001b[0m \u001b[0mengine\u001b[0m \u001b[0;34m==\u001b[0m \u001b[0;34m'c'\u001b[0m\u001b[0;34m:\u001b[0m\u001b[0;34m\u001b[0m\u001b[0;34m\u001b[0m\u001b[0m\n\u001b[0;32m-> 1122\u001b[0;31m             \u001b[0mself\u001b[0m\u001b[0;34m.\u001b[0m\u001b[0m_engine\u001b[0m \u001b[0;34m=\u001b[0m \u001b[0mCParserWrapper\u001b[0m\u001b[0;34m(\u001b[0m\u001b[0mself\u001b[0m\u001b[0;34m.\u001b[0m\u001b[0mf\u001b[0m\u001b[0;34m,\u001b[0m \u001b[0;34m**\u001b[0m\u001b[0mself\u001b[0m\u001b[0;34m.\u001b[0m\u001b[0moptions\u001b[0m\u001b[0;34m)\u001b[0m\u001b[0;34m\u001b[0m\u001b[0;34m\u001b[0m\u001b[0m\n\u001b[0m\u001b[1;32m   1123\u001b[0m         \u001b[0;32melse\u001b[0m\u001b[0;34m:\u001b[0m\u001b[0;34m\u001b[0m\u001b[0;34m\u001b[0m\u001b[0m\n\u001b[1;32m   1124\u001b[0m             \u001b[0;32mif\u001b[0m \u001b[0mengine\u001b[0m \u001b[0;34m==\u001b[0m \u001b[0;34m'python'\u001b[0m\u001b[0;34m:\u001b[0m\u001b[0;34m\u001b[0m\u001b[0;34m\u001b[0m\u001b[0m\n",
      "\u001b[0;32m/usr/local/lib/python3.7/site-packages/pandas/io/parsers.py\u001b[0m in \u001b[0;36m__init__\u001b[0;34m(self, src, **kwds)\u001b[0m\n\u001b[1;32m   1851\u001b[0m         \u001b[0mkwds\u001b[0m\u001b[0;34m[\u001b[0m\u001b[0;34m'usecols'\u001b[0m\u001b[0;34m]\u001b[0m \u001b[0;34m=\u001b[0m \u001b[0mself\u001b[0m\u001b[0;34m.\u001b[0m\u001b[0musecols\u001b[0m\u001b[0;34m\u001b[0m\u001b[0;34m\u001b[0m\u001b[0m\n\u001b[1;32m   1852\u001b[0m \u001b[0;34m\u001b[0m\u001b[0m\n\u001b[0;32m-> 1853\u001b[0;31m         \u001b[0mself\u001b[0m\u001b[0;34m.\u001b[0m\u001b[0m_reader\u001b[0m \u001b[0;34m=\u001b[0m \u001b[0mparsers\u001b[0m\u001b[0;34m.\u001b[0m\u001b[0mTextReader\u001b[0m\u001b[0;34m(\u001b[0m\u001b[0msrc\u001b[0m\u001b[0;34m,\u001b[0m \u001b[0;34m**\u001b[0m\u001b[0mkwds\u001b[0m\u001b[0;34m)\u001b[0m\u001b[0;34m\u001b[0m\u001b[0;34m\u001b[0m\u001b[0m\n\u001b[0m\u001b[1;32m   1854\u001b[0m         \u001b[0mself\u001b[0m\u001b[0;34m.\u001b[0m\u001b[0munnamed_cols\u001b[0m \u001b[0;34m=\u001b[0m \u001b[0mself\u001b[0m\u001b[0;34m.\u001b[0m\u001b[0m_reader\u001b[0m\u001b[0;34m.\u001b[0m\u001b[0munnamed_cols\u001b[0m\u001b[0;34m\u001b[0m\u001b[0;34m\u001b[0m\u001b[0m\n\u001b[1;32m   1855\u001b[0m \u001b[0;34m\u001b[0m\u001b[0m\n",
      "\u001b[0;32mpandas/_libs/parsers.pyx\u001b[0m in \u001b[0;36mpandas._libs.parsers.TextReader.__cinit__\u001b[0;34m()\u001b[0m\n",
      "\u001b[0;32mpandas/_libs/parsers.pyx\u001b[0m in \u001b[0;36mpandas._libs.parsers.TextReader._setup_parser_source\u001b[0;34m()\u001b[0m\n",
      "\u001b[0;31mFileNotFoundError\u001b[0m: [Errno 2] File b'data/DOB_NOW_Boiler_Safety.csv' does not exist: b'data/DOB_NOW_Boiler_Safety.csv'"
     ]
    }
   ],
   "source": [
    "boiler_inspections = pd.read_csv('data/DOB_NOW_Boiler_Safety.csv')\n",
    "list(boiler_inspections)"
   ]
  },
  {
   "cell_type": "markdown",
   "metadata": {},
   "source": [
    "### Drop nan Boiler makes"
   ]
  },
  {
   "cell_type": "code",
   "execution_count": null,
   "metadata": {},
   "outputs": [],
   "source": [
    "boiler_features = ['Boiler Make', 'Defects Exist', 'Pressure Type']\n",
    "\n",
    "print(len(boiler_inspections))\n",
    "boiler_inspections = boiler_inspections.dropna(subset=boiler_features)\n",
    "print(len(boiler_inspections))"
   ]
  },
  {
   "cell_type": "code",
   "execution_count": null,
   "metadata": {
    "scrolled": true
   },
   "outputs": [],
   "source": [
    "print(\"{} types of models\".format(len(set(boiler_inspections['Boiler Model']))))\n",
    "print(\"{} types of makes\".format(len(set(boiler_inspections['Boiler Make']))))"
   ]
  },
  {
   "cell_type": "markdown",
   "metadata": {},
   "source": [
    "### Convert to to datetime"
   ]
  },
  {
   "cell_type": "code",
   "execution_count": null,
   "metadata": {},
   "outputs": [],
   "source": [
    "boiler_inspections['Inspection Date'] = pd.to_datetime(boiler_inspections['Inspection Date'])\n",
    "boiler_inspections['Defects Exist'] = boiler_inspections['Defects Exist'].map({'Yes': 1, 'No':0})"
   ]
  },
  {
   "cell_type": "markdown",
   "metadata": {},
   "source": [
    "### Clean boiler makes"
   ]
  },
  {
   "cell_type": "code",
   "execution_count": null,
   "metadata": {},
   "outputs": [],
   "source": [
    "from difflib import SequenceMatcher\n",
    "\n",
    "def similarity(a, b):\n",
    "#     print(a)\n",
    "#     print(b)\n",
    "#     print()\n",
    "    return SequenceMatcher(None, a, b).ratio()"
   ]
  },
  {
   "cell_type": "code",
   "execution_count": null,
   "metadata": {
    "scrolled": true
   },
   "outputs": [],
   "source": [
    "print(\"[similarity()] tests\")\n",
    "print(similarity('LOCH-CERST', 'LOCH-CREST'))\n",
    "print(similarity('WEIL MCLAIN', 'BEST'))\n",
    "print(similarity('H B SMITH NEW', 'SMITH    H'))\n",
    "print()\n",
    "# create maping of a make to the other spellings\n",
    "makes = {}\n",
    "\n",
    "for make in set(boiler_inspections['Boiler Make']):\n",
    "    # is there something similar in the set of keys? if so put it in the values, if not, create a new key\n",
    "#     print(f\"looking at {make}\")\n",
    "    threshold = 0.6\n",
    "    found_key = ''\n",
    "    \n",
    "    for key in makes.keys():\n",
    "        sim = similarity(key, make)\n",
    "        if sim >= threshold:\n",
    "            found_key = key\n",
    "            break\n",
    "        else:\n",
    "            continue\n",
    "    \n",
    "    if found_key != '':\n",
    "#         print(found_key)\n",
    "        makes[found_key].append(make)\n",
    "    else:\n",
    "        makes[make] = [make]\n",
    "#     print(makes)"
   ]
  },
  {
   "cell_type": "code",
   "execution_count": null,
   "metadata": {},
   "outputs": [],
   "source": [
    "print(len(makes.keys()))\n",
    "# invert the mapping\n",
    "inverted_makes = {}\n",
    "\n",
    "for make_key, make_values in makes.items():\n",
    "    for m in make_values:\n",
    "        inverted_makes[m] = make_key\n",
    "        \n",
    "inverted_makes"
   ]
  },
  {
   "cell_type": "code",
   "execution_count": null,
   "metadata": {},
   "outputs": [],
   "source": [
    "# complete the mapping\n",
    "boiler_inspections['Boiler Make'] = boiler_inspections['Boiler Make'].map(inverted_makes)"
   ]
  },
  {
   "cell_type": "markdown",
   "metadata": {},
   "source": [
    "### Question: What are the most popular boilers?"
   ]
  },
  {
   "cell_type": "code",
   "execution_count": null,
   "metadata": {},
   "outputs": [],
   "source": [
    "top_makes = boiler_inspections.groupby('Boiler Make').count().sort_values(by='Bin Number', ascending=False)['Tracking Number'].head()\n",
    "top_makes"
   ]
  },
  {
   "cell_type": "markdown",
   "metadata": {},
   "source": [
    "### Question: Which boiler makes have the highest rate of defects?"
   ]
  },
  {
   "cell_type": "code",
   "execution_count": null,
   "metadata": {},
   "outputs": [],
   "source": [
    "boiler_make_numerator = boiler_inspections.groupby('Boiler Make').sum()['Defects Exist']\n",
    "\n",
    "boiler_make_denominator = boiler_inspections.groupby('Boiler Make').count()['Boiler ID']\n",
    "\n",
    "defect_make_ratio = boiler_make_numerator / boiler_make_denominator"
   ]
  },
  {
   "cell_type": "code",
   "execution_count": null,
   "metadata": {},
   "outputs": [],
   "source": [
    "# of the top 5 boilers, which are the most defective?\n",
    "for make in top_makes.index:\n",
    "    print(\"Make: {} ---- defect ratio: {}\".format(make, defect_make_ratio[make]))\n",
    "    print()"
   ]
  },
  {
   "cell_type": "code",
   "execution_count": null,
   "metadata": {
    "scrolled": true
   },
   "outputs": [],
   "source": [
    "boiler_inspections.groupby('Bin Number').count()['Tracking Number'].sort_values(ascending=False)"
   ]
  },
  {
   "cell_type": "markdown",
   "metadata": {},
   "source": [
    "### Bin to boiler features"
   ]
  },
  {
   "cell_type": "code",
   "execution_count": null,
   "metadata": {},
   "outputs": [],
   "source": [
    "def bin_to_boiler(bn):\n",
    "    \"\"\" Returns the most recent boiler information for a given Bin.  None if no records.\"\"\"\n",
    "    return boiler_inspections[boiler_inspections['Bin Number'] == bn].sort_values(by='Inspection Date', ascending=False).head(1)"
   ]
  },
  {
   "cell_type": "code",
   "execution_count": null,
   "metadata": {
    "scrolled": false
   },
   "outputs": [],
   "source": [
    "bin_to_boiler(3071219)"
   ]
  },
  {
   "cell_type": "code",
   "execution_count": null,
   "metadata": {},
   "outputs": [],
   "source": [
    "# TODO: change this to get all relevant boiler features\n",
    "# boiler_feature_names = ['Pressure Type', 'Boiler Make']\n",
    "\n",
    "def get_boiler_feature(feature):\n",
    "    boiler_features = []\n",
    "    for row in boiler_complaints.iterrows():\n",
    "        boiler_info = bin_to_boiler(row[1]['BIN'])\n",
    "        \n",
    "        boiler_feature = boiler_info[feature].values\n",
    "#         boiler_features.append(boiler_feature)\n",
    "        \n",
    "        if len(boiler_feature) > 0:\n",
    "            boiler_features.append(boiler_feature[0])\n",
    "#             print(boiler_feature[0])\n",
    "    #         print(type(boiler_info))\n",
    "#             break\n",
    "        else:\n",
    "            boiler_features.append(None)\n",
    "    #         print(len(boiler_features))\n",
    "\n",
    "#     #     index = boiler_complaints.index[boiler_complaints['BIN'] == row[1]['BIN']].values[0]\n",
    "\n",
    "    return boiler_features"
   ]
  },
  {
   "cell_type": "code",
   "execution_count": null,
   "metadata": {},
   "outputs": [],
   "source": [
    "features['Boiler Make'] = get_boiler_feature('Boiler Make')\n",
    "features['Pressure Type'] = get_boiler_feature('Pressure Type')\n",
    "print(features['Boiler Make'].head())"
   ]
  },
  {
   "cell_type": "code",
   "execution_count": null,
   "metadata": {
    "scrolled": true
   },
   "outputs": [],
   "source": [
    "features_with_boiler_features = features.dropna(subset=['Boiler Make'])\n",
    "\n",
    "print(\"Percent of complaints with boiler features: {}\".format(len(features_with_boiler_features) / len(features)))\n",
    "\n",
    "print(\"Percent of complaints with boiler features that result in a violation (balance): {}\".format(features_with_boiler_features['Violation'].sum() / len(features_with_boiler_features)))"
   ]
  },
  {
   "cell_type": "markdown",
   "metadata": {},
   "source": [
    "### Get number of previous defects"
   ]
  },
  {
   "cell_type": "code",
   "execution_count": null,
   "metadata": {},
   "outputs": [],
   "source": [
    "bin_to_defects = boiler_inspections.groupby('Bin Number').count()['Defects Exist']\n",
    "defects_column = []\n",
    "for row in boiler_complaints.iterrows():\n",
    "    try:\n",
    "        defects = bin_to_defects[row[1]['BIN']]\n",
    "    except:\n",
    "        defects = None\n",
    "        \n",
    "    defects_column.append(defects)"
   ]
  },
  {
   "cell_type": "code",
   "execution_count": null,
   "metadata": {},
   "outputs": [],
   "source": [
    "features['Defects'] = defects_column"
   ]
  },
  {
   "cell_type": "code",
   "execution_count": null,
   "metadata": {},
   "outputs": [],
   "source": [
    "features = features.dropna(subset=['Boiler Make'])\n",
    "features['Boiler Make'] = features['Boiler Make'].astype('category').cat.codes\n",
    "features['Pressure Type'] = features['Pressure Type'].astype('category').cat.codes\n",
    "features.head()"
   ]
  },
  {
   "cell_type": "markdown",
   "metadata": {},
   "source": [
    "### Question: Why do some complaints not have a BIN in the inspections?\n",
    "answer: idk"
   ]
  },
  {
   "cell_type": "markdown",
   "metadata": {},
   "source": [
    "# Model"
   ]
  },
  {
   "cell_type": "code",
   "execution_count": null,
   "metadata": {},
   "outputs": [],
   "source": [
    "from sklearn.ensemble import RandomForestClassifier\n",
    "from sklearn.model_selection import train_test_split"
   ]
  },
  {
   "cell_type": "code",
   "execution_count": null,
   "metadata": {},
   "outputs": [],
   "source": [
    "list(features)"
   ]
  },
  {
   "cell_type": "markdown",
   "metadata": {},
   "source": [
    "### Create Training and test splits"
   ]
  },
  {
   "cell_type": "code",
   "execution_count": null,
   "metadata": {
    "scrolled": true
   },
   "outputs": [],
   "source": [
    "y = features['Violation']\n",
    "X = features[['Violation Ratio', 'ZIP Code', 'Boiler Make', 'Previous Violations', 'Previous Complaints', 'Defects']]"
   ]
  },
  {
   "cell_type": "code",
   "execution_count": null,
   "metadata": {},
   "outputs": [],
   "source": [
    "X_train, X_test, y_train, y_test = train_test_split(X, y, test_size=0.6, random_state=None)"
   ]
  },
  {
   "cell_type": "code",
   "execution_count": null,
   "metadata": {},
   "outputs": [],
   "source": [
    "clf = RandomForestClassifier(n_estimators=1000, max_depth=7, random_state=None)\n",
    "clf.fit(X_train, y_train)\n",
    "\n",
    "print(list(X))\n",
    "print(clf.feature_importances_)\n",
    "print(clf.score(X_train, y_train))\n",
    "print(clf.score(X_test, y_test))"
   ]
  },
  {
   "cell_type": "code",
   "execution_count": null,
   "metadata": {},
   "outputs": [],
   "source": [
    "# Cross validate\n",
    "\n",
    "# Split the training data\n",
    "splits = 5\n",
    "kf = model_selection.KFold(n_splits = splits)\n",
    "\n",
    "# Train and fit a random forest on the training data\n",
    "for train_index, test_index in kf.split(X):\n",
    "    \n",
    "    # @TODO Get the right data\n",
    "    X_train_cross = X.iloc[train_index]\n",
    "    Y_train_cross = Y.iloc[train_index]\n",
    "    X_test_cross  = X.iloc[test_index]  \n",
    "    Y_test_cross  = Y.iloc[test_index]  \n",
    "\n",
    "    # @TODO Get the right data\n",
    "    # Convert labels to ints and reshape\n",
    "    Y_train_len = len(Y_train_cross.values)\n",
    "    Y_test_len  = len(Y_test_cross.values)\n",
    "    Y_train_cross = (Y_train_cross.values.reshape(Y_train_len,)).astype('int')\n",
    "    Y_test_cross  = (Y_test_cross.values.reshape(Y_test_len,)).astype('int')\n",
    "    \n",
    "    clf = RandomForestClassifier(n_estimators=1000, max_depth=7, random_state=None)\n",
    "    clf.fit(X_train_cross, Y_train_cross)\n",
    "\n",
    "    print(list(X))\n",
    "    print(clf.feature_importances_)\n",
    "    print(clf.score(X_train_cross, Y_train_cross))\n",
    "    print(clf.score(X_test_cross, Y_test_cross))\n"
   ]
  },
  {
   "cell_type": "code",
   "execution_count": null,
   "metadata": {},
   "outputs": [],
   "source": [
    "# Approximate hyperparams\n",
    "def approx_hp(depth_vals, num_tree_vals):\n",
    "    \n",
    "    for depth in depth_vals:\n",
    "\n",
    "        for num_trees in num_tree_vals:\n",
    "\n",
    "            # Define the model \n",
    "            clf = RandomForestRegressor(n_estimators = num_trees, max_depth = depth, random_state=None)\n",
    "\n",
    "            # Train the model\n",
    "            clf.fit(X_train, y_train)\n",
    "\n",
    "            # Check results\n",
    "            print(clf.feature_importances_)\n",
    "            print(clf.score(X_train, y_train))\n",
    "            print(clf.score(X_test, y_test))\n",
    "\n",
    "approx_hp([1, 3, 5, 10, 50, 100], [1, 3, 5, 10, 50, 100])\n"
   ]
  },
  {
   "cell_type": "markdown",
   "metadata": {},
   "source": [
    "### Metrics: wooo yaaay"
   ]
  },
  {
   "cell_type": "code",
   "execution_count": null,
   "metadata": {
    "scrolled": true
   },
   "outputs": [],
   "source": [
    "# Playing with n_estimators and max_depth improves metrics"
   ]
  },
  {
   "cell_type": "code",
   "execution_count": null,
   "metadata": {},
   "outputs": [],
   "source": [
    "from sklearn.metrics import roc_curve, auc\n",
    "import matplotlib.pyplot as plt"
   ]
  },
  {
   "cell_type": "markdown",
   "metadata": {},
   "source": [
    "# ROC Curve"
   ]
  },
  {
   "cell_type": "code",
   "execution_count": null,
   "metadata": {},
   "outputs": [],
   "source": [
    "y_predict_probs = clf.predict_proba(X_test)\n",
    "print(clf.classes_)\n",
    "print(y_predict_probs)\n",
    "\n",
    "fpr, tpr, thresholds = roc_curve(y_test, y_predict_probs[:,1])\n",
    "\n",
    "roc_auc = auc(fpr, tpr)\n",
    "\n",
    "plt.plot(fpr, tpr, lw=1, alpha=1,\n",
    "         label='ROC')\n",
    "\n",
    "plt.plot([0, 1], [0, 1], linestyle='--', lw=2, color='r',\n",
    "         label='Chance', alpha=.8)"
   ]
  },
  {
   "cell_type": "code",
   "execution_count": null,
   "metadata": {},
   "outputs": [],
   "source": [
    "# Most confident predictions\n",
    "sorted(y_predict_probs[:,1])[::-1]"
   ]
  }
 ],
 "metadata": {
  "anaconda-cloud": {},
  "kernelspec": {
   "display_name": "Python 3",
   "language": "python",
   "name": "python3"
  },
  "language_info": {
   "codemirror_mode": {
    "name": "ipython",
    "version": 3
   },
   "file_extension": ".py",
   "mimetype": "text/x-python",
   "name": "python",
   "nbconvert_exporter": "python",
   "pygments_lexer": "ipython3",
   "version": "3.7.3"
  }
 },
 "nbformat": 4,
 "nbformat_minor": 1
}
